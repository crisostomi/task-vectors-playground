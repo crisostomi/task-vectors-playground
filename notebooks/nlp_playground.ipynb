{
 "cells": [
  {
   "cell_type": "code",
   "execution_count": 8,
   "metadata": {},
   "outputs": [
    {
     "name": "stdout",
     "output_type": "stream",
     "text": [
      "The autoreload extension is already loaded. To reload it, use:\n",
      "  %reload_ext autoreload\n"
     ]
    }
   ],
   "source": [
    "%load_ext autoreload\n",
    "%autoreload 2"
   ]
  },
  {
   "cell_type": "code",
   "execution_count": 9,
   "metadata": {},
   "outputs": [
    {
     "data": {
      "text/plain": [
       "hydra.initialize()"
      ]
     },
     "execution_count": 9,
     "metadata": {},
     "output_type": "execute_result"
    }
   ],
   "source": [
    "import hydra\n",
    "from hydra import initialize, compose\n",
    "from typing import Dict, List\n",
    "from nn_core.common import PROJECT_ROOT\n",
    "\n",
    "hydra.core.global_hydra.GlobalHydra.instance().clear()\n",
    "initialize(version_base=None, config_path=str(\"../conf\"), job_name=\"finetune\")"
   ]
  },
  {
   "cell_type": "code",
   "execution_count": 10,
   "metadata": {},
   "outputs": [],
   "source": [
    "cfg = compose(config_name=\"finetune\", overrides=[])"
   ]
  },
  {
   "cell_type": "code",
   "execution_count": 11,
   "metadata": {},
   "outputs": [],
   "source": [
    "import logging\n",
    "import os\n",
    "import time\n",
    "from typing import Dict, List, Union\n",
    "\n",
    "import hydra\n",
    "import omegaconf\n",
    "import pytorch_lightning as pl\n",
    "import torch\n",
    "import torch.nn as nn\n",
    "import wandb\n",
    "from omegaconf import DictConfig, ListConfig\n",
    "from pytorch_lightning import Callback, LightningModule\n",
    "from tqdm import tqdm\n",
    "\n",
    "from nn_core.callbacks import NNTemplateCore\n",
    "from nn_core.common import PROJECT_ROOT\n",
    "from nn_core.common.utils import enforce_tags, seed_index_everything\n",
    "from nn_core.model_logging import NNLogger\n",
    "from nn_core.serialization import NNCheckpointIO\n",
    "\n",
    "from tvp.data.datasets.registry import get_text_dataset\n",
    "from tvp.modules.text_encoder import TextEncoder\n",
    "from tvp.modules.text_heads import get_classification_head\n",
    "from tvp.pl_module.text_classifier import TextClassifier\n",
    "from tvp.utils.io_utils import get_class, load_model_from_artifact\n",
    "from tvp.utils.utils import LabelSmoothing, build_callbacks\n",
    "\n",
    "pylogger = logging.getLogger(__name__)\n",
    "torch.set_float32_matmul_precision(\"high\")"
   ]
  },
  {
   "cell_type": "code",
   "execution_count": 12,
   "metadata": {},
   "outputs": [
    {
     "name": "stderr",
     "output_type": "stream",
     "text": [
      "Global seed set to 1608637542\n"
     ]
    },
    {
     "data": {
      "text/html": [
       "<pre style=\"white-space:pre;overflow-x:auto;line-height:normal;font-family:Menlo,'DejaVu Sans Mono',consolas,'Courier New',monospace\"><span style=\"color: #7fbfbf; text-decoration-color: #7fbfbf\">2025-01-16 19:37:36 </span><span style=\"color: #000080; text-decoration-color: #000080\">INFO    </span> Setting seed <span style=\"color: #008080; text-decoration-color: #008080; font-weight: bold\">1608637542</span> from seeds<span style=\"font-weight: bold\">[</span><span style=\"color: #008080; text-decoration-color: #008080; font-weight: bold\">0</span><span style=\"font-weight: bold\">]</span>                         <a href=\"file:///home/donato/miniconda3/envs/tvp/lib/python3.11/site-packages/nn_core/common/utils.py\" target=\"_blank\"><span style=\"color: #7f7f7f; text-decoration-color: #7f7f7f\">nn_core.common.utils</span></a><span style=\"color: #7f7f7f; text-decoration-color: #7f7f7f\">:</span><a href=\"file:///home/donato/miniconda3/envs/tvp/lib/python3.11/site-packages/nn_core/common/utils.py#107\" target=\"_blank\"><span style=\"color: #7f7f7f; text-decoration-color: #7f7f7f\">107</span></a>\n",
       "</pre>\n"
      ],
      "text/plain": [
       "\u001b[2;36m2025-01-16 19:37:36\u001b[0m\u001b[2;36m \u001b[0m\u001b[34mINFO    \u001b[0m Setting seed \u001b[1;36m1608637542\u001b[0m from seeds\u001b[1m[\u001b[0m\u001b[1;36m0\u001b[0m\u001b[1m]\u001b[0m                         \u001b]8;id=323618;file:///home/donato/miniconda3/envs/tvp/lib/python3.11/site-packages/nn_core/common/utils.py\u001b\\\u001b[2mnn_core.common.utils\u001b[0m\u001b]8;;\u001b\\\u001b[2m:\u001b[0m\u001b]8;id=918782;file:///home/donato/miniconda3/envs/tvp/lib/python3.11/site-packages/nn_core/common/utils.py#107\u001b\\\u001b[2m107\u001b[0m\u001b]8;;\u001b\\\n"
      ]
     },
     "metadata": {},
     "output_type": "display_data"
    },
    {
     "data": {
      "text/html": [
       "<pre style=\"white-space:pre;overflow-x:auto;line-height:normal;font-family:Menlo,'DejaVu Sans Mono',consolas,'Courier New',monospace\"><span style=\"color: #7fbfbf; text-decoration-color: #7fbfbf\">                    </span><span style=\"color: #000080; text-decoration-color: #000080\">INFO    </span> Restoring with mode: <span style=\"font-weight: bold\">&lt;</span><span style=\"color: #800080; text-decoration-color: #800080; font-weight: bold; font-style: italic\">None</span><span style=\"font-weight: bold\">&gt;</span>                                         <a href=\"file:///home/donato/miniconda3/envs/tvp/lib/python3.11/site-packages/nn_core/resume.py\" target=\"_blank\"><span style=\"color: #7f7f7f; text-decoration-color: #7f7f7f\">nn_core.resume</span></a><span style=\"color: #7f7f7f; text-decoration-color: #7f7f7f\">:</span><a href=\"file:///home/donato/miniconda3/envs/tvp/lib/python3.11/site-packages/nn_core/resume.py#122\" target=\"_blank\"><span style=\"color: #7f7f7f; text-decoration-color: #7f7f7f\">122</span></a>\n",
       "</pre>\n"
      ],
      "text/plain": [
       "\u001b[2;36m                   \u001b[0m\u001b[2;36m \u001b[0m\u001b[34mINFO    \u001b[0m Restoring with mode: \u001b[1m<\u001b[0m\u001b[1;3;35mNone\u001b[0m\u001b[1m>\u001b[0m                                         \u001b]8;id=30561;file:///home/donato/miniconda3/envs/tvp/lib/python3.11/site-packages/nn_core/resume.py\u001b\\\u001b[2mnn_core.resume\u001b[0m\u001b]8;;\u001b\\\u001b[2m:\u001b[0m\u001b]8;id=398255;file:///home/donato/miniconda3/envs/tvp/lib/python3.11/site-packages/nn_core/resume.py#122\u001b\\\u001b[2m122\u001b[0m\u001b]8;;\u001b\\\n"
      ]
     },
     "metadata": {},
     "output_type": "display_data"
    },
    {
     "data": {
      "text/html": [
       "<pre style=\"white-space:pre;overflow-x:auto;line-height:normal;font-family:Menlo,'DejaVu Sans Mono',consolas,'Courier New',monospace\"><span style=\"color: #7fbfbf; text-decoration-color: #7fbfbf\">                    </span><span style=\"color: #000080; text-decoration-color: #000080\">INFO    </span> Instantiating <span style=\"font-weight: bold\">&lt;</span><span style=\"color: #ff00ff; text-decoration-color: #ff00ff; font-weight: bold\">WandbLogger</span><span style=\"font-weight: bold\">&gt;</span>                                   <a href=\"file:///home/donato/miniconda3/envs/tvp/lib/python3.11/site-packages/nn_core/model_logging.py\" target=\"_blank\"><span style=\"color: #7f7f7f; text-decoration-color: #7f7f7f\">nn_core.model_logging</span></a><span style=\"color: #7f7f7f; text-decoration-color: #7f7f7f\">:</span><a href=\"file:///home/donato/miniconda3/envs/tvp/lib/python3.11/site-packages/nn_core/model_logging.py#43\" target=\"_blank\"><span style=\"color: #7f7f7f; text-decoration-color: #7f7f7f\">43</span></a>\n",
       "</pre>\n"
      ],
      "text/plain": [
       "\u001b[2;36m                   \u001b[0m\u001b[2;36m \u001b[0m\u001b[34mINFO    \u001b[0m Instantiating \u001b[1m<\u001b[0m\u001b[1;95mWandbLogger\u001b[0m\u001b[1m>\u001b[0m                                   \u001b]8;id=852900;file:///home/donato/miniconda3/envs/tvp/lib/python3.11/site-packages/nn_core/model_logging.py\u001b\\\u001b[2mnn_core.model_logging\u001b[0m\u001b]8;;\u001b\\\u001b[2m:\u001b[0m\u001b]8;id=721902;file:///home/donato/miniconda3/envs/tvp/lib/python3.11/site-packages/nn_core/model_logging.py#43\u001b\\\u001b[2m43\u001b[0m\u001b]8;;\u001b\\\n"
      ]
     },
     "metadata": {},
     "output_type": "display_data"
    },
    {
     "name": "stdout",
     "output_type": "stream",
     "text": [
      "Loading ViT-B-16 pre-trained weights.\n"
     ]
    },
    {
     "name": "stderr",
     "output_type": "stream",
     "text": [
      "/home/donato/miniconda3/envs/tvp/lib/python3.11/site-packages/lightning/pytorch/loggers/wandb.py:395: UserWarning: There is a wandb run already in progress and newly created instances of `WandbLogger` will reuse this run. If this is not desired, call `wandb.finish()` before instantiating `WandbLogger`.\n",
      "  rank_zero_warn(\n"
     ]
    },
    {
     "data": {
      "text/html": [
       "<pre style=\"white-space:pre;overflow-x:auto;line-height:normal;font-family:Menlo,'DejaVu Sans Mono',consolas,'Courier New',monospace\"><span style=\"color: #7fbfbf; text-decoration-color: #7fbfbf\">                    </span><span style=\"color: #000080; text-decoration-color: #000080\">INFO    </span> Loading pretrained ViT-B-<span style=\"color: #008080; text-decoration-color: #008080; font-weight: bold\">16</span> from OpenAI.                                       <a href=\"file:///home/donato/miniconda3/envs/tvp/lib/python3.11/site-packages/open_clip/factory.py\" target=\"_blank\"><span style=\"color: #7f7f7f; text-decoration-color: #7f7f7f\">root</span></a><span style=\"color: #7f7f7f; text-decoration-color: #7f7f7f\">:</span><a href=\"file:///home/donato/miniconda3/envs/tvp/lib/python3.11/site-packages/open_clip/factory.py#82\" target=\"_blank\"><span style=\"color: #7f7f7f; text-decoration-color: #7f7f7f\">82</span></a>\n",
       "</pre>\n"
      ],
      "text/plain": [
       "\u001b[2;36m                   \u001b[0m\u001b[2;36m \u001b[0m\u001b[34mINFO    \u001b[0m Loading pretrained ViT-B-\u001b[1;36m16\u001b[0m from OpenAI.                                       \u001b]8;id=130475;file:///home/donato/miniconda3/envs/tvp/lib/python3.11/site-packages/open_clip/factory.py\u001b\\\u001b[2mroot\u001b[0m\u001b]8;;\u001b\\\u001b[2m:\u001b[0m\u001b]8;id=464412;file:///home/donato/miniconda3/envs/tvp/lib/python3.11/site-packages/open_clip/factory.py#82\u001b\\\u001b[2m82\u001b[0m\u001b]8;;\u001b\\\n"
      ]
     },
     "metadata": {},
     "output_type": "display_data"
    },
    {
     "name": "stderr",
     "output_type": "stream",
     "text": [
      "/home/donato/miniconda3/envs/tvp/lib/python3.11/site-packages/pytorch_lightning/utilities/parsing.py:197: UserWarning: Attribute 'encoder' is an instance of `nn.Module` and is already saved during checkpointing. It is recommended to ignore them using `self.save_hyperparameters(ignore=['encoder'])`.\n",
      "  rank_zero_warn(\n",
      "/home/donato/miniconda3/envs/tvp/lib/python3.11/site-packages/pytorch_lightning/utilities/parsing.py:197: UserWarning: Attribute 'classifier' is an instance of `nn.Module` and is already saved during checkpointing. It is recommended to ignore them using `self.save_hyperparameters(ignore=['classifier'])`.\n",
      "  rank_zero_warn(\n",
      "Map: 100%|██████████| 40430/40430 [00:03<00:00, 12114.53 examples/s]\n",
      "Map: 100%|██████████| 390965/390965 [00:29<00:00, 13307.55 examples/s]\n",
      "Map: 100%|██████████| 40430/40430 [00:01<00:00, 31212.66 examples/s]\n",
      "Map: 100%|██████████| 390965/390965 [00:11<00:00, 33809.86 examples/s]\n"
     ]
    },
    {
     "data": {
      "text/html": [
       "<pre style=\"white-space:pre;overflow-x:auto;line-height:normal;font-family:Menlo,'DejaVu Sans Mono',consolas,'Courier New',monospace\"><span style=\"color: #7fbfbf; text-decoration-color: #7fbfbf\">2025-01-16 19:38:28 </span><span style=\"color: #000080; text-decoration-color: #000080\">INFO    </span> Adding callback <span style=\"font-weight: bold\">&lt;</span><span style=\"color: #ff00ff; text-decoration-color: #ff00ff; font-weight: bold\">EarlyStopping</span><span style=\"font-weight: bold\">&gt;</span>                                    <a href=\"file:///media/donato/Extra-storage/Code/model-merging/Alternating-Tuning-and-Merging/src/tvp/utils/utils.py\" target=\"_blank\"><span style=\"color: #7f7f7f; text-decoration-color: #7f7f7f\">tvp.utils.utils</span></a><span style=\"color: #7f7f7f; text-decoration-color: #7f7f7f\">:</span><a href=\"file:///media/donato/Extra-storage/Code/model-merging/Alternating-Tuning-and-Merging/src/tvp/utils/utils.py#146\" target=\"_blank\"><span style=\"color: #7f7f7f; text-decoration-color: #7f7f7f\">146</span></a>\n",
       "</pre>\n"
      ],
      "text/plain": [
       "\u001b[2;36m2025-01-16 19:38:28\u001b[0m\u001b[2;36m \u001b[0m\u001b[34mINFO    \u001b[0m Adding callback \u001b[1m<\u001b[0m\u001b[1;95mEarlyStopping\u001b[0m\u001b[1m>\u001b[0m                                    \u001b]8;id=224430;file:///media/donato/Extra-storage/Code/model-merging/Alternating-Tuning-and-Merging/src/tvp/utils/utils.py\u001b\\\u001b[2mtvp.utils.utils\u001b[0m\u001b]8;;\u001b\\\u001b[2m:\u001b[0m\u001b]8;id=170108;file:///media/donato/Extra-storage/Code/model-merging/Alternating-Tuning-and-Merging/src/tvp/utils/utils.py#146\u001b\\\u001b[2m146\u001b[0m\u001b]8;;\u001b\\\n"
      ]
     },
     "metadata": {},
     "output_type": "display_data"
    },
    {
     "data": {
      "text/html": [
       "<pre style=\"white-space:pre;overflow-x:auto;line-height:normal;font-family:Menlo,'DejaVu Sans Mono',consolas,'Courier New',monospace\"><span style=\"color: #7fbfbf; text-decoration-color: #7fbfbf\">                    </span><span style=\"color: #000080; text-decoration-color: #000080\">INFO    </span> Adding callback <span style=\"font-weight: bold\">&lt;</span><span style=\"color: #ff00ff; text-decoration-color: #ff00ff; font-weight: bold\">ModelCheckpoint</span><span style=\"font-weight: bold\">&gt;</span>                                  <a href=\"file:///media/donato/Extra-storage/Code/model-merging/Alternating-Tuning-and-Merging/src/tvp/utils/utils.py\" target=\"_blank\"><span style=\"color: #7f7f7f; text-decoration-color: #7f7f7f\">tvp.utils.utils</span></a><span style=\"color: #7f7f7f; text-decoration-color: #7f7f7f\">:</span><a href=\"file:///media/donato/Extra-storage/Code/model-merging/Alternating-Tuning-and-Merging/src/tvp/utils/utils.py#146\" target=\"_blank\"><span style=\"color: #7f7f7f; text-decoration-color: #7f7f7f\">146</span></a>\n",
       "</pre>\n"
      ],
      "text/plain": [
       "\u001b[2;36m                   \u001b[0m\u001b[2;36m \u001b[0m\u001b[34mINFO    \u001b[0m Adding callback \u001b[1m<\u001b[0m\u001b[1;95mModelCheckpoint\u001b[0m\u001b[1m>\u001b[0m                                  \u001b]8;id=6511;file:///media/donato/Extra-storage/Code/model-merging/Alternating-Tuning-and-Merging/src/tvp/utils/utils.py\u001b\\\u001b[2mtvp.utils.utils\u001b[0m\u001b]8;;\u001b\\\u001b[2m:\u001b[0m\u001b]8;id=500215;file:///media/donato/Extra-storage/Code/model-merging/Alternating-Tuning-and-Merging/src/tvp/utils/utils.py#146\u001b\\\u001b[2m146\u001b[0m\u001b]8;;\u001b\\\n"
      ]
     },
     "metadata": {},
     "output_type": "display_data"
    },
    {
     "data": {
      "text/html": [
       "<pre style=\"white-space:pre;overflow-x:auto;line-height:normal;font-family:Menlo,'DejaVu Sans Mono',consolas,'Courier New',monospace\"><span style=\"color: #7fbfbf; text-decoration-color: #7fbfbf\">                    </span><span style=\"color: #000080; text-decoration-color: #000080\">INFO    </span> Adding callback <span style=\"font-weight: bold\">&lt;</span><span style=\"color: #ff00ff; text-decoration-color: #ff00ff; font-weight: bold\">LearningRateMonitor</span><span style=\"font-weight: bold\">&gt;</span>                              <a href=\"file:///media/donato/Extra-storage/Code/model-merging/Alternating-Tuning-and-Merging/src/tvp/utils/utils.py\" target=\"_blank\"><span style=\"color: #7f7f7f; text-decoration-color: #7f7f7f\">tvp.utils.utils</span></a><span style=\"color: #7f7f7f; text-decoration-color: #7f7f7f\">:</span><a href=\"file:///media/donato/Extra-storage/Code/model-merging/Alternating-Tuning-and-Merging/src/tvp/utils/utils.py#146\" target=\"_blank\"><span style=\"color: #7f7f7f; text-decoration-color: #7f7f7f\">146</span></a>\n",
       "</pre>\n"
      ],
      "text/plain": [
       "\u001b[2;36m                   \u001b[0m\u001b[2;36m \u001b[0m\u001b[34mINFO    \u001b[0m Adding callback \u001b[1m<\u001b[0m\u001b[1;95mLearningRateMonitor\u001b[0m\u001b[1m>\u001b[0m                              \u001b]8;id=813694;file:///media/donato/Extra-storage/Code/model-merging/Alternating-Tuning-and-Merging/src/tvp/utils/utils.py\u001b\\\u001b[2mtvp.utils.utils\u001b[0m\u001b]8;;\u001b\\\u001b[2m:\u001b[0m\u001b]8;id=822996;file:///media/donato/Extra-storage/Code/model-merging/Alternating-Tuning-and-Merging/src/tvp/utils/utils.py#146\u001b\\\u001b[2m146\u001b[0m\u001b]8;;\u001b\\\n"
      ]
     },
     "metadata": {},
     "output_type": "display_data"
    },
    {
     "data": {
      "text/html": [
       "<pre style=\"white-space:pre;overflow-x:auto;line-height:normal;font-family:Menlo,'DejaVu Sans Mono',consolas,'Courier New',monospace\"><span style=\"color: #7fbfbf; text-decoration-color: #7fbfbf\">                    </span><span style=\"color: #000080; text-decoration-color: #000080\">INFO    </span> Adding callback <span style=\"font-weight: bold\">&lt;</span><span style=\"color: #ff00ff; text-decoration-color: #ff00ff; font-weight: bold\">TQDMProgressBar</span><span style=\"font-weight: bold\">&gt;</span>                                  <a href=\"file:///media/donato/Extra-storage/Code/model-merging/Alternating-Tuning-and-Merging/src/tvp/utils/utils.py\" target=\"_blank\"><span style=\"color: #7f7f7f; text-decoration-color: #7f7f7f\">tvp.utils.utils</span></a><span style=\"color: #7f7f7f; text-decoration-color: #7f7f7f\">:</span><a href=\"file:///media/donato/Extra-storage/Code/model-merging/Alternating-Tuning-and-Merging/src/tvp/utils/utils.py#146\" target=\"_blank\"><span style=\"color: #7f7f7f; text-decoration-color: #7f7f7f\">146</span></a>\n",
       "</pre>\n"
      ],
      "text/plain": [
       "\u001b[2;36m                   \u001b[0m\u001b[2;36m \u001b[0m\u001b[34mINFO    \u001b[0m Adding callback \u001b[1m<\u001b[0m\u001b[1;95mTQDMProgressBar\u001b[0m\u001b[1m>\u001b[0m                                  \u001b]8;id=459697;file:///media/donato/Extra-storage/Code/model-merging/Alternating-Tuning-and-Merging/src/tvp/utils/utils.py\u001b\\\u001b[2mtvp.utils.utils\u001b[0m\u001b]8;;\u001b\\\u001b[2m:\u001b[0m\u001b]8;id=850440;file:///media/donato/Extra-storage/Code/model-merging/Alternating-Tuning-and-Merging/src/tvp/utils/utils.py#146\u001b\\\u001b[2m146\u001b[0m\u001b]8;;\u001b\\\n"
      ]
     },
     "metadata": {},
     "output_type": "display_data"
    },
    {
     "data": {
      "text/html": [
       "<pre style=\"white-space:pre;overflow-x:auto;line-height:normal;font-family:Menlo,'DejaVu Sans Mono',consolas,'Courier New',monospace\"><span style=\"color: #7fbfbf; text-decoration-color: #7fbfbf\">                    </span><span style=\"color: #000080; text-decoration-color: #000080\">INFO    </span> Instantiating the <span style=\"font-weight: bold\">&lt;</span><span style=\"color: #ff00ff; text-decoration-color: #ff00ff; font-weight: bold\">Trainer</span><span style=\"font-weight: bold\">&gt;</span>                                                <a href=\"file:///tmp/ipykernel_533697/4281250531.py\" target=\"_blank\"><span style=\"color: #7f7f7f; text-decoration-color: #7f7f7f\">__main__</span></a><span style=\"color: #7f7f7f; text-decoration-color: #7f7f7f\">:</span><a href=\"file:///tmp/ipykernel_533697/4281250531.py#63\" target=\"_blank\"><span style=\"color: #7f7f7f; text-decoration-color: #7f7f7f\">63</span></a>\n",
       "</pre>\n"
      ],
      "text/plain": [
       "\u001b[2;36m                   \u001b[0m\u001b[2;36m \u001b[0m\u001b[34mINFO    \u001b[0m Instantiating the \u001b[1m<\u001b[0m\u001b[1;95mTrainer\u001b[0m\u001b[1m>\u001b[0m                                                \u001b]8;id=560796;file:///tmp/ipykernel_533697/4281250531.py\u001b\\\u001b[2m__main__\u001b[0m\u001b]8;;\u001b\\\u001b[2m:\u001b[0m\u001b]8;id=355368;file:///tmp/ipykernel_533697/4281250531.py#63\u001b\\\u001b[2m63\u001b[0m\u001b]8;;\u001b\\\n"
      ]
     },
     "metadata": {},
     "output_type": "display_data"
    },
    {
     "name": "stderr",
     "output_type": "stream",
     "text": [
      "INFO: GPU available: True (cuda), used: True\n"
     ]
    },
    {
     "data": {
      "text/html": [
       "<pre style=\"white-space:pre;overflow-x:auto;line-height:normal;font-family:Menlo,'DejaVu Sans Mono',consolas,'Courier New',monospace\"><span style=\"color: #7fbfbf; text-decoration-color: #7fbfbf\">                    </span><span style=\"color: #000080; text-decoration-color: #000080\">INFO    </span> GPU available: <span style=\"color: #00ff00; text-decoration-color: #00ff00; font-style: italic\">True</span> <span style=\"font-weight: bold\">(</span>cuda<span style=\"font-weight: bold\">)</span>, used: <span style=\"color: #00ff00; text-decoration-color: #00ff00; font-style: italic\">True</span>        <a href=\"file:///home/donato/miniconda3/envs/tvp/lib/python3.11/site-packages/lightning_utilities/core/rank_zero.py\" target=\"_blank\"><span style=\"color: #7f7f7f; text-decoration-color: #7f7f7f\">lightning.pytorch.utilities.rank_zero</span></a><span style=\"color: #7f7f7f; text-decoration-color: #7f7f7f\">:</span><a href=\"file:///home/donato/miniconda3/envs/tvp/lib/python3.11/site-packages/lightning_utilities/core/rank_zero.py#63\" target=\"_blank\"><span style=\"color: #7f7f7f; text-decoration-color: #7f7f7f\">63</span></a>\n",
       "</pre>\n"
      ],
      "text/plain": [
       "\u001b[2;36m                   \u001b[0m\u001b[2;36m \u001b[0m\u001b[34mINFO    \u001b[0m GPU available: \u001b[3;92mTrue\u001b[0m \u001b[1m(\u001b[0mcuda\u001b[1m)\u001b[0m, used: \u001b[3;92mTrue\u001b[0m        \u001b]8;id=234146;file:///home/donato/miniconda3/envs/tvp/lib/python3.11/site-packages/lightning_utilities/core/rank_zero.py\u001b\\\u001b[2mlightning.pytorch.utilities.rank_zero\u001b[0m\u001b]8;;\u001b\\\u001b[2m:\u001b[0m\u001b]8;id=188054;file:///home/donato/miniconda3/envs/tvp/lib/python3.11/site-packages/lightning_utilities/core/rank_zero.py#63\u001b\\\u001b[2m63\u001b[0m\u001b]8;;\u001b\\\n"
      ]
     },
     "metadata": {},
     "output_type": "display_data"
    },
    {
     "name": "stderr",
     "output_type": "stream",
     "text": [
      "INFO: TPU available: False, using: 0 TPU cores\n"
     ]
    },
    {
     "data": {
      "text/html": [
       "<pre style=\"white-space:pre;overflow-x:auto;line-height:normal;font-family:Menlo,'DejaVu Sans Mono',consolas,'Courier New',monospace\"><span style=\"color: #7fbfbf; text-decoration-color: #7fbfbf\">                    </span><span style=\"color: #000080; text-decoration-color: #000080\">INFO    </span> TPU available: <span style=\"color: #ff0000; text-decoration-color: #ff0000; font-style: italic\">False</span>, using: <span style=\"color: #008080; text-decoration-color: #008080; font-weight: bold\">0</span> TPU cores      <a href=\"file:///home/donato/miniconda3/envs/tvp/lib/python3.11/site-packages/lightning_utilities/core/rank_zero.py\" target=\"_blank\"><span style=\"color: #7f7f7f; text-decoration-color: #7f7f7f\">lightning.pytorch.utilities.rank_zero</span></a><span style=\"color: #7f7f7f; text-decoration-color: #7f7f7f\">:</span><a href=\"file:///home/donato/miniconda3/envs/tvp/lib/python3.11/site-packages/lightning_utilities/core/rank_zero.py#63\" target=\"_blank\"><span style=\"color: #7f7f7f; text-decoration-color: #7f7f7f\">63</span></a>\n",
       "</pre>\n"
      ],
      "text/plain": [
       "\u001b[2;36m                   \u001b[0m\u001b[2;36m \u001b[0m\u001b[34mINFO    \u001b[0m TPU available: \u001b[3;91mFalse\u001b[0m, using: \u001b[1;36m0\u001b[0m TPU cores      \u001b]8;id=748715;file:///home/donato/miniconda3/envs/tvp/lib/python3.11/site-packages/lightning_utilities/core/rank_zero.py\u001b\\\u001b[2mlightning.pytorch.utilities.rank_zero\u001b[0m\u001b]8;;\u001b\\\u001b[2m:\u001b[0m\u001b]8;id=303714;file:///home/donato/miniconda3/envs/tvp/lib/python3.11/site-packages/lightning_utilities/core/rank_zero.py#63\u001b\\\u001b[2m63\u001b[0m\u001b]8;;\u001b\\\n"
      ]
     },
     "metadata": {},
     "output_type": "display_data"
    },
    {
     "name": "stderr",
     "output_type": "stream",
     "text": [
      "INFO: IPU available: False, using: 0 IPUs\n"
     ]
    },
    {
     "data": {
      "text/html": [
       "<pre style=\"white-space:pre;overflow-x:auto;line-height:normal;font-family:Menlo,'DejaVu Sans Mono',consolas,'Courier New',monospace\"><span style=\"color: #7fbfbf; text-decoration-color: #7fbfbf\">                    </span><span style=\"color: #000080; text-decoration-color: #000080\">INFO    </span> IPU available: <span style=\"color: #ff0000; text-decoration-color: #ff0000; font-style: italic\">False</span>, using: <span style=\"color: #008080; text-decoration-color: #008080; font-weight: bold\">0</span> IPUs           <a href=\"file:///home/donato/miniconda3/envs/tvp/lib/python3.11/site-packages/lightning_utilities/core/rank_zero.py\" target=\"_blank\"><span style=\"color: #7f7f7f; text-decoration-color: #7f7f7f\">lightning.pytorch.utilities.rank_zero</span></a><span style=\"color: #7f7f7f; text-decoration-color: #7f7f7f\">:</span><a href=\"file:///home/donato/miniconda3/envs/tvp/lib/python3.11/site-packages/lightning_utilities/core/rank_zero.py#63\" target=\"_blank\"><span style=\"color: #7f7f7f; text-decoration-color: #7f7f7f\">63</span></a>\n",
       "</pre>\n"
      ],
      "text/plain": [
       "\u001b[2;36m                   \u001b[0m\u001b[2;36m \u001b[0m\u001b[34mINFO    \u001b[0m IPU available: \u001b[3;91mFalse\u001b[0m, using: \u001b[1;36m0\u001b[0m IPUs           \u001b]8;id=922805;file:///home/donato/miniconda3/envs/tvp/lib/python3.11/site-packages/lightning_utilities/core/rank_zero.py\u001b\\\u001b[2mlightning.pytorch.utilities.rank_zero\u001b[0m\u001b]8;;\u001b\\\u001b[2m:\u001b[0m\u001b]8;id=352297;file:///home/donato/miniconda3/envs/tvp/lib/python3.11/site-packages/lightning_utilities/core/rank_zero.py#63\u001b\\\u001b[2m63\u001b[0m\u001b]8;;\u001b\\\n"
      ]
     },
     "metadata": {},
     "output_type": "display_data"
    },
    {
     "name": "stderr",
     "output_type": "stream",
     "text": [
      "INFO: HPU available: False, using: 0 HPUs\n"
     ]
    },
    {
     "data": {
      "text/html": [
       "<pre style=\"white-space:pre;overflow-x:auto;line-height:normal;font-family:Menlo,'DejaVu Sans Mono',consolas,'Courier New',monospace\"><span style=\"color: #7fbfbf; text-decoration-color: #7fbfbf\">                    </span><span style=\"color: #000080; text-decoration-color: #000080\">INFO    </span> HPU available: <span style=\"color: #ff0000; text-decoration-color: #ff0000; font-style: italic\">False</span>, using: <span style=\"color: #008080; text-decoration-color: #008080; font-weight: bold\">0</span> HPUs           <a href=\"file:///home/donato/miniconda3/envs/tvp/lib/python3.11/site-packages/lightning_utilities/core/rank_zero.py\" target=\"_blank\"><span style=\"color: #7f7f7f; text-decoration-color: #7f7f7f\">lightning.pytorch.utilities.rank_zero</span></a><span style=\"color: #7f7f7f; text-decoration-color: #7f7f7f\">:</span><a href=\"file:///home/donato/miniconda3/envs/tvp/lib/python3.11/site-packages/lightning_utilities/core/rank_zero.py#63\" target=\"_blank\"><span style=\"color: #7f7f7f; text-decoration-color: #7f7f7f\">63</span></a>\n",
       "</pre>\n"
      ],
      "text/plain": [
       "\u001b[2;36m                   \u001b[0m\u001b[2;36m \u001b[0m\u001b[34mINFO    \u001b[0m HPU available: \u001b[3;91mFalse\u001b[0m, using: \u001b[1;36m0\u001b[0m HPUs           \u001b]8;id=780251;file:///home/donato/miniconda3/envs/tvp/lib/python3.11/site-packages/lightning_utilities/core/rank_zero.py\u001b\\\u001b[2mlightning.pytorch.utilities.rank_zero\u001b[0m\u001b]8;;\u001b\\\u001b[2m:\u001b[0m\u001b]8;id=183908;file:///home/donato/miniconda3/envs/tvp/lib/python3.11/site-packages/lightning_utilities/core/rank_zero.py#63\u001b\\\u001b[2m63\u001b[0m\u001b]8;;\u001b\\\n"
      ]
     },
     "metadata": {},
     "output_type": "display_data"
    },
    {
     "name": "stderr",
     "output_type": "stream",
     "text": [
      "INFO: `Trainer(val_check_interval=1.0)` was configured so validation will run at the end of the training epoch..\n"
     ]
    },
    {
     "data": {
      "text/html": [
       "<pre style=\"white-space:pre;overflow-x:auto;line-height:normal;font-family:Menlo,'DejaVu Sans Mono',consolas,'Courier New',monospace\"><span style=\"color: #7fbfbf; text-decoration-color: #7fbfbf\">                    </span><span style=\"color: #000080; text-decoration-color: #000080\">INFO    </span> `<span style=\"color: #800080; text-decoration-color: #800080; font-weight: bold\">Trainer</span><span style=\"font-weight: bold\">(</span><span style=\"color: #808000; text-decoration-color: #808000\">val_check_interval</span>=<span style=\"color: #008080; text-decoration-color: #008080; font-weight: bold\">1.0</span><span style=\"font-weight: bold\">)</span>` was         <a href=\"file:///home/donato/miniconda3/envs/tvp/lib/python3.11/site-packages/lightning_utilities/core/rank_zero.py\" target=\"_blank\"><span style=\"color: #7f7f7f; text-decoration-color: #7f7f7f\">lightning.pytorch.utilities.rank_zero</span></a><span style=\"color: #7f7f7f; text-decoration-color: #7f7f7f\">:</span><a href=\"file:///home/donato/miniconda3/envs/tvp/lib/python3.11/site-packages/lightning_utilities/core/rank_zero.py#63\" target=\"_blank\"><span style=\"color: #7f7f7f; text-decoration-color: #7f7f7f\">63</span></a>\n",
       "<span style=\"color: #7fbfbf; text-decoration-color: #7fbfbf\">                    </span>         configured so validation will run at the end  <span style=\"color: #7f7f7f; text-decoration-color: #7f7f7f\">                                        </span>\n",
       "<span style=\"color: #7fbfbf; text-decoration-color: #7fbfbf\">                    </span>         of the training epoch..                       <span style=\"color: #7f7f7f; text-decoration-color: #7f7f7f\">                                        </span>\n",
       "</pre>\n"
      ],
      "text/plain": [
       "\u001b[2;36m                   \u001b[0m\u001b[2;36m \u001b[0m\u001b[34mINFO    \u001b[0m `\u001b[1;35mTrainer\u001b[0m\u001b[1m(\u001b[0m\u001b[33mval_check_interval\u001b[0m=\u001b[1;36m1\u001b[0m\u001b[1;36m.0\u001b[0m\u001b[1m)\u001b[0m` was         \u001b]8;id=568033;file:///home/donato/miniconda3/envs/tvp/lib/python3.11/site-packages/lightning_utilities/core/rank_zero.py\u001b\\\u001b[2mlightning.pytorch.utilities.rank_zero\u001b[0m\u001b]8;;\u001b\\\u001b[2m:\u001b[0m\u001b]8;id=917272;file:///home/donato/miniconda3/envs/tvp/lib/python3.11/site-packages/lightning_utilities/core/rank_zero.py#63\u001b\\\u001b[2m63\u001b[0m\u001b]8;;\u001b\\\n",
       "\u001b[2;36m                    \u001b[0m         configured so validation will run at the end  \u001b[2m                                        \u001b[0m\n",
       "\u001b[2;36m                    \u001b[0m         of the training epoch..                       \u001b[2m                                        \u001b[0m\n"
      ]
     },
     "metadata": {},
     "output_type": "display_data"
    },
    {
     "data": {
      "text/html": [
       "<pre style=\"white-space:pre;overflow-x:auto;line-height:normal;font-family:Menlo,'DejaVu Sans Mono',consolas,'Courier New',monospace\"><span style=\"color: #7fbfbf; text-decoration-color: #7fbfbf\">                    </span><span style=\"color: #000080; text-decoration-color: #000080\">INFO    </span> Starting fine-tuning on train data split!                                  <a href=\"file:///tmp/ipykernel_533697/4281250531.py\" target=\"_blank\"><span style=\"color: #7f7f7f; text-decoration-color: #7f7f7f\">__main__</span></a><span style=\"color: #7f7f7f; text-decoration-color: #7f7f7f\">:</span><a href=\"file:///tmp/ipykernel_533697/4281250531.py#75\" target=\"_blank\"><span style=\"color: #7f7f7f; text-decoration-color: #7f7f7f\">75</span></a>\n",
       "</pre>\n"
      ],
      "text/plain": [
       "\u001b[2;36m                   \u001b[0m\u001b[2;36m \u001b[0m\u001b[34mINFO    \u001b[0m Starting fine-tuning on train data split!                                  \u001b]8;id=20420;file:///tmp/ipykernel_533697/4281250531.py\u001b\\\u001b[2m__main__\u001b[0m\u001b]8;;\u001b\\\u001b[2m:\u001b[0m\u001b]8;id=728408;file:///tmp/ipykernel_533697/4281250531.py#75\u001b\\\u001b[2m75\u001b[0m\u001b]8;;\u001b\\\n"
      ]
     },
     "metadata": {},
     "output_type": "display_data"
    },
    {
     "data": {
      "text/html": [
       "<pre style=\"white-space:pre;overflow-x:auto;line-height:normal;font-family:Menlo,'DejaVu Sans Mono',consolas,'Courier New',monospace\"><span style=\"color: #7fbfbf; text-decoration-color: #7fbfbf\">                    </span><span style=\"color: #000080; text-decoration-color: #000080\">INFO    </span> Starting training!                                                         <a href=\"file:///tmp/ipykernel_533697/4281250531.py\" target=\"_blank\"><span style=\"color: #7f7f7f; text-decoration-color: #7f7f7f\">__main__</span></a><span style=\"color: #7f7f7f; text-decoration-color: #7f7f7f\">:</span><a href=\"file:///tmp/ipykernel_533697/4281250531.py#83\" target=\"_blank\"><span style=\"color: #7f7f7f; text-decoration-color: #7f7f7f\">83</span></a>\n",
       "</pre>\n"
      ],
      "text/plain": [
       "\u001b[2;36m                   \u001b[0m\u001b[2;36m \u001b[0m\u001b[34mINFO    \u001b[0m Starting training!                                                         \u001b]8;id=569490;file:///tmp/ipykernel_533697/4281250531.py\u001b\\\u001b[2m__main__\u001b[0m\u001b]8;;\u001b\\\u001b[2m:\u001b[0m\u001b]8;id=581780;file:///tmp/ipykernel_533697/4281250531.py#83\u001b\\\u001b[2m83\u001b[0m\u001b]8;;\u001b\\\n"
      ]
     },
     "metadata": {},
     "output_type": "display_data"
    },
    {
     "name": "stderr",
     "output_type": "stream",
     "text": [
      "/home/donato/miniconda3/envs/tvp/lib/python3.11/site-packages/pytorch_lightning/trainer/configuration_validator.py:72: PossibleUserWarning: You defined a `validation_step` but have no `val_dataloader`. Skipping val loop.\n",
      "  rank_zero_warn(\n",
      "LOCAL_RANK: 0 - CUDA_VISIBLE_DEVICES: [0]\n",
      "\n",
      "  | Name                | Type                   | Params\n",
      "---------------------------------------------------------------\n",
      "0 | train_acc           | MulticlassAccuracy     | 0     \n",
      "1 | val_acc             | MulticlassAccuracy     | 0     \n",
      "2 | test_acc            | MulticlassAccuracy     | 0     \n",
      "3 | encoder             | ClipTextEncoder        | 149 M \n",
      "4 | classification_head | TextClassificationHead | 1.0 K \n",
      "---------------------------------------------------------------\n",
      "149 M     Trainable params\n",
      "1.0 K     Non-trainable params\n",
      "149 M     Total params\n",
      "598.487   Total estimated model params size (MB)\n"
     ]
    },
    {
     "data": {
      "text/html": [
       "<pre style=\"white-space:pre;overflow-x:auto;line-height:normal;font-family:Menlo,'DejaVu Sans Mono',consolas,'Courier New',monospace\"><span style=\"color: #7fbfbf; text-decoration-color: #7fbfbf\">2025-01-16 19:38:29 </span><span style=\"color: #000080; text-decoration-color: #000080\">INFO    </span> Uploading source code to W&amp;B                                  <a href=\"file:///home/donato/miniconda3/envs/tvp/lib/python3.11/site-packages/nn_core/model_logging.py\" target=\"_blank\"><span style=\"color: #7f7f7f; text-decoration-color: #7f7f7f\">nn_core.model_logging</span></a><span style=\"color: #7f7f7f; text-decoration-color: #7f7f7f\">:</span><a href=\"file:///home/donato/miniconda3/envs/tvp/lib/python3.11/site-packages/nn_core/model_logging.py#71\" target=\"_blank\"><span style=\"color: #7f7f7f; text-decoration-color: #7f7f7f\">71</span></a>\n",
       "</pre>\n"
      ],
      "text/plain": [
       "\u001b[2;36m2025-01-16 19:38:29\u001b[0m\u001b[2;36m \u001b[0m\u001b[34mINFO    \u001b[0m Uploading source code to W&B                                  \u001b]8;id=928449;file:///home/donato/miniconda3/envs/tvp/lib/python3.11/site-packages/nn_core/model_logging.py\u001b\\\u001b[2mnn_core.model_logging\u001b[0m\u001b]8;;\u001b\\\u001b[2m:\u001b[0m\u001b]8;id=83169;file:///home/donato/miniconda3/envs/tvp/lib/python3.11/site-packages/nn_core/model_logging.py#71\u001b\\\u001b[2m71\u001b[0m\u001b]8;;\u001b\\\n"
      ]
     },
     "metadata": {},
     "output_type": "display_data"
    },
    {
     "data": {
      "text/html": [
       "<pre style=\"white-space:pre;overflow-x:auto;line-height:normal;font-family:Menlo,'DejaVu Sans Mono',consolas,'Courier New',monospace\"><span style=\"color: #7fbfbf; text-decoration-color: #7fbfbf\">                    </span><span style=\"color: #000080; text-decoration-color: #000080\">INFO    </span> Starting to <span style=\"color: #008000; text-decoration-color: #008000\">'watch'</span> the module                                <a href=\"file:///home/donato/miniconda3/envs/tvp/lib/python3.11/site-packages/nn_core/model_logging.py\" target=\"_blank\"><span style=\"color: #7f7f7f; text-decoration-color: #7f7f7f\">nn_core.model_logging</span></a><span style=\"color: #7f7f7f; text-decoration-color: #7f7f7f\">:</span><a href=\"file:///home/donato/miniconda3/envs/tvp/lib/python3.11/site-packages/nn_core/model_logging.py#66\" target=\"_blank\"><span style=\"color: #7f7f7f; text-decoration-color: #7f7f7f\">66</span></a>\n",
       "</pre>\n"
      ],
      "text/plain": [
       "\u001b[2;36m                   \u001b[0m\u001b[2;36m \u001b[0m\u001b[34mINFO    \u001b[0m Starting to \u001b[32m'watch'\u001b[0m the module                                \u001b]8;id=76642;file:///home/donato/miniconda3/envs/tvp/lib/python3.11/site-packages/nn_core/model_logging.py\u001b\\\u001b[2mnn_core.model_logging\u001b[0m\u001b]8;;\u001b\\\u001b[2m:\u001b[0m\u001b]8;id=996500;file:///home/donato/miniconda3/envs/tvp/lib/python3.11/site-packages/nn_core/model_logging.py#66\u001b\\\u001b[2m66\u001b[0m\u001b]8;;\u001b\\\n"
      ]
     },
     "metadata": {},
     "output_type": "display_data"
    },
    {
     "name": "stdout",
     "output_type": "stream",
     "text": [
      "Epoch 0:   1%|          | 100/10234 [00:06<10:54, 15.48it/s, v_num=vo1w]"
     ]
    },
    {
     "data": {
      "text/html": [
       "<pre style=\"white-space:pre;overflow-x:auto;line-height:normal;font-family:Menlo,'DejaVu Sans Mono',consolas,'Courier New',monospace\"><span style=\"color: #7fbfbf; text-decoration-color: #7fbfbf\">2025-01-16 19:38:36 </span><span style=\"color: #000080; text-decoration-color: #000080\">INFO    </span>                                                      <a href=\"file:///media/donato/Extra-storage/Code/model-merging/Alternating-Tuning-and-Merging/src/tvp/pl_module/text_classifier.py\" target=\"_blank\"><span style=\"color: #7f7f7f; text-decoration-color: #7f7f7f\">tvp.pl_module.text_classifier</span></a><span style=\"color: #7f7f7f; text-decoration-color: #7f7f7f\">:</span><a href=\"file:///media/donato/Extra-storage/Code/model-merging/Alternating-Tuning-and-Merging/src/tvp/pl_module/text_classifier.py#113\" target=\"_blank\"><span style=\"color: #7f7f7f; text-decoration-color: #7f7f7f\">113</span></a>\n",
       "<span style=\"color: #7fbfbf; text-decoration-color: #7fbfbf\">                    </span>                                                              <span style=\"color: #7f7f7f; text-decoration-color: #7f7f7f\">                                 </span>\n",
       "<span style=\"color: #7fbfbf; text-decoration-color: #7fbfbf\">                    </span>         Epoch <span style=\"color: #008080; text-decoration-color: #008080; font-weight: bold\">0</span>: Batch gradient norms: <span style=\"font-weight: bold\">[</span><span style=\"color: #008080; text-decoration-color: #008080; font-weight: bold\">6.596557356678137</span>,   <span style=\"color: #7f7f7f; text-decoration-color: #7f7f7f\">                                 </span>\n",
       "<span style=\"color: #7fbfbf; text-decoration-color: #7fbfbf\">                    </span>         <span style=\"color: #008080; text-decoration-color: #008080; font-weight: bold\">4.7355158917758065</span>, <span style=\"color: #008080; text-decoration-color: #008080; font-weight: bold\">5.095153029955823</span>,               <span style=\"color: #7f7f7f; text-decoration-color: #7f7f7f\">                                 </span>\n",
       "<span style=\"color: #7fbfbf; text-decoration-color: #7fbfbf\">                    </span>         <span style=\"color: #008080; text-decoration-color: #008080; font-weight: bold\">4.9413694124643275</span>, <span style=\"color: #008080; text-decoration-color: #008080; font-weight: bold\">5.214940941078348</span>,               <span style=\"color: #7f7f7f; text-decoration-color: #7f7f7f\">                                 </span>\n",
       "<span style=\"color: #7fbfbf; text-decoration-color: #7fbfbf\">                    </span>         <span style=\"color: #008080; text-decoration-color: #008080; font-weight: bold\">7.846432773376134</span>, <span style=\"color: #008080; text-decoration-color: #008080; font-weight: bold\">6.279455477299635</span>,                <span style=\"color: #7f7f7f; text-decoration-color: #7f7f7f\">                                 </span>\n",
       "<span style=\"color: #7fbfbf; text-decoration-color: #7fbfbf\">                    </span>         <span style=\"color: #008080; text-decoration-color: #008080; font-weight: bold\">5.077932208649469</span>, <span style=\"color: #008080; text-decoration-color: #008080; font-weight: bold\">5.540511345360274</span>,                <span style=\"color: #7f7f7f; text-decoration-color: #7f7f7f\">                                 </span>\n",
       "<span style=\"color: #7fbfbf; text-decoration-color: #7fbfbf\">                    </span>         <span style=\"color: #008080; text-decoration-color: #008080; font-weight: bold\">5.258557989128636</span>, <span style=\"color: #008080; text-decoration-color: #008080; font-weight: bold\">5.167896719678297</span>,                <span style=\"color: #7f7f7f; text-decoration-color: #7f7f7f\">                                 </span>\n",
       "<span style=\"color: #7fbfbf; text-decoration-color: #7fbfbf\">                    </span>         <span style=\"color: #008080; text-decoration-color: #008080; font-weight: bold\">5.901023531992347</span>, <span style=\"color: #008080; text-decoration-color: #008080; font-weight: bold\">5.155238498886476</span>,                <span style=\"color: #7f7f7f; text-decoration-color: #7f7f7f\">                                 </span>\n",
       "<span style=\"color: #7fbfbf; text-decoration-color: #7fbfbf\">                    </span>         <span style=\"color: #008080; text-decoration-color: #008080; font-weight: bold\">6.466470466661644</span>, <span style=\"color: #008080; text-decoration-color: #008080; font-weight: bold\">4.79412013533239</span>,                 <span style=\"color: #7f7f7f; text-decoration-color: #7f7f7f\">                                 </span>\n",
       "<span style=\"color: #7fbfbf; text-decoration-color: #7fbfbf\">                    </span>         <span style=\"color: #008080; text-decoration-color: #008080; font-weight: bold\">4.891950986072187</span>, <span style=\"color: #008080; text-decoration-color: #008080; font-weight: bold\">5.755793023825009</span>,                <span style=\"color: #7f7f7f; text-decoration-color: #7f7f7f\">                                 </span>\n",
       "<span style=\"color: #7fbfbf; text-decoration-color: #7fbfbf\">                    </span>         <span style=\"color: #008080; text-decoration-color: #008080; font-weight: bold\">4.841462257798388</span>, <span style=\"color: #008080; text-decoration-color: #008080; font-weight: bold\">5.469333307384811</span>,                <span style=\"color: #7f7f7f; text-decoration-color: #7f7f7f\">                                 </span>\n",
       "<span style=\"color: #7fbfbf; text-decoration-color: #7fbfbf\">                    </span>         <span style=\"color: #008080; text-decoration-color: #008080; font-weight: bold\">5.697735814368082</span>, <span style=\"color: #008080; text-decoration-color: #008080; font-weight: bold\">6.32944018603592</span>,                 <span style=\"color: #7f7f7f; text-decoration-color: #7f7f7f\">                                 </span>\n",
       "<span style=\"color: #7fbfbf; text-decoration-color: #7fbfbf\">                    </span>         <span style=\"color: #008080; text-decoration-color: #008080; font-weight: bold\">4.702782496017143</span>, <span style=\"color: #008080; text-decoration-color: #008080; font-weight: bold\">5.155757700409367</span>,                <span style=\"color: #7f7f7f; text-decoration-color: #7f7f7f\">                                 </span>\n",
       "<span style=\"color: #7fbfbf; text-decoration-color: #7fbfbf\">                    </span>         <span style=\"color: #008080; text-decoration-color: #008080; font-weight: bold\">5.642972828048795</span>, <span style=\"color: #008080; text-decoration-color: #008080; font-weight: bold\">5.478245232714083</span>,                <span style=\"color: #7f7f7f; text-decoration-color: #7f7f7f\">                                 </span>\n",
       "<span style=\"color: #7fbfbf; text-decoration-color: #7fbfbf\">                    </span>         <span style=\"color: #008080; text-decoration-color: #008080; font-weight: bold\">5.983798008980981</span>, <span style=\"color: #008080; text-decoration-color: #008080; font-weight: bold\">4.922799932189868</span>,                <span style=\"color: #7f7f7f; text-decoration-color: #7f7f7f\">                                 </span>\n",
       "<span style=\"color: #7fbfbf; text-decoration-color: #7fbfbf\">                    </span>         <span style=\"color: #008080; text-decoration-color: #008080; font-weight: bold\">5.359075222626054</span>, <span style=\"color: #008080; text-decoration-color: #008080; font-weight: bold\">4.711219753405043</span>,                <span style=\"color: #7f7f7f; text-decoration-color: #7f7f7f\">                                 </span>\n",
       "<span style=\"color: #7fbfbf; text-decoration-color: #7fbfbf\">                    </span>         <span style=\"color: #008080; text-decoration-color: #008080; font-weight: bold\">4.4352766803202375</span>, <span style=\"color: #008080; text-decoration-color: #008080; font-weight: bold\">5.957420143922736</span>,               <span style=\"color: #7f7f7f; text-decoration-color: #7f7f7f\">                                 </span>\n",
       "<span style=\"color: #7fbfbf; text-decoration-color: #7fbfbf\">                    </span>         <span style=\"color: #008080; text-decoration-color: #008080; font-weight: bold\">8.433780197422719</span>, <span style=\"color: #008080; text-decoration-color: #008080; font-weight: bold\">5.197322024607161</span>,                <span style=\"color: #7f7f7f; text-decoration-color: #7f7f7f\">                                 </span>\n",
       "<span style=\"color: #7fbfbf; text-decoration-color: #7fbfbf\">                    </span>         <span style=\"color: #008080; text-decoration-color: #008080; font-weight: bold\">4.9097839635636165</span>, <span style=\"color: #008080; text-decoration-color: #008080; font-weight: bold\">5.092482298657761</span>,               <span style=\"color: #7f7f7f; text-decoration-color: #7f7f7f\">                                 </span>\n",
       "<span style=\"color: #7fbfbf; text-decoration-color: #7fbfbf\">                    </span>         <span style=\"color: #008080; text-decoration-color: #008080; font-weight: bold\">6.173421319970959</span>, <span style=\"color: #008080; text-decoration-color: #008080; font-weight: bold\">5.051941428343917</span>,                <span style=\"color: #7f7f7f; text-decoration-color: #7f7f7f\">                                 </span>\n",
       "<span style=\"color: #7fbfbf; text-decoration-color: #7fbfbf\">                    </span>         <span style=\"color: #008080; text-decoration-color: #008080; font-weight: bold\">5.005590280398998</span>, <span style=\"color: #008080; text-decoration-color: #008080; font-weight: bold\">4.937640803305691</span>,                <span style=\"color: #7f7f7f; text-decoration-color: #7f7f7f\">                                 </span>\n",
       "<span style=\"color: #7fbfbf; text-decoration-color: #7fbfbf\">                    </span>         <span style=\"color: #008080; text-decoration-color: #008080; font-weight: bold\">5.0684073892960395</span>, <span style=\"color: #008080; text-decoration-color: #008080; font-weight: bold\">5.300195342263232</span>,               <span style=\"color: #7f7f7f; text-decoration-color: #7f7f7f\">                                 </span>\n",
       "<span style=\"color: #7fbfbf; text-decoration-color: #7fbfbf\">                    </span>         <span style=\"color: #008080; text-decoration-color: #008080; font-weight: bold\">4.869475892815888</span>, <span style=\"color: #008080; text-decoration-color: #008080; font-weight: bold\">4.895291070292038</span>,                <span style=\"color: #7f7f7f; text-decoration-color: #7f7f7f\">                                 </span>\n",
       "<span style=\"color: #7fbfbf; text-decoration-color: #7fbfbf\">                    </span>         <span style=\"color: #008080; text-decoration-color: #008080; font-weight: bold\">4.705610775457106</span>, <span style=\"color: #008080; text-decoration-color: #008080; font-weight: bold\">6.882456444826598</span>,                <span style=\"color: #7f7f7f; text-decoration-color: #7f7f7f\">                                 </span>\n",
       "<span style=\"color: #7fbfbf; text-decoration-color: #7fbfbf\">                    </span>         <span style=\"color: #008080; text-decoration-color: #008080; font-weight: bold\">4.29353874281859</span>, <span style=\"color: #008080; text-decoration-color: #008080; font-weight: bold\">4.5216099389498225</span>,                <span style=\"color: #7f7f7f; text-decoration-color: #7f7f7f\">                                 </span>\n",
       "<span style=\"color: #7fbfbf; text-decoration-color: #7fbfbf\">                    </span>         <span style=\"color: #008080; text-decoration-color: #008080; font-weight: bold\">4.996570245169572</span>, <span style=\"color: #008080; text-decoration-color: #008080; font-weight: bold\">5.646815770867205</span>,                <span style=\"color: #7f7f7f; text-decoration-color: #7f7f7f\">                                 </span>\n",
       "<span style=\"color: #7fbfbf; text-decoration-color: #7fbfbf\">                    </span>         <span style=\"color: #008080; text-decoration-color: #008080; font-weight: bold\">4.8045452926512136</span>, <span style=\"color: #008080; text-decoration-color: #008080; font-weight: bold\">4.510727608200782</span>,               <span style=\"color: #7f7f7f; text-decoration-color: #7f7f7f\">                                 </span>\n",
       "<span style=\"color: #7fbfbf; text-decoration-color: #7fbfbf\">                    </span>         <span style=\"color: #008080; text-decoration-color: #008080; font-weight: bold\">6.707248625978903</span>, <span style=\"color: #008080; text-decoration-color: #008080; font-weight: bold\">5.361899583239549</span>,                <span style=\"color: #7f7f7f; text-decoration-color: #7f7f7f\">                                 </span>\n",
       "<span style=\"color: #7fbfbf; text-decoration-color: #7fbfbf\">                    </span>         <span style=\"color: #008080; text-decoration-color: #008080; font-weight: bold\">6.2536594097162315</span>, <span style=\"color: #008080; text-decoration-color: #008080; font-weight: bold\">5.5314013944907865</span>,              <span style=\"color: #7f7f7f; text-decoration-color: #7f7f7f\">                                 </span>\n",
       "<span style=\"color: #7fbfbf; text-decoration-color: #7fbfbf\">                    </span>         <span style=\"color: #008080; text-decoration-color: #008080; font-weight: bold\">5.048559579168735</span>, <span style=\"color: #008080; text-decoration-color: #008080; font-weight: bold\">4.667611766114708</span>,                <span style=\"color: #7f7f7f; text-decoration-color: #7f7f7f\">                                 </span>\n",
       "<span style=\"color: #7fbfbf; text-decoration-color: #7fbfbf\">                    </span>         <span style=\"color: #008080; text-decoration-color: #008080; font-weight: bold\">4.741069942042106</span>, <span style=\"color: #008080; text-decoration-color: #008080; font-weight: bold\">5.760248397884312</span>,                <span style=\"color: #7f7f7f; text-decoration-color: #7f7f7f\">                                 </span>\n",
       "<span style=\"color: #7fbfbf; text-decoration-color: #7fbfbf\">                    </span>         <span style=\"color: #008080; text-decoration-color: #008080; font-weight: bold\">5.803904983011557</span>, <span style=\"color: #008080; text-decoration-color: #008080; font-weight: bold\">5.041161135083516</span>,                <span style=\"color: #7f7f7f; text-decoration-color: #7f7f7f\">                                 </span>\n",
       "<span style=\"color: #7fbfbf; text-decoration-color: #7fbfbf\">                    </span>         <span style=\"color: #008080; text-decoration-color: #008080; font-weight: bold\">4.956131066580712</span>, <span style=\"color: #008080; text-decoration-color: #008080; font-weight: bold\">6.697929892335583</span>,                <span style=\"color: #7f7f7f; text-decoration-color: #7f7f7f\">                                 </span>\n",
       "<span style=\"color: #7fbfbf; text-decoration-color: #7fbfbf\">                    </span>         <span style=\"color: #008080; text-decoration-color: #008080; font-weight: bold\">5.203809864369107</span>, <span style=\"color: #008080; text-decoration-color: #008080; font-weight: bold\">6.0019570083307325</span>,               <span style=\"color: #7f7f7f; text-decoration-color: #7f7f7f\">                                 </span>\n",
       "<span style=\"color: #7fbfbf; text-decoration-color: #7fbfbf\">                    </span>         <span style=\"color: #008080; text-decoration-color: #008080; font-weight: bold\">7.845139391445628</span>, <span style=\"color: #008080; text-decoration-color: #008080; font-weight: bold\">5.605415242641985</span>,                <span style=\"color: #7f7f7f; text-decoration-color: #7f7f7f\">                                 </span>\n",
       "<span style=\"color: #7fbfbf; text-decoration-color: #7fbfbf\">                    </span>         <span style=\"color: #008080; text-decoration-color: #008080; font-weight: bold\">5.119136882149641</span>, <span style=\"color: #008080; text-decoration-color: #008080; font-weight: bold\">8.112579232574596</span>,                <span style=\"color: #7f7f7f; text-decoration-color: #7f7f7f\">                                 </span>\n",
       "<span style=\"color: #7fbfbf; text-decoration-color: #7fbfbf\">                    </span>         <span style=\"color: #008080; text-decoration-color: #008080; font-weight: bold\">5.551763029279884</span>, <span style=\"color: #008080; text-decoration-color: #008080; font-weight: bold\">6.142598931423563</span>,                <span style=\"color: #7f7f7f; text-decoration-color: #7f7f7f\">                                 </span>\n",
       "<span style=\"color: #7fbfbf; text-decoration-color: #7fbfbf\">                    </span>         <span style=\"color: #008080; text-decoration-color: #008080; font-weight: bold\">5.021972409844191</span>, <span style=\"color: #008080; text-decoration-color: #008080; font-weight: bold\">10.460652770291317</span>,               <span style=\"color: #7f7f7f; text-decoration-color: #7f7f7f\">                                 </span>\n",
       "<span style=\"color: #7fbfbf; text-decoration-color: #7fbfbf\">                    </span>         <span style=\"color: #008080; text-decoration-color: #008080; font-weight: bold\">5.901941535327641</span>, <span style=\"color: #008080; text-decoration-color: #008080; font-weight: bold\">4.482455954393516</span>,                <span style=\"color: #7f7f7f; text-decoration-color: #7f7f7f\">                                 </span>\n",
       "<span style=\"color: #7fbfbf; text-decoration-color: #7fbfbf\">                    </span>         <span style=\"color: #008080; text-decoration-color: #008080; font-weight: bold\">6.013568392791875</span>, <span style=\"color: #008080; text-decoration-color: #008080; font-weight: bold\">5.346917667943355</span>,                <span style=\"color: #7f7f7f; text-decoration-color: #7f7f7f\">                                 </span>\n",
       "<span style=\"color: #7fbfbf; text-decoration-color: #7fbfbf\">                    </span>         <span style=\"color: #008080; text-decoration-color: #008080; font-weight: bold\">4.897169359991269</span>, <span style=\"color: #008080; text-decoration-color: #008080; font-weight: bold\">5.332948473042849</span>,                <span style=\"color: #7f7f7f; text-decoration-color: #7f7f7f\">                                 </span>\n",
       "<span style=\"color: #7fbfbf; text-decoration-color: #7fbfbf\">                    </span>         <span style=\"color: #008080; text-decoration-color: #008080; font-weight: bold\">5.151481565211068</span>, <span style=\"color: #008080; text-decoration-color: #008080; font-weight: bold\">6.924041920563867</span>,                <span style=\"color: #7f7f7f; text-decoration-color: #7f7f7f\">                                 </span>\n",
       "<span style=\"color: #7fbfbf; text-decoration-color: #7fbfbf\">                    </span>         <span style=\"color: #008080; text-decoration-color: #008080; font-weight: bold\">4.9299566530493495</span>, <span style=\"color: #008080; text-decoration-color: #008080; font-weight: bold\">4.649630457728134</span>,               <span style=\"color: #7f7f7f; text-decoration-color: #7f7f7f\">                                 </span>\n",
       "<span style=\"color: #7fbfbf; text-decoration-color: #7fbfbf\">                    </span>         <span style=\"color: #008080; text-decoration-color: #008080; font-weight: bold\">5.985763402080057</span>, <span style=\"color: #008080; text-decoration-color: #008080; font-weight: bold\">5.098409731206467</span>,                <span style=\"color: #7f7f7f; text-decoration-color: #7f7f7f\">                                 </span>\n",
       "<span style=\"color: #7fbfbf; text-decoration-color: #7fbfbf\">                    </span>         <span style=\"color: #008080; text-decoration-color: #008080; font-weight: bold\">5.07768671008126</span>, <span style=\"color: #008080; text-decoration-color: #008080; font-weight: bold\">5.464161939884087</span>,                 <span style=\"color: #7f7f7f; text-decoration-color: #7f7f7f\">                                 </span>\n",
       "<span style=\"color: #7fbfbf; text-decoration-color: #7fbfbf\">                    </span>         <span style=\"color: #008080; text-decoration-color: #008080; font-weight: bold\">6.96515749145216</span>, <span style=\"color: #008080; text-decoration-color: #008080; font-weight: bold\">6.129663321957284</span>,                 <span style=\"color: #7f7f7f; text-decoration-color: #7f7f7f\">                                 </span>\n",
       "<span style=\"color: #7fbfbf; text-decoration-color: #7fbfbf\">                    </span>         <span style=\"color: #008080; text-decoration-color: #008080; font-weight: bold\">4.64175771823536</span>, <span style=\"color: #008080; text-decoration-color: #008080; font-weight: bold\">4.688893230367126</span>,                 <span style=\"color: #7f7f7f; text-decoration-color: #7f7f7f\">                                 </span>\n",
       "<span style=\"color: #7fbfbf; text-decoration-color: #7fbfbf\">                    </span>         <span style=\"color: #008080; text-decoration-color: #008080; font-weight: bold\">6.331328259071306</span>, <span style=\"color: #008080; text-decoration-color: #008080; font-weight: bold\">6.131220684377489</span>,                <span style=\"color: #7f7f7f; text-decoration-color: #7f7f7f\">                                 </span>\n",
       "<span style=\"color: #7fbfbf; text-decoration-color: #7fbfbf\">                    </span>         <span style=\"color: #008080; text-decoration-color: #008080; font-weight: bold\">4.918850974858197</span>, <span style=\"color: #008080; text-decoration-color: #008080; font-weight: bold\">5.684057529605189</span>,                <span style=\"color: #7f7f7f; text-decoration-color: #7f7f7f\">                                 </span>\n",
       "<span style=\"color: #7fbfbf; text-decoration-color: #7fbfbf\">                    </span>         <span style=\"color: #008080; text-decoration-color: #008080; font-weight: bold\">6.410152353156167</span>, <span style=\"color: #008080; text-decoration-color: #008080; font-weight: bold\">5.6420485999462064</span>,               <span style=\"color: #7f7f7f; text-decoration-color: #7f7f7f\">                                 </span>\n",
       "<span style=\"color: #7fbfbf; text-decoration-color: #7fbfbf\">                    </span>         <span style=\"color: #008080; text-decoration-color: #008080; font-weight: bold\">4.485581020133879</span>, <span style=\"color: #008080; text-decoration-color: #008080; font-weight: bold\">5.216779662893852</span>,                <span style=\"color: #7f7f7f; text-decoration-color: #7f7f7f\">                                 </span>\n",
       "<span style=\"color: #7fbfbf; text-decoration-color: #7fbfbf\">                    </span>         <span style=\"color: #008080; text-decoration-color: #008080; font-weight: bold\">5.49674346342948</span><span style=\"font-weight: bold\">]</span>                                    <span style=\"color: #7f7f7f; text-decoration-color: #7f7f7f\">                                 </span>\n",
       "<span style=\"color: #7fbfbf; text-decoration-color: #7fbfbf\">                    </span>                                                              <span style=\"color: #7f7f7f; text-decoration-color: #7f7f7f\">                                 </span>\n",
       "<span style=\"color: #7fbfbf; text-decoration-color: #7fbfbf\">                    </span>                                                              <span style=\"color: #7f7f7f; text-decoration-color: #7f7f7f\">                                 </span>\n",
       "</pre>\n"
      ],
      "text/plain": [
       "\u001b[2;36m2025-01-16 19:38:36\u001b[0m\u001b[2;36m \u001b[0m\u001b[34mINFO    \u001b[0m                                                      \u001b]8;id=480906;file:///media/donato/Extra-storage/Code/model-merging/Alternating-Tuning-and-Merging/src/tvp/pl_module/text_classifier.py\u001b\\\u001b[2mtvp.pl_module.text_classifier\u001b[0m\u001b]8;;\u001b\\\u001b[2m:\u001b[0m\u001b]8;id=121525;file:///media/donato/Extra-storage/Code/model-merging/Alternating-Tuning-and-Merging/src/tvp/pl_module/text_classifier.py#113\u001b\\\u001b[2m113\u001b[0m\u001b]8;;\u001b\\\n",
       "\u001b[2;36m                    \u001b[0m                                                              \u001b[2m                                 \u001b[0m\n",
       "\u001b[2;36m                    \u001b[0m         Epoch \u001b[1;36m0\u001b[0m: Batch gradient norms: \u001b[1m[\u001b[0m\u001b[1;36m6.596557356678137\u001b[0m,   \u001b[2m                                 \u001b[0m\n",
       "\u001b[2;36m                    \u001b[0m         \u001b[1;36m4.7355158917758065\u001b[0m, \u001b[1;36m5.095153029955823\u001b[0m,               \u001b[2m                                 \u001b[0m\n",
       "\u001b[2;36m                    \u001b[0m         \u001b[1;36m4.9413694124643275\u001b[0m, \u001b[1;36m5.214940941078348\u001b[0m,               \u001b[2m                                 \u001b[0m\n",
       "\u001b[2;36m                    \u001b[0m         \u001b[1;36m7.846432773376134\u001b[0m, \u001b[1;36m6.279455477299635\u001b[0m,                \u001b[2m                                 \u001b[0m\n",
       "\u001b[2;36m                    \u001b[0m         \u001b[1;36m5.077932208649469\u001b[0m, \u001b[1;36m5.540511345360274\u001b[0m,                \u001b[2m                                 \u001b[0m\n",
       "\u001b[2;36m                    \u001b[0m         \u001b[1;36m5.258557989128636\u001b[0m, \u001b[1;36m5.167896719678297\u001b[0m,                \u001b[2m                                 \u001b[0m\n",
       "\u001b[2;36m                    \u001b[0m         \u001b[1;36m5.901023531992347\u001b[0m, \u001b[1;36m5.155238498886476\u001b[0m,                \u001b[2m                                 \u001b[0m\n",
       "\u001b[2;36m                    \u001b[0m         \u001b[1;36m6.466470466661644\u001b[0m, \u001b[1;36m4.79412013533239\u001b[0m,                 \u001b[2m                                 \u001b[0m\n",
       "\u001b[2;36m                    \u001b[0m         \u001b[1;36m4.891950986072187\u001b[0m, \u001b[1;36m5.755793023825009\u001b[0m,                \u001b[2m                                 \u001b[0m\n",
       "\u001b[2;36m                    \u001b[0m         \u001b[1;36m4.841462257798388\u001b[0m, \u001b[1;36m5.469333307384811\u001b[0m,                \u001b[2m                                 \u001b[0m\n",
       "\u001b[2;36m                    \u001b[0m         \u001b[1;36m5.697735814368082\u001b[0m, \u001b[1;36m6.32944018603592\u001b[0m,                 \u001b[2m                                 \u001b[0m\n",
       "\u001b[2;36m                    \u001b[0m         \u001b[1;36m4.702782496017143\u001b[0m, \u001b[1;36m5.155757700409367\u001b[0m,                \u001b[2m                                 \u001b[0m\n",
       "\u001b[2;36m                    \u001b[0m         \u001b[1;36m5.642972828048795\u001b[0m, \u001b[1;36m5.478245232714083\u001b[0m,                \u001b[2m                                 \u001b[0m\n",
       "\u001b[2;36m                    \u001b[0m         \u001b[1;36m5.983798008980981\u001b[0m, \u001b[1;36m4.922799932189868\u001b[0m,                \u001b[2m                                 \u001b[0m\n",
       "\u001b[2;36m                    \u001b[0m         \u001b[1;36m5.359075222626054\u001b[0m, \u001b[1;36m4.711219753405043\u001b[0m,                \u001b[2m                                 \u001b[0m\n",
       "\u001b[2;36m                    \u001b[0m         \u001b[1;36m4.4352766803202375\u001b[0m, \u001b[1;36m5.957420143922736\u001b[0m,               \u001b[2m                                 \u001b[0m\n",
       "\u001b[2;36m                    \u001b[0m         \u001b[1;36m8.433780197422719\u001b[0m, \u001b[1;36m5.197322024607161\u001b[0m,                \u001b[2m                                 \u001b[0m\n",
       "\u001b[2;36m                    \u001b[0m         \u001b[1;36m4.9097839635636165\u001b[0m, \u001b[1;36m5.092482298657761\u001b[0m,               \u001b[2m                                 \u001b[0m\n",
       "\u001b[2;36m                    \u001b[0m         \u001b[1;36m6.173421319970959\u001b[0m, \u001b[1;36m5.051941428343917\u001b[0m,                \u001b[2m                                 \u001b[0m\n",
       "\u001b[2;36m                    \u001b[0m         \u001b[1;36m5.005590280398998\u001b[0m, \u001b[1;36m4.937640803305691\u001b[0m,                \u001b[2m                                 \u001b[0m\n",
       "\u001b[2;36m                    \u001b[0m         \u001b[1;36m5.0684073892960395\u001b[0m, \u001b[1;36m5.300195342263232\u001b[0m,               \u001b[2m                                 \u001b[0m\n",
       "\u001b[2;36m                    \u001b[0m         \u001b[1;36m4.869475892815888\u001b[0m, \u001b[1;36m4.895291070292038\u001b[0m,                \u001b[2m                                 \u001b[0m\n",
       "\u001b[2;36m                    \u001b[0m         \u001b[1;36m4.705610775457106\u001b[0m, \u001b[1;36m6.882456444826598\u001b[0m,                \u001b[2m                                 \u001b[0m\n",
       "\u001b[2;36m                    \u001b[0m         \u001b[1;36m4.29353874281859\u001b[0m, \u001b[1;36m4.5216099389498225\u001b[0m,                \u001b[2m                                 \u001b[0m\n",
       "\u001b[2;36m                    \u001b[0m         \u001b[1;36m4.996570245169572\u001b[0m, \u001b[1;36m5.646815770867205\u001b[0m,                \u001b[2m                                 \u001b[0m\n",
       "\u001b[2;36m                    \u001b[0m         \u001b[1;36m4.8045452926512136\u001b[0m, \u001b[1;36m4.510727608200782\u001b[0m,               \u001b[2m                                 \u001b[0m\n",
       "\u001b[2;36m                    \u001b[0m         \u001b[1;36m6.707248625978903\u001b[0m, \u001b[1;36m5.361899583239549\u001b[0m,                \u001b[2m                                 \u001b[0m\n",
       "\u001b[2;36m                    \u001b[0m         \u001b[1;36m6.2536594097162315\u001b[0m, \u001b[1;36m5.5314013944907865\u001b[0m,              \u001b[2m                                 \u001b[0m\n",
       "\u001b[2;36m                    \u001b[0m         \u001b[1;36m5.048559579168735\u001b[0m, \u001b[1;36m4.667611766114708\u001b[0m,                \u001b[2m                                 \u001b[0m\n",
       "\u001b[2;36m                    \u001b[0m         \u001b[1;36m4.741069942042106\u001b[0m, \u001b[1;36m5.760248397884312\u001b[0m,                \u001b[2m                                 \u001b[0m\n",
       "\u001b[2;36m                    \u001b[0m         \u001b[1;36m5.803904983011557\u001b[0m, \u001b[1;36m5.041161135083516\u001b[0m,                \u001b[2m                                 \u001b[0m\n",
       "\u001b[2;36m                    \u001b[0m         \u001b[1;36m4.956131066580712\u001b[0m, \u001b[1;36m6.697929892335583\u001b[0m,                \u001b[2m                                 \u001b[0m\n",
       "\u001b[2;36m                    \u001b[0m         \u001b[1;36m5.203809864369107\u001b[0m, \u001b[1;36m6.0019570083307325\u001b[0m,               \u001b[2m                                 \u001b[0m\n",
       "\u001b[2;36m                    \u001b[0m         \u001b[1;36m7.845139391445628\u001b[0m, \u001b[1;36m5.605415242641985\u001b[0m,                \u001b[2m                                 \u001b[0m\n",
       "\u001b[2;36m                    \u001b[0m         \u001b[1;36m5.119136882149641\u001b[0m, \u001b[1;36m8.112579232574596\u001b[0m,                \u001b[2m                                 \u001b[0m\n",
       "\u001b[2;36m                    \u001b[0m         \u001b[1;36m5.551763029279884\u001b[0m, \u001b[1;36m6.142598931423563\u001b[0m,                \u001b[2m                                 \u001b[0m\n",
       "\u001b[2;36m                    \u001b[0m         \u001b[1;36m5.021972409844191\u001b[0m, \u001b[1;36m10.460652770291317\u001b[0m,               \u001b[2m                                 \u001b[0m\n",
       "\u001b[2;36m                    \u001b[0m         \u001b[1;36m5.901941535327641\u001b[0m, \u001b[1;36m4.482455954393516\u001b[0m,                \u001b[2m                                 \u001b[0m\n",
       "\u001b[2;36m                    \u001b[0m         \u001b[1;36m6.013568392791875\u001b[0m, \u001b[1;36m5.346917667943355\u001b[0m,                \u001b[2m                                 \u001b[0m\n",
       "\u001b[2;36m                    \u001b[0m         \u001b[1;36m4.897169359991269\u001b[0m, \u001b[1;36m5.332948473042849\u001b[0m,                \u001b[2m                                 \u001b[0m\n",
       "\u001b[2;36m                    \u001b[0m         \u001b[1;36m5.151481565211068\u001b[0m, \u001b[1;36m6.924041920563867\u001b[0m,                \u001b[2m                                 \u001b[0m\n",
       "\u001b[2;36m                    \u001b[0m         \u001b[1;36m4.9299566530493495\u001b[0m, \u001b[1;36m4.649630457728134\u001b[0m,               \u001b[2m                                 \u001b[0m\n",
       "\u001b[2;36m                    \u001b[0m         \u001b[1;36m5.985763402080057\u001b[0m, \u001b[1;36m5.098409731206467\u001b[0m,                \u001b[2m                                 \u001b[0m\n",
       "\u001b[2;36m                    \u001b[0m         \u001b[1;36m5.07768671008126\u001b[0m, \u001b[1;36m5.464161939884087\u001b[0m,                 \u001b[2m                                 \u001b[0m\n",
       "\u001b[2;36m                    \u001b[0m         \u001b[1;36m6.96515749145216\u001b[0m, \u001b[1;36m6.129663321957284\u001b[0m,                 \u001b[2m                                 \u001b[0m\n",
       "\u001b[2;36m                    \u001b[0m         \u001b[1;36m4.64175771823536\u001b[0m, \u001b[1;36m4.688893230367126\u001b[0m,                 \u001b[2m                                 \u001b[0m\n",
       "\u001b[2;36m                    \u001b[0m         \u001b[1;36m6.331328259071306\u001b[0m, \u001b[1;36m6.131220684377489\u001b[0m,                \u001b[2m                                 \u001b[0m\n",
       "\u001b[2;36m                    \u001b[0m         \u001b[1;36m4.918850974858197\u001b[0m, \u001b[1;36m5.684057529605189\u001b[0m,                \u001b[2m                                 \u001b[0m\n",
       "\u001b[2;36m                    \u001b[0m         \u001b[1;36m6.410152353156167\u001b[0m, \u001b[1;36m5.6420485999462064\u001b[0m,               \u001b[2m                                 \u001b[0m\n",
       "\u001b[2;36m                    \u001b[0m         \u001b[1;36m4.485581020133879\u001b[0m, \u001b[1;36m5.216779662893852\u001b[0m,                \u001b[2m                                 \u001b[0m\n",
       "\u001b[2;36m                    \u001b[0m         \u001b[1;36m5.49674346342948\u001b[0m\u001b[1m]\u001b[0m                                    \u001b[2m                                 \u001b[0m\n",
       "\u001b[2;36m                    \u001b[0m                                                              \u001b[2m                                 \u001b[0m\n",
       "\u001b[2;36m                    \u001b[0m                                                              \u001b[2m                                 \u001b[0m\n"
      ]
     },
     "metadata": {},
     "output_type": "display_data"
    },
    {
     "data": {
      "text/html": [
       "<pre style=\"white-space:pre;overflow-x:auto;line-height:normal;font-family:Menlo,'DejaVu Sans Mono',consolas,'Courier New',monospace\"><span style=\"color: #7fbfbf; text-decoration-color: #7fbfbf\">                    </span><span style=\"color: #000080; text-decoration-color: #000080\">INFO    </span>                                                      <a href=\"file:///media/donato/Extra-storage/Code/model-merging/Alternating-Tuning-and-Merging/src/tvp/pl_module/text_classifier.py\" target=\"_blank\"><span style=\"color: #7f7f7f; text-decoration-color: #7f7f7f\">tvp.pl_module.text_classifier</span></a><span style=\"color: #7f7f7f; text-decoration-color: #7f7f7f\">:</span><a href=\"file:///media/donato/Extra-storage/Code/model-merging/Alternating-Tuning-and-Merging/src/tvp/pl_module/text_classifier.py#122\" target=\"_blank\"><span style=\"color: #7f7f7f; text-decoration-color: #7f7f7f\">122</span></a>\n",
       "<span style=\"color: #7fbfbf; text-decoration-color: #7fbfbf\">                    </span>                                                              <span style=\"color: #7f7f7f; text-decoration-color: #7f7f7f\">                                 </span>\n",
       "<span style=\"color: #7fbfbf; text-decoration-color: #7fbfbf\">                    </span>         Epoch <span style=\"color: #008080; text-decoration-color: #008080; font-weight: bold\">0</span>: Average gradient norm: <span style=\"color: #008080; text-decoration-color: #008080; font-weight: bold\">5.543376647930909</span>    <span style=\"color: #7f7f7f; text-decoration-color: #7f7f7f\">                                 </span>\n",
       "</pre>\n"
      ],
      "text/plain": [
       "\u001b[2;36m                   \u001b[0m\u001b[2;36m \u001b[0m\u001b[34mINFO    \u001b[0m                                                      \u001b]8;id=810921;file:///media/donato/Extra-storage/Code/model-merging/Alternating-Tuning-and-Merging/src/tvp/pl_module/text_classifier.py\u001b\\\u001b[2mtvp.pl_module.text_classifier\u001b[0m\u001b]8;;\u001b\\\u001b[2m:\u001b[0m\u001b]8;id=969344;file:///media/donato/Extra-storage/Code/model-merging/Alternating-Tuning-and-Merging/src/tvp/pl_module/text_classifier.py#122\u001b\\\u001b[2m122\u001b[0m\u001b]8;;\u001b\\\n",
       "\u001b[2;36m                    \u001b[0m                                                              \u001b[2m                                 \u001b[0m\n",
       "\u001b[2;36m                    \u001b[0m         Epoch \u001b[1;36m0\u001b[0m: Average gradient norm: \u001b[1;36m5.543376647930909\u001b[0m    \u001b[2m                                 \u001b[0m\n"
      ]
     },
     "metadata": {},
     "output_type": "display_data"
    },
    {
     "data": {
      "text/html": [
       "<pre style=\"white-space:pre;overflow-x:auto;line-height:normal;font-family:Menlo,'DejaVu Sans Mono',consolas,'Courier New',monospace\"><span style=\"color: #7fbfbf; text-decoration-color: #7fbfbf\">                    </span><span style=\"color: #000080; text-decoration-color: #000080\">INFO    </span> Epoch <span style=\"color: #008080; text-decoration-color: #008080; font-weight: bold\">0</span>: <span style=\"font-weight: bold\">[</span><span style=\"color: #008080; text-decoration-color: #008080; font-weight: bold\">5.543376647930909</span><span style=\"font-weight: bold\">]</span>                         <a href=\"file:///media/donato/Extra-storage/Code/model-merging/Alternating-Tuning-and-Merging/src/tvp/pl_module/text_classifier.py\" target=\"_blank\"><span style=\"color: #7f7f7f; text-decoration-color: #7f7f7f\">tvp.pl_module.text_classifier</span></a><span style=\"color: #7f7f7f; text-decoration-color: #7f7f7f\">:</span><a href=\"file:///media/donato/Extra-storage/Code/model-merging/Alternating-Tuning-and-Merging/src/tvp/pl_module/text_classifier.py#123\" target=\"_blank\"><span style=\"color: #7f7f7f; text-decoration-color: #7f7f7f\">123</span></a>\n",
       "<span style=\"color: #7fbfbf; text-decoration-color: #7fbfbf\">                    </span>                                                              <span style=\"color: #7f7f7f; text-decoration-color: #7f7f7f\">                                 </span>\n",
       "<span style=\"color: #7fbfbf; text-decoration-color: #7fbfbf\">                    </span>                                                              <span style=\"color: #7f7f7f; text-decoration-color: #7f7f7f\">                                 </span>\n",
       "</pre>\n"
      ],
      "text/plain": [
       "\u001b[2;36m                   \u001b[0m\u001b[2;36m \u001b[0m\u001b[34mINFO    \u001b[0m Epoch \u001b[1;36m0\u001b[0m: \u001b[1m[\u001b[0m\u001b[1;36m5.543376647930909\u001b[0m\u001b[1m]\u001b[0m                         \u001b]8;id=902387;file:///media/donato/Extra-storage/Code/model-merging/Alternating-Tuning-and-Merging/src/tvp/pl_module/text_classifier.py\u001b\\\u001b[2mtvp.pl_module.text_classifier\u001b[0m\u001b]8;;\u001b\\\u001b[2m:\u001b[0m\u001b]8;id=167968;file:///media/donato/Extra-storage/Code/model-merging/Alternating-Tuning-and-Merging/src/tvp/pl_module/text_classifier.py#123\u001b\\\u001b[2m123\u001b[0m\u001b]8;;\u001b\\\n",
       "\u001b[2;36m                    \u001b[0m                                                              \u001b[2m                                 \u001b[0m\n",
       "\u001b[2;36m                    \u001b[0m                                                              \u001b[2m                                 \u001b[0m\n"
      ]
     },
     "metadata": {},
     "output_type": "display_data"
    },
    {
     "name": "stderr",
     "output_type": "stream",
     "text": [
      "INFO: `Trainer.fit` stopped: `max_steps=100` reached.\n"
     ]
    },
    {
     "data": {
      "text/html": [
       "<pre style=\"white-space:pre;overflow-x:auto;line-height:normal;font-family:Menlo,'DejaVu Sans Mono',consolas,'Courier New',monospace\"><span style=\"color: #7fbfbf; text-decoration-color: #7fbfbf\">2025-01-16 19:40:25 </span><span style=\"color: #000080; text-decoration-color: #000080\">INFO    </span> `Trainer.fit` stopped: `<span style=\"color: #808000; text-decoration-color: #808000\">max_steps</span>=<span style=\"color: #008080; text-decoration-color: #008080; font-weight: bold\">100</span>`        <a href=\"file:///home/donato/miniconda3/envs/tvp/lib/python3.11/site-packages/lightning_utilities/core/rank_zero.py\" target=\"_blank\"><span style=\"color: #7f7f7f; text-decoration-color: #7f7f7f\">lightning.pytorch.utilities.rank_zero</span></a><span style=\"color: #7f7f7f; text-decoration-color: #7f7f7f\">:</span><a href=\"file:///home/donato/miniconda3/envs/tvp/lib/python3.11/site-packages/lightning_utilities/core/rank_zero.py#63\" target=\"_blank\"><span style=\"color: #7f7f7f; text-decoration-color: #7f7f7f\">63</span></a>\n",
       "<span style=\"color: #7fbfbf; text-decoration-color: #7fbfbf\">                    </span>         reached.                                      <span style=\"color: #7f7f7f; text-decoration-color: #7f7f7f\">                                        </span>\n",
       "</pre>\n"
      ],
      "text/plain": [
       "\u001b[2;36m2025-01-16 19:40:25\u001b[0m\u001b[2;36m \u001b[0m\u001b[34mINFO    \u001b[0m `Trainer.fit` stopped: `\u001b[33mmax_steps\u001b[0m=\u001b[1;36m100\u001b[0m`        \u001b]8;id=439900;file:///home/donato/miniconda3/envs/tvp/lib/python3.11/site-packages/lightning_utilities/core/rank_zero.py\u001b\\\u001b[2mlightning.pytorch.utilities.rank_zero\u001b[0m\u001b]8;;\u001b\\\u001b[2m:\u001b[0m\u001b]8;id=921520;file:///home/donato/miniconda3/envs/tvp/lib/python3.11/site-packages/lightning_utilities/core/rank_zero.py#63\u001b\\\u001b[2m63\u001b[0m\u001b]8;;\u001b\\\n",
       "\u001b[2;36m                    \u001b[0m         reached.                                      \u001b[2m                                        \u001b[0m\n"
      ]
     },
     "metadata": {},
     "output_type": "display_data"
    },
    {
     "name": "stdout",
     "output_type": "stream",
     "text": [
      "Epoch 0:   1%|          | 100/10234 [01:56<3:15:58,  1.16s/it, v_num=vo1w]\n"
     ]
    },
    {
     "data": {
      "text/html": [
       "<pre style=\"white-space:pre;overflow-x:auto;line-height:normal;font-family:Menlo,'DejaVu Sans Mono',consolas,'Courier New',monospace\"><span style=\"color: #7fbfbf; text-decoration-color: #7fbfbf\">2025-01-16 19:40:26 </span><span style=\"color: #000080; text-decoration-color: #000080\">INFO    </span> Starting testing!                                                          <a href=\"file:///tmp/ipykernel_533697/4281250531.py\" target=\"_blank\"><span style=\"color: #7f7f7f; text-decoration-color: #7f7f7f\">__main__</span></a><span style=\"color: #7f7f7f; text-decoration-color: #7f7f7f\">:</span><a href=\"file:///tmp/ipykernel_533697/4281250531.py#90\" target=\"_blank\"><span style=\"color: #7f7f7f; text-decoration-color: #7f7f7f\">90</span></a>\n",
       "</pre>\n"
      ],
      "text/plain": [
       "\u001b[2;36m2025-01-16 19:40:26\u001b[0m\u001b[2;36m \u001b[0m\u001b[34mINFO    \u001b[0m Starting testing!                                                          \u001b]8;id=550522;file:///tmp/ipykernel_533697/4281250531.py\u001b\\\u001b[2m__main__\u001b[0m\u001b]8;;\u001b\\\u001b[2m:\u001b[0m\u001b]8;id=749141;file:///tmp/ipykernel_533697/4281250531.py#90\u001b\\\u001b[2m90\u001b[0m\u001b]8;;\u001b\\\n"
      ]
     },
     "metadata": {},
     "output_type": "display_data"
    },
    {
     "name": "stderr",
     "output_type": "stream",
     "text": [
      "LOCAL_RANK: 0 - CUDA_VISIBLE_DEVICES: [0]\n"
     ]
    },
    {
     "name": "stdout",
     "output_type": "stream",
     "text": [
      "Testing DataLoader 0: 100%|██████████| 1264/1264 [00:21<00:00, 58.56it/s]\n"
     ]
    },
    {
     "data": {
      "text/html": [
       "<pre style=\"white-space:pre;overflow-x:auto;line-height:normal;font-family:Menlo,'DejaVu Sans Mono',consolas,'Courier New',monospace\">┏━━━━━━━━━━━━━━━━━━━━━━━━━━━┳━━━━━━━━━━━━━━━━━━━━━━━━━━━┓\n",
       "┃<span style=\"font-weight: bold\">   Runningstage.testing    </span>┃<span style=\"font-weight: bold\">                           </span>┃\n",
       "┃<span style=\"font-weight: bold\">          metric           </span>┃<span style=\"font-weight: bold\">       DataLoader 0        </span>┃\n",
       "┡━━━━━━━━━━━━━━━━━━━━━━━━━━━╇━━━━━━━━━━━━━━━━━━━━━━━━━━━┩\n",
       "│<span style=\"color: #008080; text-decoration-color: #008080\">         acc/test          </span>│<span style=\"color: #800080; text-decoration-color: #800080\">    0.6497155427932739     </span>│\n",
       "│<span style=\"color: #008080; text-decoration-color: #008080\">         loss/test         </span>│<span style=\"color: #800080; text-decoration-color: #800080\">    0.6392275094985962     </span>│\n",
       "└───────────────────────────┴───────────────────────────┘\n",
       "</pre>\n"
      ],
      "text/plain": [
       "┏━━━━━━━━━━━━━━━━━━━━━━━━━━━┳━━━━━━━━━━━━━━━━━━━━━━━━━━━┓\n",
       "┃\u001b[1m \u001b[0m\u001b[1m  Runningstage.testing   \u001b[0m\u001b[1m \u001b[0m┃\u001b[1m                           \u001b[0m┃\n",
       "┃\u001b[1m \u001b[0m\u001b[1m         metric          \u001b[0m\u001b[1m \u001b[0m┃\u001b[1m \u001b[0m\u001b[1m      DataLoader 0       \u001b[0m\u001b[1m \u001b[0m┃\n",
       "┡━━━━━━━━━━━━━━━━━━━━━━━━━━━╇━━━━━━━━━━━━━━━━━━━━━━━━━━━┩\n",
       "│\u001b[36m \u001b[0m\u001b[36m        acc/test         \u001b[0m\u001b[36m \u001b[0m│\u001b[35m \u001b[0m\u001b[35m   0.6497155427932739    \u001b[0m\u001b[35m \u001b[0m│\n",
       "│\u001b[36m \u001b[0m\u001b[36m        loss/test        \u001b[0m\u001b[36m \u001b[0m│\u001b[35m \u001b[0m\u001b[35m   0.6392275094985962    \u001b[0m\u001b[35m \u001b[0m│\n",
       "└───────────────────────────┴───────────────────────────┘\n"
      ]
     },
     "metadata": {},
     "output_type": "display_data"
    },
    {
     "data": {
      "text/html": [
       "<style>\n",
       "    table.wandb td:nth-child(1) { padding: 0 10px; text-align: left ; width: auto;} td:nth-child(2) {text-align: left ; width: 100%}\n",
       "    .wandb-row { display: flex; flex-direction: row; flex-wrap: wrap; justify-content: flex-start; width: 100% }\n",
       "    .wandb-col { display: flex; flex-direction: column; flex-basis: 100%; flex: 1; padding: 10px; }\n",
       "    </style>\n",
       "<div class=\"wandb-row\"><div class=\"wandb-col\"><h3>Run history:</h3><br/><table class=\"wandb\"><tr><td>acc/test</td><td>▁</td></tr><tr><td>acc/train_epoch</td><td>▁</td></tr><tr><td>epoch</td><td>▁▁▁█</td></tr><tr><td>grad_norm_batch</td><td>▁█</td></tr><tr><td>grad_norm_epoch</td><td>▁</td></tr><tr><td>loss/test</td><td>▁</td></tr><tr><td>loss/train_epoch</td><td>▁</td></tr><tr><td>loss/train_step</td><td>▁█</td></tr><tr><td>lr-SGD</td><td>▁▁</td></tr><tr><td>trainer/global_step</td><td>▁▁████</td></tr></table><br/></div><div class=\"wandb-col\"><h3>Run summary:</h3><br/><table class=\"wandb\"><tr><td>acc/test</td><td>0.64972</td></tr><tr><td>acc/train_epoch</td><td>0.61969</td></tr><tr><td>epoch</td><td>1</td></tr><tr><td>grad_norm_batch</td><td>5.49674</td></tr><tr><td>grad_norm_epoch</td><td>5.54338</td></tr><tr><td>loss/test</td><td>0.63923</td></tr><tr><td>loss/train_epoch</td><td>0.66009</td></tr><tr><td>loss/train_step</td><td>0.71494</td></tr><tr><td>lr-SGD</td><td>0.001</td></tr><tr><td>trainer/global_step</td><td>100</td></tr></table><br/></div></div>"
      ],
      "text/plain": [
       "<IPython.core.display.HTML object>"
      ]
     },
     "metadata": {},
     "output_type": "display_data"
    },
    {
     "data": {
      "text/html": [
       " View run <strong style=\"color:#cdcd00\">fragrant-night-2115</strong> at: <a href='https://wandb.ai/dansolombrinoandfriends/higher-order-task-arithmetics/runs/p097vo1w' target=\"_blank\">https://wandb.ai/dansolombrinoandfriends/higher-order-task-arithmetics/runs/p097vo1w</a><br/> View project at: <a href='https://wandb.ai/dansolombrinoandfriends/higher-order-task-arithmetics' target=\"_blank\">https://wandb.ai/dansolombrinoandfriends/higher-order-task-arithmetics</a><br/>Synced 7 W&B file(s), 0 media file(s), 106 artifact file(s) and 0 other file(s)"
      ],
      "text/plain": [
       "<IPython.core.display.HTML object>"
      ]
     },
     "metadata": {},
     "output_type": "display_data"
    },
    {
     "data": {
      "text/html": [
       "Find logs at: <code>./wandb/run-20250116_193357-p097vo1w/logs</code>"
      ],
      "text/plain": [
       "<IPython.core.display.HTML object>"
      ]
     },
     "metadata": {},
     "output_type": "display_data"
    }
   ],
   "source": [
    "seed_index_everything(cfg)\n",
    "\n",
    "template_core: NNTemplateCore = NNTemplateCore(\n",
    "    restore_cfg=cfg.train.get(\"restore\", None),\n",
    ")\n",
    "\n",
    "logger: NNLogger = NNLogger(\n",
    "    logging_cfg=cfg.train.logging, \n",
    "    cfg=cfg, \n",
    "    resume_id=template_core.resume_id\n",
    ")\n",
    "\n",
    "classification_head_identifier = f\"{cfg.nn.module.model.model_name}_{cfg.nn.data.dataset.dataset_name}_head\"\n",
    "\n",
    "text_encoder: TextEncoder = hydra.utils.instantiate(cfg.nn.module.model, keep_lang=False)\n",
    "    \n",
    "model_class = get_class(text_encoder)\n",
    "metadata = {\"model_name\": cfg.nn.module.model.model_name, \"model_class\": model_class}\n",
    "\n",
    "if cfg.reset_classification_head:\n",
    "    classification_head = get_classification_head(\n",
    "        input_size=cfg.nn.module.model.hidden_size,\n",
    "        num_classes=cfg.nn.data.dataset.num_classes\n",
    "    )\n",
    "\n",
    "    model_class = get_class(classification_head)\n",
    "    \n",
    "    metadata = {\n",
    "        \"model_name\": cfg.nn.module.model.model_name,\n",
    "        \"model_class\": model_class,\n",
    "        \"num_classes\": cfg.nn.data.dataset.num_classes,\n",
    "        \"input_size\": cfg.nn.module.model.hidden_size,\n",
    "    }\n",
    "\n",
    "else:\n",
    "    classification_head = load_model_from_artifact(\n",
    "        artifact_path=f\"{classification_head_identifier}:latest\", \n",
    "        run=logger.experiment\n",
    "    )\n",
    "\n",
    "model: TextClassifier = hydra.utils.instantiate(\n",
    "    cfg.nn.module, \n",
    "    encoder=text_encoder, classifier=classification_head, \n",
    "    _recursive_=False,\n",
    "    save_grad_norms=cfg.train.save_grad_norms\n",
    ")\n",
    "\n",
    "dataset = get_text_dataset(\n",
    "    dataset_name=cfg.nn.data.train_dataset,\n",
    "    tokenizer_name=cfg.nn.module.model.model_name,\n",
    "    train_split_ratio_for_val=cfg.nn.data.splits_pct.val,\n",
    "    max_seq_length=cfg.nn.data.max_seq_length,\n",
    "    batch_size=cfg.nn.data.batch_size.train,\n",
    "    num_workers=cfg.nn.data.num_workers.train\n",
    ")\n",
    "\n",
    "model.freeze_head()\n",
    "\n",
    "callbacks: List[Callback] = build_callbacks(cfg.train.callbacks, template_core)\n",
    "\n",
    "storage_dir: str = cfg.core.storage_dir\n",
    "\n",
    "pylogger.info(\"Instantiating the <Trainer>\")\n",
    "trainer = pl.Trainer(\n",
    "    default_root_dir=storage_dir,\n",
    "    plugins=[NNCheckpointIO(jailing_dir=logger.run_dir)],\n",
    "    # max_epochs=cfg.epochs, \n",
    "    max_epochs=cfg.nn.data.dataset.ft_epochs,\n",
    "    logger=logger,\n",
    "    callbacks=callbacks,\n",
    "    max_steps=100,\n",
    "    **cfg.train.trainer,\n",
    ")\n",
    "\n",
    "pylogger.info(f\"Starting fine-tuning on {cfg.ft_on_data_split} data split!\")\n",
    "if cfg.ft_on_data_split == \"train\":\n",
    "    ft_dataloader = dataset.train_loader\n",
    "elif cfg.ft_on_data_split == \"val\":\n",
    "    ft_dataloader = dataset.val_loader\n",
    "else:\n",
    "    raise ValueError(f\"Unknown data split to fine-tune on: {cfg.ft_on_data_split}. Possible values: \\\"train\\\" or \\\"val\\\"\")\n",
    "\n",
    "pylogger.info(\"Starting training!\")\n",
    "trainer.fit(\n",
    "    model=model, \n",
    "    train_dataloaders=ft_dataloader, \n",
    "    ckpt_path=template_core.trainer_ckpt_path\n",
    ")\n",
    "\n",
    "pylogger.info(\"Starting testing!\")\n",
    "trainer.test(model=model, dataloaders=dataset.test_loader)\n",
    "\n",
    "model_class = get_class(text_encoder)\n",
    "\n",
    "metadata = {\n",
    "    \"model_name\": cfg.nn.module.model.model_name, \n",
    "    \"model_class\": model_class\n",
    "}\n",
    "\n",
    "if logger is not None:\n",
    "    logger.experiment.finish()\n",
    "\n",
    "trainer.save_checkpoint(os.path.join(storage_dir, \"final_model.ckpt\"))"
   ]
  },
  {
   "cell_type": "code",
   "execution_count": 30,
   "metadata": {},
   "outputs": [],
   "source": [
    "encoder_ckpt = os.path.join(storage_dir, \"encoder.pt\")\n",
    "torch.save(model.encoder.state_dict(), encoder_ckpt)\n",
    "\n",
    "head_ckpt = os.path.join(storage_dir, \"head.pt\")\n",
    "torch.save(model.classification_head.state_dict(), head_ckpt)"
   ]
  },
  {
   "cell_type": "code",
   "execution_count": 31,
   "metadata": {},
   "outputs": [],
   "source": [
    "head_state_dict = torch.load(head_ckpt)"
   ]
  },
  {
   "cell_type": "code",
   "execution_count": 32,
   "metadata": {},
   "outputs": [
    {
     "name": "stdout",
     "output_type": "stream",
     "text": [
      "['classification_head.weight', 'classification_head.bias']\n"
     ]
    }
   ],
   "source": [
    "from pprint import pprint\n",
    "pprint(list(head_state_dict.keys()))"
   ]
  },
  {
   "cell_type": "code",
   "execution_count": null,
   "metadata": {},
   "outputs": [],
   "source": []
  }
 ],
 "metadata": {
  "kernelspec": {
   "display_name": "tvp",
   "language": "python",
   "name": "python3"
  },
  "language_info": {
   "codemirror_mode": {
    "name": "ipython",
    "version": 3
   },
   "file_extension": ".py",
   "mimetype": "text/x-python",
   "name": "python",
   "nbconvert_exporter": "python",
   "pygments_lexer": "ipython3",
   "version": "3.11.8"
  }
 },
 "nbformat": 4,
 "nbformat_minor": 2
}
