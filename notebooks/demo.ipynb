{
 "cells": [
  {
   "cell_type": "code",
   "execution_count": null,
   "metadata": {},
   "outputs": [],
   "source": [
    "import torch\n",
    "from src.task_vectors import TaskVector\n",
    "from src.eval import eval_single_dataset, evaluate\n",
    "from src.args import parse_arguments\n",
    "import os\n",
    "\n",
    "args = parse_arguments()\n",
    "\n",
    "args.train_dataset = args.dataset_name + \"Val\"\n",
    "args.eval_datasets = [args.dataset_name]\n",
    "args.batch_size = 64\n",
    "\n",
    "# Config\n",
    "# datasets = ['MNISTVal']\n",
    "datasets_finetuned_name = {\n",
    "    args.apply_task_vectors[i]: f\"finetuned_full_seed_{args.manual_seed}.pt\"\n",
    "    for i in range(len(args.apply_task_vectors))\n",
    "}\n",
    "\n",
    "args.data_location = \"./data\"\n",
    "model = args.model\n",
    "args.save = f\"checkpoints/{model}\"\n",
    "pretrained_checkpoint = f\"checkpoints/{model}/zeroshot.pt\"\n",
    "\n",
    "# Create the task vectors\n",
    "task_vectors = [\n",
    "    TaskVector(pretrained_checkpoint, f\"checkpoints/{model}/{dataset}/{datasets_finetuned_name[dataset]}\")\n",
    "    for dataset in args.apply_task_vectors\n",
    "]\n",
    "\n",
    "# Sum the task vectors\n",
    "task_vector_sum = sum(task_vectors)\n",
    "\n",
    "# Apply the resulting task vector\n",
    "image_encoder = task_vector_sum.apply_to(pretrained_checkpoint, scaling_coef=args.tv_scaling_coeff)\n",
    "\n",
    "# Evaluate\n",
    "evaluate(image_encoder, args)\n",
    "\n",
    "# Evaluate # NOTE this evaluates on the training set, not the validation set\n",
    "# for dataset in args.apply_task_vectors:\n",
    "#     eval_single_dataset(image_encoder, dataset, args)\n",
    "#     pass\n",
    "\n",
    "# Save model with applied task vectors\n",
    "# datasets_str = '_and_'.join(args.apply_task_vectors)\n",
    "# export_path = f'checkpoints/{model}/{datasets_str}'\n",
    "# os.makedirs(export_path, exist_ok=True)\n",
    "# if args.save is not None:\n",
    "#     image_encoder.save(f\"{export_path}/finetuned_full_seed_{args.manual_seed}_scaling_coeff_{args.tv_scaling_coeff}.pt\")"
   ]
  }
 ],
 "metadata": {
  "language_info": {
   "name": "python"
  }
 },
 "nbformat": 4,
 "nbformat_minor": 2
}
