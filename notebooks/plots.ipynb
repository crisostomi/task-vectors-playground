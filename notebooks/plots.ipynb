{
 "cells": [
  {
   "cell_type": "code",
   "execution_count": null,
   "metadata": {},
   "outputs": [],
   "source": [
    "import wandb\n",
    "import logging\n",
    "\n",
    "from tqdm import tqdm\n",
    "from wandb.sdk.wandb_run import Run\n",
    "import numpy as np\n",
    "import pandas as pd\n",
    "import plotly.express as px\n",
    "import numpy as np\n",
    "import plotly.graph_objs as go\n",
    "import plotly.io as pio\n",
    "import matplotlib.pyplot as plt\n",
    "from nn_core.common import PROJECT_ROOT"
   ]
  },
  {
   "cell_type": "code",
   "execution_count": null,
   "metadata": {},
   "outputs": [],
   "source": [
    "from tvp.utils.plots import Palette\n",
    "\n",
    "palette = Palette(f\"{PROJECT_ROOT}/misc/palette.json\", f\"{PROJECT_ROOT}/misc/palette_map.json\")\n",
    "\n",
    "plt.rcParams.update(\n",
    "    {\n",
    "        \"text.usetex\": True,\n",
    "        \"font.family\": \"serif\",\n",
    "    }\n",
    ")\n",
    "\n",
    "pylogger = logging.getLogger(__name__)\n",
    "palette"
   ]
  },
  {
   "cell_type": "code",
   "execution_count": null,
   "metadata": {},
   "outputs": [],
   "source": [
    "import matplotlib.pyplot as plt\n",
    "\n",
    "\n",
    "def plot_accs(data, normalized, finetune_accs):\n",
    "    approach_one, approach_two = list(data.keys())\n",
    "\n",
    "    approach_one_data = data[approach_one]\n",
    "    approach_two_data = data[approach_two]\n",
    "\n",
    "    if normalized:\n",
    "        approach_one_data = {k: v / finetune_accs[k] for k, v in approach_one_data.items()}\n",
    "        approach_two_data = {k: v / finetune_accs[k] for k, v in approach_two_data.items()}\n",
    "\n",
    "    approach_one_mean = np.mean(list(approach_one_data.values()))\n",
    "    approach_two_mean = np.mean(list(approach_two_data.values()))\n",
    "\n",
    "    print(f\"Approach 1 mean: {approach_one_mean}\")\n",
    "    print(f\"Approach 2 mean: {approach_two_mean}\")\n",
    "\n",
    "    approach_one = \"spherical\"\n",
    "    approach_two = \"mean\"\n",
    "\n",
    "    # Symbols for each dataset\n",
    "    symbols = [\"o\", \"s\", \"D\", \"^\", \"v\", \">\", \"<\", \"p\"]\n",
    "\n",
    "    # Plotting\n",
    "    plt.figure(figsize=(12, 8))\n",
    "\n",
    "    # Plot data for model 1\n",
    "    for (dataset, accuracy), symbol in zip(approach_one_data.items(), symbols):\n",
    "        plt.scatter(dataset, accuracy, marker=symbol, s=100, color=palette[\"green\"])\n",
    "\n",
    "    # Plot data for model 2\n",
    "    for (dataset, accuracy), symbol in zip(approach_two_data.items(), symbols):\n",
    "        plt.scatter(dataset, accuracy, marker=symbol, s=100, color=palette[\"light red\"])\n",
    "\n",
    "    # Add labels and title\n",
    "    plt.xlabel(\"Dataset\")\n",
    "    plt.ylabel(\"Accuracy\")\n",
    "    plt.title(\"Test Accuracies of Different Datasets for Two Models\")\n",
    "\n",
    "    # plot mean acc\n",
    "    plt.axhline(y=approach_one_mean, color=palette[\"green\"], linestyle=\"--\", label=f\"{approach_one} mean\")\n",
    "    plt.axhline(y=approach_two_mean, color=palette[\"light red\"], linestyle=\"--\", label=f\"{approach_two} mean\")\n",
    "\n",
    "    # Create custom legend\n",
    "    blue_patch = plt.Line2D(\n",
    "        [0], [0], marker=\"o\", color=\"w\", markerfacecolor=palette[\"green\"], markersize=10, label=approach_one\n",
    "    )\n",
    "    red_patch = plt.Line2D(\n",
    "        [0], [0], marker=\"o\", color=\"w\", markerfacecolor=palette[\"light red\"], markersize=10, label=approach_two\n",
    "    )\n",
    "    plt.legend(handles=[blue_patch, red_patch], loc=\"upper right\")\n",
    "\n",
    "    plt.grid(True)\n",
    "\n",
    "    # Show plot\n",
    "    plt.show()"
   ]
  },
  {
   "cell_type": "code",
   "execution_count": null,
   "metadata": {},
   "outputs": [],
   "source": [
    "results_spherical = {\n",
    "    \"Cars\": 0.6894664764404297,\n",
    "    \"CIFAR100\": 0.7228999733924866,\n",
    "    \"DTD\": 0.4964539110660553,\n",
    "    \"EuroSAT\": 0.8348610997200012,\n",
    "    \"GTSRB\": 0.6641330122947693,\n",
    "    \"MNIST\": 0.9581000208854675,\n",
    "    \"RESISC45\": 0.7265079617500305,\n",
    "    \"SVHN\": 0.7866856455802917,\n",
    "}\n",
    "\n",
    "results_mean = {\n",
    "    \"Cars\": 0.7001616954803467,\n",
    "    \"CIFAR100\": 0.7254999876022339,\n",
    "    \"DTD\": 0.5035461187362671,\n",
    "    \"EuroSAT\": 0.8450462818145752,\n",
    "    \"GTSRB\": 0.6596991419792175,\n",
    "    \"MNIST\": 0.9501000046730042,\n",
    "    \"RESISC45\": 0.7350793480873108,\n",
    "    \"SVHN\": 0.763905942440033,\n",
    "}\n",
    "\n",
    "finetuning_accs = {\n",
    "    \"Cars\": 0.8673,\n",
    "    \"CIFAR100\": 0.8748,\n",
    "    \"DTD\": 0.847,\n",
    "    \"EuroSAT\": 0.9937,\n",
    "    \"GTSRB\": 0.9989,\n",
    "    \"MNIST\": 0.994,\n",
    "    \"RESISC45\": 0.9603,\n",
    "    \"SVHN\": 0.9618,\n",
    "}"
   ]
  },
  {
   "cell_type": "code",
   "execution_count": null,
   "metadata": {},
   "outputs": [],
   "source": [
    "data = {\"spherical\": results_spherical, \"mean\": results_mean}"
   ]
  },
  {
   "cell_type": "code",
   "execution_count": null,
   "metadata": {},
   "outputs": [],
   "source": [
    "plot_accs(data, normalized=True, finetune_accs=finetuning_accs)"
   ]
  },
  {
   "cell_type": "code",
   "execution_count": null,
   "metadata": {},
   "outputs": [],
   "source": [
    "plot_accs(data, normalized=False, finetune_accs=None)"
   ]
  },
  {
   "cell_type": "code",
   "execution_count": null,
   "metadata": {},
   "outputs": [],
   "source": []
  }
 ],
 "metadata": {
  "kernelspec": {
   "display_name": "tvp",
   "language": "python",
   "name": "python3"
  },
  "language_info": {
   "codemirror_mode": {
    "name": "ipython",
    "version": 3
   },
   "file_extension": ".py",
   "mimetype": "text/x-python",
   "name": "python",
   "nbconvert_exporter": "python",
   "pygments_lexer": "ipython3",
   "version": "3.11.8"
  }
 },
 "nbformat": 4,
 "nbformat_minor": 2
}
