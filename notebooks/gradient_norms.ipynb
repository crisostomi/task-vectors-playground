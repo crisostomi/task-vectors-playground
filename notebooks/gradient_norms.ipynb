{
 "cells": [
  {
   "cell_type": "code",
   "execution_count": null,
   "metadata": {},
   "outputs": [],
   "source": [
    "import os\n",
    "import json\n",
    "import pandas as pd"
   ]
  },
  {
   "cell_type": "code",
   "execution_count": null,
   "metadata": {},
   "outputs": [],
   "source": [
    "import matplotlib\n",
    "import seaborn as sns\n",
    "import matplotlib.pyplot as plt\n",
    "import numpy as np\n",
    "import pandas as pd\n",
    "from nn_core.common import PROJECT_ROOT"
   ]
  },
  {
   "cell_type": "code",
   "execution_count": null,
   "metadata": {},
   "outputs": [],
   "source": [
    "from tvp.utils.plots import Palette\n",
    "\n",
    "palette = Palette(f\"{PROJECT_ROOT}/misc/palette.json\", f\"{PROJECT_ROOT}/misc/palette_map.json\")\n",
    "\n",
    "plt.rcParams.update(\n",
    "    {\n",
    "        \"text.usetex\": True,\n",
    "        \"font.family\": \"serif\",\n",
    "    }\n",
    ")\n",
    "\n",
    "palette"
   ]
  },
  {
   "cell_type": "code",
   "execution_count": null,
   "metadata": {},
   "outputs": [],
   "source": [
    "matplotlib.rcParams[\"font.family\"] = \"serif\"\n",
    "sns.set_context(\"talk\")\n",
    "matplotlib.rcParams[\"text.usetex\"] = True"
   ]
  },
  {
   "cell_type": "code",
   "execution_count": null,
   "metadata": {},
   "outputs": [],
   "source": [
    "df = pd.read_csv(\"gradient_norms.csv\")"
   ]
  },
  {
   "cell_type": "code",
   "execution_count": null,
   "metadata": {},
   "outputs": [],
   "source": [
    "cols_to_remove = [col for col in df.columns if \"MAX\" in col]\n",
    "cols_to_remove += [col for col in df.columns if \"step\" in col]\n",
    "cols_to_remove += [col for col in df.columns if \"MIN\" in col]\n",
    "\n",
    "df = df.drop(cols_to_remove, axis=1)"
   ]
  },
  {
   "cell_type": "code",
   "execution_count": null,
   "metadata": {},
   "outputs": [],
   "source": []
  },
  {
   "cell_type": "code",
   "execution_count": null,
   "metadata": {},
   "outputs": [],
   "source": [
    "run_to_dataset = {\n",
    "    \"light-grass-2670\": \"CIFAR100\",\n",
    "    \"hopeful-fire-2669\": \"SVHN\",\n",
    "    \"fresh-grass-2668\": \"RESISC45\",\n",
    "    \"radiant-disco-2667\": \"MNIST\",\n",
    "    \"ethereal-cosmos-2665\": \"EuroSAT\",\n",
    "    \"smooth-gorge-2662\": \"GTSRB\",\n",
    "    \"leafy-sunset-2659\": \"DTD\",\n",
    "}"
   ]
  },
  {
   "cell_type": "code",
   "execution_count": null,
   "metadata": {},
   "outputs": [],
   "source": [
    "df.drop(columns=[\"epoch\"], inplace=True)"
   ]
  },
  {
   "cell_type": "code",
   "execution_count": null,
   "metadata": {},
   "outputs": [],
   "source": [
    "for col in df.columns:\n",
    "    run_name = col.removesuffix(\" - grad_norm_epoch\")\n",
    "    dataset_name = run_to_dataset[run_name]\n",
    "    df = df.rename(columns={col: dataset_name})\n",
    "\n",
    "df = df.T\n",
    "df"
   ]
  },
  {
   "cell_type": "code",
   "execution_count": null,
   "metadata": {},
   "outputs": [],
   "source": [
    "df[\"tot_norm\"] = df.sum(axis=1)\n",
    "df"
   ]
  },
  {
   "cell_type": "code",
   "execution_count": null,
   "metadata": {},
   "outputs": [],
   "source": [
    "df_normalized = df.div(df[\"tot_norm\"], axis=0).drop(columns=[\"tot_norm\"])\n",
    "\n",
    "# only keep first 5 epochs\n",
    "\n",
    "df_normalized = df_normalized.iloc[:, :5]"
   ]
  },
  {
   "cell_type": "code",
   "execution_count": null,
   "metadata": {},
   "outputs": [],
   "source": [
    "# bar plot\n",
    "\n",
    "fig, ax = plt.subplots(figsize=(10, 6))\n",
    "\n",
    "df_normalized.plot(kind=\"bar\", ax=ax, color=palette.get_colors(len(df_normalized.columns)), alpha=0.7)\n",
    "\n",
    "ax.set_ylabel(\"Normalized Gradient Norm\")\n",
    "\n",
    "plt.xticks(rotation=45)\n",
    "# no legend\n",
    "ax.get_legend().remove()\n",
    "\n",
    "plt.tight_layout()\n",
    "\n",
    "plt.savefig(\"figures/normalized_gradient_norms.pdf\", bbox_inches=\"tight\")\n",
    "\n",
    "plt.show()"
   ]
  },
  {
   "cell_type": "code",
   "execution_count": null,
   "metadata": {},
   "outputs": [],
   "source": []
  }
 ],
 "metadata": {
  "kernelspec": {
   "display_name": "tvp",
   "language": "python",
   "name": "python3"
  },
  "language_info": {
   "codemirror_mode": {
    "name": "ipython",
    "version": 3
   },
   "file_extension": ".py",
   "mimetype": "text/x-python",
   "name": "python",
   "nbconvert_exporter": "python",
   "pygments_lexer": "ipython3",
   "version": "3.11.8"
  }
 },
 "nbformat": 4,
 "nbformat_minor": 2
}
