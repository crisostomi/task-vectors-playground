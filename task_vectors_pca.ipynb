{
 "cells": [
  {
   "cell_type": "markdown",
   "metadata": {},
   "source": [
    "# PCA on Task Vectors"
   ]
  },
  {
   "cell_type": "code",
   "execution_count": 1,
   "metadata": {},
   "outputs": [
    {
     "name": "stderr",
     "output_type": "stream",
     "text": [
      "/home/lisadl/.local/lib/python3.11/site-packages/tqdm/auto.py:21: TqdmWarning: IProgress not found. Please update jupyter and ipywidgets. See https://ipywidgets.readthedocs.io/en/stable/user_install.html\n",
      "  from .autonotebook import tqdm as notebook_tqdm\n"
     ]
    },
    {
     "data": {
      "text/html": [
       "<pre style=\"white-space:pre;overflow-x:auto;line-height:normal;font-family:Menlo,'DejaVu Sans Mono',consolas,'Courier New',monospace\"><span style=\"color: #7fbfbf; text-decoration-color: #7fbfbf\">2024-04-22 18:57:25 </span><span style=\"color: #000080; text-decoration-color: #000080\">INFO    </span> Created a temporary directory at              <a href=\"file:///home/lisadl/.local/lib/python3.11/site-packages/torch/distributed/nn/jit/instantiator.py\" target=\"_blank\"><span style=\"color: #7f7f7f; text-decoration-color: #7f7f7f\">torch.distributed.nn.jit.instantiator</span></a><span style=\"color: #7f7f7f; text-decoration-color: #7f7f7f\">:</span><a href=\"file:///home/lisadl/.local/lib/python3.11/site-packages/torch/distributed/nn/jit/instantiator.py#21\" target=\"_blank\"><span style=\"color: #7f7f7f; text-decoration-color: #7f7f7f\">21</span></a>\n",
       "<span style=\"color: #7fbfbf; text-decoration-color: #7fbfbf\">                    </span>         <span style=\"color: #800080; text-decoration-color: #800080\">/tmp/</span><span style=\"color: #ff00ff; text-decoration-color: #ff00ff\">tmp0eso8lox</span>                              <span style=\"color: #7f7f7f; text-decoration-color: #7f7f7f\">                                        </span>\n",
       "</pre>\n"
      ],
      "text/plain": [
       "\u001b[2;36m2024-04-22 18:57:25\u001b[0m\u001b[2;36m \u001b[0m\u001b[34mINFO    \u001b[0m Created a temporary directory at              \u001b]8;id=176920;file:///home/lisadl/.local/lib/python3.11/site-packages/torch/distributed/nn/jit/instantiator.py\u001b\\\u001b[2mtorch.distributed.nn.jit.instantiator\u001b[0m\u001b]8;;\u001b\\\u001b[2m:\u001b[0m\u001b]8;id=826144;file:///home/lisadl/.local/lib/python3.11/site-packages/torch/distributed/nn/jit/instantiator.py#21\u001b\\\u001b[2m21\u001b[0m\u001b]8;;\u001b\\\n",
       "\u001b[2;36m                    \u001b[0m         \u001b[35m/tmp/\u001b[0m\u001b[95mtmp0eso8lox\u001b[0m                              \u001b[2m                                        \u001b[0m\n"
      ]
     },
     "metadata": {},
     "output_type": "display_data"
    },
    {
     "data": {
      "text/html": [
       "<pre style=\"white-space:pre;overflow-x:auto;line-height:normal;font-family:Menlo,'DejaVu Sans Mono',consolas,'Courier New',monospace\"><span style=\"color: #7fbfbf; text-decoration-color: #7fbfbf\">                    </span><span style=\"color: #000080; text-decoration-color: #000080\">INFO    </span> Writing                                       <a href=\"file:///home/lisadl/.local/lib/python3.11/site-packages/torch/distributed/nn/jit/instantiator.py\" target=\"_blank\"><span style=\"color: #7f7f7f; text-decoration-color: #7f7f7f\">torch.distributed.nn.jit.instantiator</span></a><span style=\"color: #7f7f7f; text-decoration-color: #7f7f7f\">:</span><a href=\"file:///home/lisadl/.local/lib/python3.11/site-packages/torch/distributed/nn/jit/instantiator.py#76\" target=\"_blank\"><span style=\"color: #7f7f7f; text-decoration-color: #7f7f7f\">76</span></a>\n",
       "<span style=\"color: #7fbfbf; text-decoration-color: #7fbfbf\">                    </span>         <span style=\"color: #800080; text-decoration-color: #800080\">/tmp/tmp0eso8lox/</span><span style=\"color: #ff00ff; text-decoration-color: #ff00ff\">_remote_module_non_scriptabl</span> <span style=\"color: #7f7f7f; text-decoration-color: #7f7f7f\">                                        </span>\n",
       "<span style=\"color: #7fbfbf; text-decoration-color: #7fbfbf\">                    </span>         <span style=\"color: #ff00ff; text-decoration-color: #ff00ff\">e.py</span>                                          <span style=\"color: #7f7f7f; text-decoration-color: #7f7f7f\">                                        </span>\n",
       "</pre>\n"
      ],
      "text/plain": [
       "\u001b[2;36m                   \u001b[0m\u001b[2;36m \u001b[0m\u001b[34mINFO    \u001b[0m Writing                                       \u001b]8;id=396098;file:///home/lisadl/.local/lib/python3.11/site-packages/torch/distributed/nn/jit/instantiator.py\u001b\\\u001b[2mtorch.distributed.nn.jit.instantiator\u001b[0m\u001b]8;;\u001b\\\u001b[2m:\u001b[0m\u001b]8;id=164045;file:///home/lisadl/.local/lib/python3.11/site-packages/torch/distributed/nn/jit/instantiator.py#76\u001b\\\u001b[2m76\u001b[0m\u001b]8;;\u001b\\\n",
       "\u001b[2;36m                    \u001b[0m         \u001b[35m/tmp/tmp0eso8lox/\u001b[0m\u001b[95m_remote_module_non_scriptabl\u001b[0m \u001b[2m                                        \u001b[0m\n",
       "\u001b[2;36m                    \u001b[0m         \u001b[95me.py\u001b[0m                                          \u001b[2m                                        \u001b[0m\n"
      ]
     },
     "metadata": {},
     "output_type": "display_data"
    },
    {
     "data": {
      "text/html": [
       "<pre style=\"white-space:pre;overflow-x:auto;line-height:normal;font-family:Menlo,'DejaVu Sans Mono',consolas,'Courier New',monospace\"><span style=\"color: #7fbfbf; text-decoration-color: #7fbfbf\">2024-04-22 18:57:26 </span><span style=\"color: #800000; text-decoration-color: #800000; font-weight: bold\">ERROR   </span> Failed to detect the name of this notebook, you can set it manually  <a href=\"file:///home/lisadl/.local/lib/python3.11/site-packages/wandb/jupyter.py\" target=\"_blank\"><span style=\"color: #7f7f7f; text-decoration-color: #7f7f7f\">wandb.jupyter</span></a><span style=\"color: #7f7f7f; text-decoration-color: #7f7f7f\">:</span><a href=\"file:///home/lisadl/.local/lib/python3.11/site-packages/wandb/jupyter.py#224\" target=\"_blank\"><span style=\"color: #7f7f7f; text-decoration-color: #7f7f7f\">224</span></a>\n",
       "<span style=\"color: #7fbfbf; text-decoration-color: #7fbfbf\">                    </span>         with the WANDB_NOTEBOOK_NAME environment variable to enable code     <span style=\"color: #7f7f7f; text-decoration-color: #7f7f7f\">                 </span>\n",
       "<span style=\"color: #7fbfbf; text-decoration-color: #7fbfbf\">                    </span>         saving.                                                              <span style=\"color: #7f7f7f; text-decoration-color: #7f7f7f\">                 </span>\n",
       "</pre>\n"
      ],
      "text/plain": [
       "\u001b[2;36m2024-04-22 18:57:26\u001b[0m\u001b[2;36m \u001b[0m\u001b[1;31mERROR   \u001b[0m Failed to detect the name of this notebook, you can set it manually  \u001b]8;id=669813;file:///home/lisadl/.local/lib/python3.11/site-packages/wandb/jupyter.py\u001b\\\u001b[2mwandb.jupyter\u001b[0m\u001b]8;;\u001b\\\u001b[2m:\u001b[0m\u001b]8;id=463813;file:///home/lisadl/.local/lib/python3.11/site-packages/wandb/jupyter.py#224\u001b\\\u001b[2m224\u001b[0m\u001b]8;;\u001b\\\n",
       "\u001b[2;36m                    \u001b[0m         with the WANDB_NOTEBOOK_NAME environment variable to enable code     \u001b[2m                 \u001b[0m\n",
       "\u001b[2;36m                    \u001b[0m         saving.                                                              \u001b[2m                 \u001b[0m\n"
      ]
     },
     "metadata": {},
     "output_type": "display_data"
    },
    {
     "name": "stderr",
     "output_type": "stream",
     "text": [
      "\u001b[34m\u001b[1mwandb\u001b[0m: Currently logged in as: \u001b[33madrianrob\u001b[0m (\u001b[33msapienza-ml\u001b[0m). Use \u001b[1m`wandb login --relogin`\u001b[0m to force relogin\n"
     ]
    },
    {
     "data": {
      "text/html": [
       "wandb version 0.16.6 is available!  To upgrade, please run:\n",
       " $ pip install wandb --upgrade"
      ],
      "text/plain": [
       "<IPython.core.display.HTML object>"
      ]
     },
     "metadata": {},
     "output_type": "display_data"
    },
    {
     "data": {
      "text/html": [
       "Tracking run with wandb version 0.14.0"
      ],
      "text/plain": [
       "<IPython.core.display.HTML object>"
      ]
     },
     "metadata": {},
     "output_type": "display_data"
    },
    {
     "data": {
      "text/html": [
       "Run data is saved locally in <code>/home/lisadl/Documents/GitHub/task-vectors-playground/wandb/run-20240422_185726-ql887mg1</code>"
      ],
      "text/plain": [
       "<IPython.core.display.HTML object>"
      ]
     },
     "metadata": {},
     "output_type": "display_data"
    },
    {
     "data": {
      "text/html": [
       "Syncing run <strong><a href='https://wandb.ai/sapienza-ml/task-vectors-playground/runs/ql887mg1' target=\"_blank\">elated-moon-6</a></strong> to <a href='https://wandb.ai/sapienza-ml/task-vectors-playground' target=\"_blank\">Weights & Biases</a> (<a href='https://wandb.me/run' target=\"_blank\">docs</a>)<br/>"
      ],
      "text/plain": [
       "<IPython.core.display.HTML object>"
      ]
     },
     "metadata": {},
     "output_type": "display_data"
    },
    {
     "data": {
      "text/html": [
       " View project at <a href='https://wandb.ai/sapienza-ml/task-vectors-playground' target=\"_blank\">https://wandb.ai/sapienza-ml/task-vectors-playground</a>"
      ],
      "text/plain": [
       "<IPython.core.display.HTML object>"
      ]
     },
     "metadata": {},
     "output_type": "display_data"
    },
    {
     "data": {
      "text/html": [
       " View run at <a href='https://wandb.ai/sapienza-ml/task-vectors-playground/runs/ql887mg1' target=\"_blank\">https://wandb.ai/sapienza-ml/task-vectors-playground/runs/ql887mg1</a>"
      ],
      "text/plain": [
       "<IPython.core.display.HTML object>"
      ]
     },
     "metadata": {},
     "output_type": "display_data"
    },
    {
     "data": {
      "text/html": [
       "<pre style=\"white-space:pre;overflow-x:auto;line-height:normal;font-family:Menlo,'DejaVu Sans Mono',consolas,'Courier New',monospace\"><span style=\"color: #7fbfbf; text-decoration-color: #7fbfbf\">2024-04-22 18:57:27 </span><span style=\"color: #000080; text-decoration-color: #000080\">INFO    </span> Loading model from artifact                                      <a href=\"file:///home/lisadl/Documents/GitHub/task-vectors-playground/src/tvp/utils/io_utils.py\" target=\"_blank\"><span style=\"color: #7f7f7f; text-decoration-color: #7f7f7f\">tvp.utils.io_utils</span></a><span style=\"color: #7f7f7f; text-decoration-color: #7f7f7f\">:</span><a href=\"file:///home/lisadl/Documents/GitHub/task-vectors-playground/src/tvp/utils/io_utils.py#15\" target=\"_blank\"><span style=\"color: #7f7f7f; text-decoration-color: #7f7f7f\">15</span></a>\n",
       "<span style=\"color: #7fbfbf; text-decoration-color: #7fbfbf\">                    </span>         gladia/task-vectors-playground/ViT-B-16_pt:latest                <span style=\"color: #7f7f7f; text-decoration-color: #7f7f7f\">                     </span>\n",
       "</pre>\n"
      ],
      "text/plain": [
       "\u001b[2;36m2024-04-22 18:57:27\u001b[0m\u001b[2;36m \u001b[0m\u001b[34mINFO    \u001b[0m Loading model from artifact                                      \u001b]8;id=166959;file:///home/lisadl/Documents/GitHub/task-vectors-playground/src/tvp/utils/io_utils.py\u001b\\\u001b[2mtvp.utils.io_utils\u001b[0m\u001b]8;;\u001b\\\u001b[2m:\u001b[0m\u001b]8;id=155057;file:///home/lisadl/Documents/GitHub/task-vectors-playground/src/tvp/utils/io_utils.py#15\u001b\\\u001b[2m15\u001b[0m\u001b]8;;\u001b\\\n",
       "\u001b[2;36m                    \u001b[0m         gladia/task-vectors-playground/ViT-B-16_pt:latest                \u001b[2m                     \u001b[0m\n"
      ]
     },
     "metadata": {},
     "output_type": "display_data"
    },
    {
     "name": "stderr",
     "output_type": "stream",
     "text": [
      "\u001b[34m\u001b[1mwandb\u001b[0m: Downloading large artifact ViT-B-16_pt:latest, 426.51MB. 1 files... \n",
      "\u001b[34m\u001b[1mwandb\u001b[0m:   1 of 1 files downloaded.  \n",
      "Done. 0:0:0.5\n"
     ]
    },
    {
     "name": "stdout",
     "output_type": "stream",
     "text": [
      "Loading ViT-B-16 pre-trained weights.\n"
     ]
    },
    {
     "data": {
      "text/html": [
       "<pre style=\"white-space:pre;overflow-x:auto;line-height:normal;font-family:Menlo,'DejaVu Sans Mono',consolas,'Courier New',monospace\"><span style=\"color: #7fbfbf; text-decoration-color: #7fbfbf\">2024-04-22 18:57:30 </span><span style=\"color: #000080; text-decoration-color: #000080\">INFO    </span> Loading pretrained ViT-B-<span style=\"color: #008080; text-decoration-color: #008080; font-weight: bold\">16</span> from OpenAI.                                       <a href=\"file:///home/lisadl/micromamba/envs/tvp/lib/python3.11/site-packages/open_clip/factory.py\" target=\"_blank\"><span style=\"color: #7f7f7f; text-decoration-color: #7f7f7f\">root</span></a><span style=\"color: #7f7f7f; text-decoration-color: #7f7f7f\">:</span><a href=\"file:///home/lisadl/micromamba/envs/tvp/lib/python3.11/site-packages/open_clip/factory.py#82\" target=\"_blank\"><span style=\"color: #7f7f7f; text-decoration-color: #7f7f7f\">82</span></a>\n",
       "</pre>\n"
      ],
      "text/plain": [
       "\u001b[2;36m2024-04-22 18:57:30\u001b[0m\u001b[2;36m \u001b[0m\u001b[34mINFO    \u001b[0m Loading pretrained ViT-B-\u001b[1;36m16\u001b[0m from OpenAI.                                       \u001b]8;id=183338;file:///home/lisadl/micromamba/envs/tvp/lib/python3.11/site-packages/open_clip/factory.py\u001b\\\u001b[2mroot\u001b[0m\u001b]8;;\u001b\\\u001b[2m:\u001b[0m\u001b]8;id=892987;file:///home/lisadl/micromamba/envs/tvp/lib/python3.11/site-packages/open_clip/factory.py#82\u001b\\\u001b[2m82\u001b[0m\u001b]8;;\u001b\\\n"
      ]
     },
     "metadata": {},
     "output_type": "display_data"
    },
    {
     "data": {
      "text/html": [
       "<pre style=\"white-space:pre;overflow-x:auto;line-height:normal;font-family:Menlo,'DejaVu Sans Mono',consolas,'Courier New',monospace\"><span style=\"color: #7fbfbf; text-decoration-color: #7fbfbf\">2024-04-22 18:57:31 </span><span style=\"color: #000080; text-decoration-color: #000080\">INFO    </span> Loading model from artifact                                      <a href=\"file:///home/lisadl/Documents/GitHub/task-vectors-playground/src/tvp/utils/io_utils.py\" target=\"_blank\"><span style=\"color: #7f7f7f; text-decoration-color: #7f7f7f\">tvp.utils.io_utils</span></a><span style=\"color: #7f7f7f; text-decoration-color: #7f7f7f\">:</span><a href=\"file:///home/lisadl/Documents/GitHub/task-vectors-playground/src/tvp/utils/io_utils.py#15\" target=\"_blank\"><span style=\"color: #7f7f7f; text-decoration-color: #7f7f7f\">15</span></a>\n",
       "<span style=\"color: #7fbfbf; text-decoration-color: #7fbfbf\">                    </span>         gladia/task-vectors-playground/ViT-B-16_CIFAR100_0:latest        <span style=\"color: #7f7f7f; text-decoration-color: #7f7f7f\">                     </span>\n",
       "</pre>\n"
      ],
      "text/plain": [
       "\u001b[2;36m2024-04-22 18:57:31\u001b[0m\u001b[2;36m \u001b[0m\u001b[34mINFO    \u001b[0m Loading model from artifact                                      \u001b]8;id=455200;file:///home/lisadl/Documents/GitHub/task-vectors-playground/src/tvp/utils/io_utils.py\u001b\\\u001b[2mtvp.utils.io_utils\u001b[0m\u001b]8;;\u001b\\\u001b[2m:\u001b[0m\u001b]8;id=732311;file:///home/lisadl/Documents/GitHub/task-vectors-playground/src/tvp/utils/io_utils.py#15\u001b\\\u001b[2m15\u001b[0m\u001b]8;;\u001b\\\n",
       "\u001b[2;36m                    \u001b[0m         gladia/task-vectors-playground/ViT-B-16_CIFAR100_0:latest        \u001b[2m                     \u001b[0m\n"
      ]
     },
     "metadata": {},
     "output_type": "display_data"
    },
    {
     "name": "stderr",
     "output_type": "stream",
     "text": [
      "\u001b[34m\u001b[1mwandb\u001b[0m: Downloading large artifact ViT-B-16_CIFAR100_0:latest, 426.51MB. 1 files... \n",
      "\u001b[34m\u001b[1mwandb\u001b[0m:   1 of 1 files downloaded.  \n",
      "Done. 0:0:0.5\n"
     ]
    },
    {
     "name": "stdout",
     "output_type": "stream",
     "text": [
      "Loading ViT-B-16 pre-trained weights.\n"
     ]
    },
    {
     "data": {
      "text/html": [
       "<pre style=\"white-space:pre;overflow-x:auto;line-height:normal;font-family:Menlo,'DejaVu Sans Mono',consolas,'Courier New',monospace\"><span style=\"color: #7fbfbf; text-decoration-color: #7fbfbf\">2024-04-22 18:57:33 </span><span style=\"color: #000080; text-decoration-color: #000080\">INFO    </span> Loading pretrained ViT-B-<span style=\"color: #008080; text-decoration-color: #008080; font-weight: bold\">16</span> from OpenAI.                                       <a href=\"file:///home/lisadl/micromamba/envs/tvp/lib/python3.11/site-packages/open_clip/factory.py\" target=\"_blank\"><span style=\"color: #7f7f7f; text-decoration-color: #7f7f7f\">root</span></a><span style=\"color: #7f7f7f; text-decoration-color: #7f7f7f\">:</span><a href=\"file:///home/lisadl/micromamba/envs/tvp/lib/python3.11/site-packages/open_clip/factory.py#82\" target=\"_blank\"><span style=\"color: #7f7f7f; text-decoration-color: #7f7f7f\">82</span></a>\n",
       "</pre>\n"
      ],
      "text/plain": [
       "\u001b[2;36m2024-04-22 18:57:33\u001b[0m\u001b[2;36m \u001b[0m\u001b[34mINFO    \u001b[0m Loading pretrained ViT-B-\u001b[1;36m16\u001b[0m from OpenAI.                                       \u001b]8;id=85098;file:///home/lisadl/micromamba/envs/tvp/lib/python3.11/site-packages/open_clip/factory.py\u001b\\\u001b[2mroot\u001b[0m\u001b]8;;\u001b\\\u001b[2m:\u001b[0m\u001b]8;id=548286;file:///home/lisadl/micromamba/envs/tvp/lib/python3.11/site-packages/open_clip/factory.py#82\u001b\\\u001b[2m82\u001b[0m\u001b]8;;\u001b\\\n"
      ]
     },
     "metadata": {},
     "output_type": "display_data"
    },
    {
     "data": {
      "text/html": [
       "<pre style=\"white-space:pre;overflow-x:auto;line-height:normal;font-family:Menlo,'DejaVu Sans Mono',consolas,'Courier New',monospace\"><span style=\"color: #7fbfbf; text-decoration-color: #7fbfbf\">2024-04-22 18:57:35 </span><span style=\"color: #000080; text-decoration-color: #000080\">INFO    </span> Loading model from artifact                                      <a href=\"file:///home/lisadl/Documents/GitHub/task-vectors-playground/src/tvp/utils/io_utils.py\" target=\"_blank\"><span style=\"color: #7f7f7f; text-decoration-color: #7f7f7f\">tvp.utils.io_utils</span></a><span style=\"color: #7f7f7f; text-decoration-color: #7f7f7f\">:</span><a href=\"file:///home/lisadl/Documents/GitHub/task-vectors-playground/src/tvp/utils/io_utils.py#15\" target=\"_blank\"><span style=\"color: #7f7f7f; text-decoration-color: #7f7f7f\">15</span></a>\n",
       "<span style=\"color: #7fbfbf; text-decoration-color: #7fbfbf\">                    </span>         gladia/task-vectors-playground/ViT-B-16_CIFAR100_1:latest        <span style=\"color: #7f7f7f; text-decoration-color: #7f7f7f\">                     </span>\n",
       "</pre>\n"
      ],
      "text/plain": [
       "\u001b[2;36m2024-04-22 18:57:35\u001b[0m\u001b[2;36m \u001b[0m\u001b[34mINFO    \u001b[0m Loading model from artifact                                      \u001b]8;id=851220;file:///home/lisadl/Documents/GitHub/task-vectors-playground/src/tvp/utils/io_utils.py\u001b\\\u001b[2mtvp.utils.io_utils\u001b[0m\u001b]8;;\u001b\\\u001b[2m:\u001b[0m\u001b]8;id=103075;file:///home/lisadl/Documents/GitHub/task-vectors-playground/src/tvp/utils/io_utils.py#15\u001b\\\u001b[2m15\u001b[0m\u001b]8;;\u001b\\\n",
       "\u001b[2;36m                    \u001b[0m         gladia/task-vectors-playground/ViT-B-16_CIFAR100_1:latest        \u001b[2m                     \u001b[0m\n"
      ]
     },
     "metadata": {},
     "output_type": "display_data"
    },
    {
     "name": "stderr",
     "output_type": "stream",
     "text": [
      "\u001b[34m\u001b[1mwandb\u001b[0m: Downloading large artifact ViT-B-16_CIFAR100_1:latest, 426.51MB. 1 files... \n",
      "\u001b[34m\u001b[1mwandb\u001b[0m:   1 of 1 files downloaded.  \n",
      "Done. 0:0:0.5\n"
     ]
    },
    {
     "name": "stdout",
     "output_type": "stream",
     "text": [
      "Loading ViT-B-16 pre-trained weights.\n"
     ]
    },
    {
     "data": {
      "text/html": [
       "<pre style=\"white-space:pre;overflow-x:auto;line-height:normal;font-family:Menlo,'DejaVu Sans Mono',consolas,'Courier New',monospace\"><span style=\"color: #7fbfbf; text-decoration-color: #7fbfbf\">2024-04-22 18:57:37 </span><span style=\"color: #000080; text-decoration-color: #000080\">INFO    </span> Loading pretrained ViT-B-<span style=\"color: #008080; text-decoration-color: #008080; font-weight: bold\">16</span> from OpenAI.                                       <a href=\"file:///home/lisadl/micromamba/envs/tvp/lib/python3.11/site-packages/open_clip/factory.py\" target=\"_blank\"><span style=\"color: #7f7f7f; text-decoration-color: #7f7f7f\">root</span></a><span style=\"color: #7f7f7f; text-decoration-color: #7f7f7f\">:</span><a href=\"file:///home/lisadl/micromamba/envs/tvp/lib/python3.11/site-packages/open_clip/factory.py#82\" target=\"_blank\"><span style=\"color: #7f7f7f; text-decoration-color: #7f7f7f\">82</span></a>\n",
       "</pre>\n"
      ],
      "text/plain": [
       "\u001b[2;36m2024-04-22 18:57:37\u001b[0m\u001b[2;36m \u001b[0m\u001b[34mINFO    \u001b[0m Loading pretrained ViT-B-\u001b[1;36m16\u001b[0m from OpenAI.                                       \u001b]8;id=533244;file:///home/lisadl/micromamba/envs/tvp/lib/python3.11/site-packages/open_clip/factory.py\u001b\\\u001b[2mroot\u001b[0m\u001b]8;;\u001b\\\u001b[2m:\u001b[0m\u001b]8;id=957581;file:///home/lisadl/micromamba/envs/tvp/lib/python3.11/site-packages/open_clip/factory.py#82\u001b\\\u001b[2m82\u001b[0m\u001b]8;;\u001b\\\n"
      ]
     },
     "metadata": {},
     "output_type": "display_data"
    },
    {
     "data": {
      "text/html": [
       "<pre style=\"white-space:pre;overflow-x:auto;line-height:normal;font-family:Menlo,'DejaVu Sans Mono',consolas,'Courier New',monospace\"><span style=\"color: #7fbfbf; text-decoration-color: #7fbfbf\">2024-04-22 18:57:38 </span><span style=\"color: #000080; text-decoration-color: #000080\">INFO    </span> Loading model from artifact                                      <a href=\"file:///home/lisadl/Documents/GitHub/task-vectors-playground/src/tvp/utils/io_utils.py\" target=\"_blank\"><span style=\"color: #7f7f7f; text-decoration-color: #7f7f7f\">tvp.utils.io_utils</span></a><span style=\"color: #7f7f7f; text-decoration-color: #7f7f7f\">:</span><a href=\"file:///home/lisadl/Documents/GitHub/task-vectors-playground/src/tvp/utils/io_utils.py#15\" target=\"_blank\"><span style=\"color: #7f7f7f; text-decoration-color: #7f7f7f\">15</span></a>\n",
       "<span style=\"color: #7fbfbf; text-decoration-color: #7fbfbf\">                    </span>         gladia/task-vectors-playground/ViT-B-16_CIFAR100_2:latest        <span style=\"color: #7f7f7f; text-decoration-color: #7f7f7f\">                     </span>\n",
       "</pre>\n"
      ],
      "text/plain": [
       "\u001b[2;36m2024-04-22 18:57:38\u001b[0m\u001b[2;36m \u001b[0m\u001b[34mINFO    \u001b[0m Loading model from artifact                                      \u001b]8;id=806121;file:///home/lisadl/Documents/GitHub/task-vectors-playground/src/tvp/utils/io_utils.py\u001b\\\u001b[2mtvp.utils.io_utils\u001b[0m\u001b]8;;\u001b\\\u001b[2m:\u001b[0m\u001b]8;id=247711;file:///home/lisadl/Documents/GitHub/task-vectors-playground/src/tvp/utils/io_utils.py#15\u001b\\\u001b[2m15\u001b[0m\u001b]8;;\u001b\\\n",
       "\u001b[2;36m                    \u001b[0m         gladia/task-vectors-playground/ViT-B-16_CIFAR100_2:latest        \u001b[2m                     \u001b[0m\n"
      ]
     },
     "metadata": {},
     "output_type": "display_data"
    },
    {
     "name": "stderr",
     "output_type": "stream",
     "text": [
      "\u001b[34m\u001b[1mwandb\u001b[0m: Downloading large artifact ViT-B-16_CIFAR100_2:latest, 426.51MB. 1 files... \n",
      "\u001b[34m\u001b[1mwandb\u001b[0m:   1 of 1 files downloaded.  \n",
      "Done. 0:0:0.5\n"
     ]
    },
    {
     "name": "stdout",
     "output_type": "stream",
     "text": [
      "Loading ViT-B-16 pre-trained weights.\n"
     ]
    },
    {
     "data": {
      "text/html": [
       "<pre style=\"white-space:pre;overflow-x:auto;line-height:normal;font-family:Menlo,'DejaVu Sans Mono',consolas,'Courier New',monospace\"><span style=\"color: #7fbfbf; text-decoration-color: #7fbfbf\">2024-04-22 18:57:41 </span><span style=\"color: #000080; text-decoration-color: #000080\">INFO    </span> Loading pretrained ViT-B-<span style=\"color: #008080; text-decoration-color: #008080; font-weight: bold\">16</span> from OpenAI.                                       <a href=\"file:///home/lisadl/micromamba/envs/tvp/lib/python3.11/site-packages/open_clip/factory.py\" target=\"_blank\"><span style=\"color: #7f7f7f; text-decoration-color: #7f7f7f\">root</span></a><span style=\"color: #7f7f7f; text-decoration-color: #7f7f7f\">:</span><a href=\"file:///home/lisadl/micromamba/envs/tvp/lib/python3.11/site-packages/open_clip/factory.py#82\" target=\"_blank\"><span style=\"color: #7f7f7f; text-decoration-color: #7f7f7f\">82</span></a>\n",
       "</pre>\n"
      ],
      "text/plain": [
       "\u001b[2;36m2024-04-22 18:57:41\u001b[0m\u001b[2;36m \u001b[0m\u001b[34mINFO    \u001b[0m Loading pretrained ViT-B-\u001b[1;36m16\u001b[0m from OpenAI.                                       \u001b]8;id=500381;file:///home/lisadl/micromamba/envs/tvp/lib/python3.11/site-packages/open_clip/factory.py\u001b\\\u001b[2mroot\u001b[0m\u001b]8;;\u001b\\\u001b[2m:\u001b[0m\u001b]8;id=234516;file:///home/lisadl/micromamba/envs/tvp/lib/python3.11/site-packages/open_clip/factory.py#82\u001b\\\u001b[2m82\u001b[0m\u001b]8;;\u001b\\\n"
      ]
     },
     "metadata": {},
     "output_type": "display_data"
    },
    {
     "data": {
      "text/html": [
       "<pre style=\"white-space:pre;overflow-x:auto;line-height:normal;font-family:Menlo,'DejaVu Sans Mono',consolas,'Courier New',monospace\"><span style=\"color: #7fbfbf; text-decoration-color: #7fbfbf\">2024-04-22 18:57:42 </span><span style=\"color: #000080; text-decoration-color: #000080\">INFO    </span> Loading model from artifact                                      <a href=\"file:///home/lisadl/Documents/GitHub/task-vectors-playground/src/tvp/utils/io_utils.py\" target=\"_blank\"><span style=\"color: #7f7f7f; text-decoration-color: #7f7f7f\">tvp.utils.io_utils</span></a><span style=\"color: #7f7f7f; text-decoration-color: #7f7f7f\">:</span><a href=\"file:///home/lisadl/Documents/GitHub/task-vectors-playground/src/tvp/utils/io_utils.py#15\" target=\"_blank\"><span style=\"color: #7f7f7f; text-decoration-color: #7f7f7f\">15</span></a>\n",
       "<span style=\"color: #7fbfbf; text-decoration-color: #7fbfbf\">                    </span>         gladia/task-vectors-playground/ViT-B-16_CIFAR100_3:latest        <span style=\"color: #7f7f7f; text-decoration-color: #7f7f7f\">                     </span>\n",
       "</pre>\n"
      ],
      "text/plain": [
       "\u001b[2;36m2024-04-22 18:57:42\u001b[0m\u001b[2;36m \u001b[0m\u001b[34mINFO    \u001b[0m Loading model from artifact                                      \u001b]8;id=127197;file:///home/lisadl/Documents/GitHub/task-vectors-playground/src/tvp/utils/io_utils.py\u001b\\\u001b[2mtvp.utils.io_utils\u001b[0m\u001b]8;;\u001b\\\u001b[2m:\u001b[0m\u001b]8;id=240208;file:///home/lisadl/Documents/GitHub/task-vectors-playground/src/tvp/utils/io_utils.py#15\u001b\\\u001b[2m15\u001b[0m\u001b]8;;\u001b\\\n",
       "\u001b[2;36m                    \u001b[0m         gladia/task-vectors-playground/ViT-B-16_CIFAR100_3:latest        \u001b[2m                     \u001b[0m\n"
      ]
     },
     "metadata": {},
     "output_type": "display_data"
    },
    {
     "name": "stderr",
     "output_type": "stream",
     "text": [
      "\u001b[34m\u001b[1mwandb\u001b[0m: Downloading large artifact ViT-B-16_CIFAR100_3:latest, 426.51MB. 1 files... \n",
      "\u001b[34m\u001b[1mwandb\u001b[0m:   1 of 1 files downloaded.  \n",
      "Done. 0:0:0.5\n"
     ]
    },
    {
     "name": "stdout",
     "output_type": "stream",
     "text": [
      "Loading ViT-B-16 pre-trained weights.\n"
     ]
    },
    {
     "data": {
      "text/html": [
       "<pre style=\"white-space:pre;overflow-x:auto;line-height:normal;font-family:Menlo,'DejaVu Sans Mono',consolas,'Courier New',monospace\"><span style=\"color: #7fbfbf; text-decoration-color: #7fbfbf\">2024-04-22 18:57:44 </span><span style=\"color: #000080; text-decoration-color: #000080\">INFO    </span> Loading pretrained ViT-B-<span style=\"color: #008080; text-decoration-color: #008080; font-weight: bold\">16</span> from OpenAI.                                       <a href=\"file:///home/lisadl/micromamba/envs/tvp/lib/python3.11/site-packages/open_clip/factory.py\" target=\"_blank\"><span style=\"color: #7f7f7f; text-decoration-color: #7f7f7f\">root</span></a><span style=\"color: #7f7f7f; text-decoration-color: #7f7f7f\">:</span><a href=\"file:///home/lisadl/micromamba/envs/tvp/lib/python3.11/site-packages/open_clip/factory.py#82\" target=\"_blank\"><span style=\"color: #7f7f7f; text-decoration-color: #7f7f7f\">82</span></a>\n",
       "</pre>\n"
      ],
      "text/plain": [
       "\u001b[2;36m2024-04-22 18:57:44\u001b[0m\u001b[2;36m \u001b[0m\u001b[34mINFO    \u001b[0m Loading pretrained ViT-B-\u001b[1;36m16\u001b[0m from OpenAI.                                       \u001b]8;id=233039;file:///home/lisadl/micromamba/envs/tvp/lib/python3.11/site-packages/open_clip/factory.py\u001b\\\u001b[2mroot\u001b[0m\u001b]8;;\u001b\\\u001b[2m:\u001b[0m\u001b]8;id=400833;file:///home/lisadl/micromamba/envs/tvp/lib/python3.11/site-packages/open_clip/factory.py#82\u001b\\\u001b[2m82\u001b[0m\u001b]8;;\u001b\\\n"
      ]
     },
     "metadata": {},
     "output_type": "display_data"
    },
    {
     "data": {
      "text/html": [
       "<pre style=\"white-space:pre;overflow-x:auto;line-height:normal;font-family:Menlo,'DejaVu Sans Mono',consolas,'Courier New',monospace\"><span style=\"color: #7fbfbf; text-decoration-color: #7fbfbf\">2024-04-22 18:57:46 </span><span style=\"color: #000080; text-decoration-color: #000080\">INFO    </span> Loading model from artifact                                      <a href=\"file:///home/lisadl/Documents/GitHub/task-vectors-playground/src/tvp/utils/io_utils.py\" target=\"_blank\"><span style=\"color: #7f7f7f; text-decoration-color: #7f7f7f\">tvp.utils.io_utils</span></a><span style=\"color: #7f7f7f; text-decoration-color: #7f7f7f\">:</span><a href=\"file:///home/lisadl/Documents/GitHub/task-vectors-playground/src/tvp/utils/io_utils.py#15\" target=\"_blank\"><span style=\"color: #7f7f7f; text-decoration-color: #7f7f7f\">15</span></a>\n",
       "<span style=\"color: #7fbfbf; text-decoration-color: #7fbfbf\">                    </span>         gladia/task-vectors-playground/ViT-B-16_CIFAR100_4:latest        <span style=\"color: #7f7f7f; text-decoration-color: #7f7f7f\">                     </span>\n",
       "</pre>\n"
      ],
      "text/plain": [
       "\u001b[2;36m2024-04-22 18:57:46\u001b[0m\u001b[2;36m \u001b[0m\u001b[34mINFO    \u001b[0m Loading model from artifact                                      \u001b]8;id=281173;file:///home/lisadl/Documents/GitHub/task-vectors-playground/src/tvp/utils/io_utils.py\u001b\\\u001b[2mtvp.utils.io_utils\u001b[0m\u001b]8;;\u001b\\\u001b[2m:\u001b[0m\u001b]8;id=904440;file:///home/lisadl/Documents/GitHub/task-vectors-playground/src/tvp/utils/io_utils.py#15\u001b\\\u001b[2m15\u001b[0m\u001b]8;;\u001b\\\n",
       "\u001b[2;36m                    \u001b[0m         gladia/task-vectors-playground/ViT-B-16_CIFAR100_4:latest        \u001b[2m                     \u001b[0m\n"
      ]
     },
     "metadata": {},
     "output_type": "display_data"
    },
    {
     "name": "stderr",
     "output_type": "stream",
     "text": [
      "\u001b[34m\u001b[1mwandb\u001b[0m: Downloading large artifact ViT-B-16_CIFAR100_4:latest, 426.51MB. 1 files... \n",
      "\u001b[34m\u001b[1mwandb\u001b[0m:   1 of 1 files downloaded.  \n",
      "Done. 0:0:0.5\n"
     ]
    },
    {
     "name": "stdout",
     "output_type": "stream",
     "text": [
      "Loading ViT-B-16 pre-trained weights.\n"
     ]
    },
    {
     "data": {
      "text/html": [
       "<pre style=\"white-space:pre;overflow-x:auto;line-height:normal;font-family:Menlo,'DejaVu Sans Mono',consolas,'Courier New',monospace\"><span style=\"color: #7fbfbf; text-decoration-color: #7fbfbf\">2024-04-22 18:57:50 </span><span style=\"color: #000080; text-decoration-color: #000080\">INFO    </span> Loading pretrained ViT-B-<span style=\"color: #008080; text-decoration-color: #008080; font-weight: bold\">16</span> from OpenAI.                                       <a href=\"file:///home/lisadl/micromamba/envs/tvp/lib/python3.11/site-packages/open_clip/factory.py\" target=\"_blank\"><span style=\"color: #7f7f7f; text-decoration-color: #7f7f7f\">root</span></a><span style=\"color: #7f7f7f; text-decoration-color: #7f7f7f\">:</span><a href=\"file:///home/lisadl/micromamba/envs/tvp/lib/python3.11/site-packages/open_clip/factory.py#82\" target=\"_blank\"><span style=\"color: #7f7f7f; text-decoration-color: #7f7f7f\">82</span></a>\n",
       "</pre>\n"
      ],
      "text/plain": [
       "\u001b[2;36m2024-04-22 18:57:50\u001b[0m\u001b[2;36m \u001b[0m\u001b[34mINFO    \u001b[0m Loading pretrained ViT-B-\u001b[1;36m16\u001b[0m from OpenAI.                                       \u001b]8;id=540045;file:///home/lisadl/micromamba/envs/tvp/lib/python3.11/site-packages/open_clip/factory.py\u001b\\\u001b[2mroot\u001b[0m\u001b]8;;\u001b\\\u001b[2m:\u001b[0m\u001b]8;id=558222;file:///home/lisadl/micromamba/envs/tvp/lib/python3.11/site-packages/open_clip/factory.py#82\u001b\\\u001b[2m82\u001b[0m\u001b]8;;\u001b\\\n"
      ]
     },
     "metadata": {},
     "output_type": "display_data"
    },
    {
     "data": {
      "text/html": [
       "<pre style=\"white-space:pre;overflow-x:auto;line-height:normal;font-family:Menlo,'DejaVu Sans Mono',consolas,'Courier New',monospace\"><span style=\"color: #7fbfbf; text-decoration-color: #7fbfbf\">2024-04-22 18:57:51 </span><span style=\"color: #000080; text-decoration-color: #000080\">INFO    </span> Loading model from artifact                                      <a href=\"file:///home/lisadl/Documents/GitHub/task-vectors-playground/src/tvp/utils/io_utils.py\" target=\"_blank\"><span style=\"color: #7f7f7f; text-decoration-color: #7f7f7f\">tvp.utils.io_utils</span></a><span style=\"color: #7f7f7f; text-decoration-color: #7f7f7f\">:</span><a href=\"file:///home/lisadl/Documents/GitHub/task-vectors-playground/src/tvp/utils/io_utils.py#15\" target=\"_blank\"><span style=\"color: #7f7f7f; text-decoration-color: #7f7f7f\">15</span></a>\n",
       "<span style=\"color: #7fbfbf; text-decoration-color: #7fbfbf\">                    </span>         gladia/task-vectors-playground/ViT-B-16_CIFAR100_5:latest        <span style=\"color: #7f7f7f; text-decoration-color: #7f7f7f\">                     </span>\n",
       "</pre>\n"
      ],
      "text/plain": [
       "\u001b[2;36m2024-04-22 18:57:51\u001b[0m\u001b[2;36m \u001b[0m\u001b[34mINFO    \u001b[0m Loading model from artifact                                      \u001b]8;id=821342;file:///home/lisadl/Documents/GitHub/task-vectors-playground/src/tvp/utils/io_utils.py\u001b\\\u001b[2mtvp.utils.io_utils\u001b[0m\u001b]8;;\u001b\\\u001b[2m:\u001b[0m\u001b]8;id=748495;file:///home/lisadl/Documents/GitHub/task-vectors-playground/src/tvp/utils/io_utils.py#15\u001b\\\u001b[2m15\u001b[0m\u001b]8;;\u001b\\\n",
       "\u001b[2;36m                    \u001b[0m         gladia/task-vectors-playground/ViT-B-16_CIFAR100_5:latest        \u001b[2m                     \u001b[0m\n"
      ]
     },
     "metadata": {},
     "output_type": "display_data"
    },
    {
     "name": "stderr",
     "output_type": "stream",
     "text": [
      "\u001b[34m\u001b[1mwandb\u001b[0m: \u001b[33mWARNING\u001b[0m A graphql request initiated by the public wandb API timed out (timeout=9 sec). Create a new API with an integer timeout larger than 9, e.g., `api = wandb.Api(timeout=19)` to increase the graphql timeout.\n",
      "\u001b[34m\u001b[1mwandb\u001b[0m: Downloading large artifact ViT-B-16_CIFAR100_5:latest, 426.51MB. 1 files... \n",
      "\u001b[34m\u001b[1mwandb\u001b[0m:   1 of 1 files downloaded.  \n",
      "Done. 0:0:55.3\n"
     ]
    },
    {
     "name": "stdout",
     "output_type": "stream",
     "text": [
      "Loading ViT-B-16 pre-trained weights.\n"
     ]
    },
    {
     "data": {
      "text/html": [
       "<pre style=\"white-space:pre;overflow-x:auto;line-height:normal;font-family:Menlo,'DejaVu Sans Mono',consolas,'Courier New',monospace\"><span style=\"color: #7fbfbf; text-decoration-color: #7fbfbf\">2024-04-22 18:58:59 </span><span style=\"color: #000080; text-decoration-color: #000080\">INFO    </span> Loading pretrained ViT-B-<span style=\"color: #008080; text-decoration-color: #008080; font-weight: bold\">16</span> from OpenAI.                                       <a href=\"file:///home/lisadl/micromamba/envs/tvp/lib/python3.11/site-packages/open_clip/factory.py\" target=\"_blank\"><span style=\"color: #7f7f7f; text-decoration-color: #7f7f7f\">root</span></a><span style=\"color: #7f7f7f; text-decoration-color: #7f7f7f\">:</span><a href=\"file:///home/lisadl/micromamba/envs/tvp/lib/python3.11/site-packages/open_clip/factory.py#82\" target=\"_blank\"><span style=\"color: #7f7f7f; text-decoration-color: #7f7f7f\">82</span></a>\n",
       "</pre>\n"
      ],
      "text/plain": [
       "\u001b[2;36m2024-04-22 18:58:59\u001b[0m\u001b[2;36m \u001b[0m\u001b[34mINFO    \u001b[0m Loading pretrained ViT-B-\u001b[1;36m16\u001b[0m from OpenAI.                                       \u001b]8;id=368173;file:///home/lisadl/micromamba/envs/tvp/lib/python3.11/site-packages/open_clip/factory.py\u001b\\\u001b[2mroot\u001b[0m\u001b]8;;\u001b\\\u001b[2m:\u001b[0m\u001b]8;id=556854;file:///home/lisadl/micromamba/envs/tvp/lib/python3.11/site-packages/open_clip/factory.py#82\u001b\\\u001b[2m82\u001b[0m\u001b]8;;\u001b\\\n"
      ]
     },
     "metadata": {},
     "output_type": "display_data"
    },
    {
     "data": {
      "text/html": [
       "<pre style=\"white-space:pre;overflow-x:auto;line-height:normal;font-family:Menlo,'DejaVu Sans Mono',consolas,'Courier New',monospace\"><span style=\"color: #7fbfbf; text-decoration-color: #7fbfbf\">2024-04-22 18:59:00 </span><span style=\"color: #000080; text-decoration-color: #000080\">INFO    </span> Loading model from artifact                                      <a href=\"file:///home/lisadl/Documents/GitHub/task-vectors-playground/src/tvp/utils/io_utils.py\" target=\"_blank\"><span style=\"color: #7f7f7f; text-decoration-color: #7f7f7f\">tvp.utils.io_utils</span></a><span style=\"color: #7f7f7f; text-decoration-color: #7f7f7f\">:</span><a href=\"file:///home/lisadl/Documents/GitHub/task-vectors-playground/src/tvp/utils/io_utils.py#15\" target=\"_blank\"><span style=\"color: #7f7f7f; text-decoration-color: #7f7f7f\">15</span></a>\n",
       "<span style=\"color: #7fbfbf; text-decoration-color: #7fbfbf\">                    </span>         gladia/task-vectors-playground/ViT-B-16_CIFAR100_6:latest        <span style=\"color: #7f7f7f; text-decoration-color: #7f7f7f\">                     </span>\n",
       "</pre>\n"
      ],
      "text/plain": [
       "\u001b[2;36m2024-04-22 18:59:00\u001b[0m\u001b[2;36m \u001b[0m\u001b[34mINFO    \u001b[0m Loading model from artifact                                      \u001b]8;id=802301;file:///home/lisadl/Documents/GitHub/task-vectors-playground/src/tvp/utils/io_utils.py\u001b\\\u001b[2mtvp.utils.io_utils\u001b[0m\u001b]8;;\u001b\\\u001b[2m:\u001b[0m\u001b]8;id=424449;file:///home/lisadl/Documents/GitHub/task-vectors-playground/src/tvp/utils/io_utils.py#15\u001b\\\u001b[2m15\u001b[0m\u001b]8;;\u001b\\\n",
       "\u001b[2;36m                    \u001b[0m         gladia/task-vectors-playground/ViT-B-16_CIFAR100_6:latest        \u001b[2m                     \u001b[0m\n"
      ]
     },
     "metadata": {},
     "output_type": "display_data"
    },
    {
     "name": "stderr",
     "output_type": "stream",
     "text": [
      "\u001b[34m\u001b[1mwandb\u001b[0m: Downloading large artifact ViT-B-16_CIFAR100_6:latest, 426.51MB. 1 files... \n",
      "\u001b[34m\u001b[1mwandb\u001b[0m:   1 of 1 files downloaded.  \n",
      "Done. 0:0:55.6\n"
     ]
    },
    {
     "name": "stdout",
     "output_type": "stream",
     "text": [
      "Loading ViT-B-16 pre-trained weights.\n"
     ]
    },
    {
     "data": {
      "text/html": [
       "<pre style=\"white-space:pre;overflow-x:auto;line-height:normal;font-family:Menlo,'DejaVu Sans Mono',consolas,'Courier New',monospace\"><span style=\"color: #7fbfbf; text-decoration-color: #7fbfbf\">2024-04-22 18:59:57 </span><span style=\"color: #000080; text-decoration-color: #000080\">INFO    </span> Loading pretrained ViT-B-<span style=\"color: #008080; text-decoration-color: #008080; font-weight: bold\">16</span> from OpenAI.                                       <a href=\"file:///home/lisadl/micromamba/envs/tvp/lib/python3.11/site-packages/open_clip/factory.py\" target=\"_blank\"><span style=\"color: #7f7f7f; text-decoration-color: #7f7f7f\">root</span></a><span style=\"color: #7f7f7f; text-decoration-color: #7f7f7f\">:</span><a href=\"file:///home/lisadl/micromamba/envs/tvp/lib/python3.11/site-packages/open_clip/factory.py#82\" target=\"_blank\"><span style=\"color: #7f7f7f; text-decoration-color: #7f7f7f\">82</span></a>\n",
       "</pre>\n"
      ],
      "text/plain": [
       "\u001b[2;36m2024-04-22 18:59:57\u001b[0m\u001b[2;36m \u001b[0m\u001b[34mINFO    \u001b[0m Loading pretrained ViT-B-\u001b[1;36m16\u001b[0m from OpenAI.                                       \u001b]8;id=204777;file:///home/lisadl/micromamba/envs/tvp/lib/python3.11/site-packages/open_clip/factory.py\u001b\\\u001b[2mroot\u001b[0m\u001b]8;;\u001b\\\u001b[2m:\u001b[0m\u001b]8;id=616657;file:///home/lisadl/micromamba/envs/tvp/lib/python3.11/site-packages/open_clip/factory.py#82\u001b\\\u001b[2m82\u001b[0m\u001b]8;;\u001b\\\n"
      ]
     },
     "metadata": {},
     "output_type": "display_data"
    },
    {
     "data": {
      "text/html": [
       "<pre style=\"white-space:pre;overflow-x:auto;line-height:normal;font-family:Menlo,'DejaVu Sans Mono',consolas,'Courier New',monospace\"><span style=\"color: #7fbfbf; text-decoration-color: #7fbfbf\">2024-04-22 18:59:59 </span><span style=\"color: #000080; text-decoration-color: #000080\">INFO    </span> Loading model from artifact                                      <a href=\"file:///home/lisadl/Documents/GitHub/task-vectors-playground/src/tvp/utils/io_utils.py\" target=\"_blank\"><span style=\"color: #7f7f7f; text-decoration-color: #7f7f7f\">tvp.utils.io_utils</span></a><span style=\"color: #7f7f7f; text-decoration-color: #7f7f7f\">:</span><a href=\"file:///home/lisadl/Documents/GitHub/task-vectors-playground/src/tvp/utils/io_utils.py#15\" target=\"_blank\"><span style=\"color: #7f7f7f; text-decoration-color: #7f7f7f\">15</span></a>\n",
       "<span style=\"color: #7fbfbf; text-decoration-color: #7fbfbf\">                    </span>         gladia/task-vectors-playground/ViT-B-16_CIFAR100_7:latest        <span style=\"color: #7f7f7f; text-decoration-color: #7f7f7f\">                     </span>\n",
       "</pre>\n"
      ],
      "text/plain": [
       "\u001b[2;36m2024-04-22 18:59:59\u001b[0m\u001b[2;36m \u001b[0m\u001b[34mINFO    \u001b[0m Loading model from artifact                                      \u001b]8;id=874029;file:///home/lisadl/Documents/GitHub/task-vectors-playground/src/tvp/utils/io_utils.py\u001b\\\u001b[2mtvp.utils.io_utils\u001b[0m\u001b]8;;\u001b\\\u001b[2m:\u001b[0m\u001b]8;id=388110;file:///home/lisadl/Documents/GitHub/task-vectors-playground/src/tvp/utils/io_utils.py#15\u001b\\\u001b[2m15\u001b[0m\u001b]8;;\u001b\\\n",
       "\u001b[2;36m                    \u001b[0m         gladia/task-vectors-playground/ViT-B-16_CIFAR100_7:latest        \u001b[2m                     \u001b[0m\n"
      ]
     },
     "metadata": {},
     "output_type": "display_data"
    },
    {
     "name": "stderr",
     "output_type": "stream",
     "text": [
      "\u001b[34m\u001b[1mwandb\u001b[0m: Downloading large artifact ViT-B-16_CIFAR100_7:latest, 426.51MB. 1 files... \n",
      "\u001b[34m\u001b[1mwandb\u001b[0m:   1 of 1 files downloaded.  \n",
      "Done. 0:0:56.4\n"
     ]
    },
    {
     "name": "stdout",
     "output_type": "stream",
     "text": [
      "Loading ViT-B-16 pre-trained weights.\n"
     ]
    },
    {
     "data": {
      "text/html": [
       "<pre style=\"white-space:pre;overflow-x:auto;line-height:normal;font-family:Menlo,'DejaVu Sans Mono',consolas,'Courier New',monospace\"><span style=\"color: #7fbfbf; text-decoration-color: #7fbfbf\">2024-04-22 19:00:57 </span><span style=\"color: #000080; text-decoration-color: #000080\">INFO    </span> Loading pretrained ViT-B-<span style=\"color: #008080; text-decoration-color: #008080; font-weight: bold\">16</span> from OpenAI.                                       <a href=\"file:///home/lisadl/micromamba/envs/tvp/lib/python3.11/site-packages/open_clip/factory.py\" target=\"_blank\"><span style=\"color: #7f7f7f; text-decoration-color: #7f7f7f\">root</span></a><span style=\"color: #7f7f7f; text-decoration-color: #7f7f7f\">:</span><a href=\"file:///home/lisadl/micromamba/envs/tvp/lib/python3.11/site-packages/open_clip/factory.py#82\" target=\"_blank\"><span style=\"color: #7f7f7f; text-decoration-color: #7f7f7f\">82</span></a>\n",
       "</pre>\n"
      ],
      "text/plain": [
       "\u001b[2;36m2024-04-22 19:00:57\u001b[0m\u001b[2;36m \u001b[0m\u001b[34mINFO    \u001b[0m Loading pretrained ViT-B-\u001b[1;36m16\u001b[0m from OpenAI.                                       \u001b]8;id=167380;file:///home/lisadl/micromamba/envs/tvp/lib/python3.11/site-packages/open_clip/factory.py\u001b\\\u001b[2mroot\u001b[0m\u001b]8;;\u001b\\\u001b[2m:\u001b[0m\u001b]8;id=141046;file:///home/lisadl/micromamba/envs/tvp/lib/python3.11/site-packages/open_clip/factory.py#82\u001b\\\u001b[2m82\u001b[0m\u001b]8;;\u001b\\\n"
      ]
     },
     "metadata": {},
     "output_type": "display_data"
    },
    {
     "data": {
      "text/html": [
       "<pre style=\"white-space:pre;overflow-x:auto;line-height:normal;font-family:Menlo,'DejaVu Sans Mono',consolas,'Courier New',monospace\"><span style=\"color: #7fbfbf; text-decoration-color: #7fbfbf\">2024-04-22 19:00:58 </span><span style=\"color: #000080; text-decoration-color: #000080\">INFO    </span> Loading model from artifact                                      <a href=\"file:///home/lisadl/Documents/GitHub/task-vectors-playground/src/tvp/utils/io_utils.py\" target=\"_blank\"><span style=\"color: #7f7f7f; text-decoration-color: #7f7f7f\">tvp.utils.io_utils</span></a><span style=\"color: #7f7f7f; text-decoration-color: #7f7f7f\">:</span><a href=\"file:///home/lisadl/Documents/GitHub/task-vectors-playground/src/tvp/utils/io_utils.py#15\" target=\"_blank\"><span style=\"color: #7f7f7f; text-decoration-color: #7f7f7f\">15</span></a>\n",
       "<span style=\"color: #7fbfbf; text-decoration-color: #7fbfbf\">                    </span>         gladia/task-vectors-playground/ViT-B-16_CIFAR100_8:latest        <span style=\"color: #7f7f7f; text-decoration-color: #7f7f7f\">                     </span>\n",
       "</pre>\n"
      ],
      "text/plain": [
       "\u001b[2;36m2024-04-22 19:00:58\u001b[0m\u001b[2;36m \u001b[0m\u001b[34mINFO    \u001b[0m Loading model from artifact                                      \u001b]8;id=547019;file:///home/lisadl/Documents/GitHub/task-vectors-playground/src/tvp/utils/io_utils.py\u001b\\\u001b[2mtvp.utils.io_utils\u001b[0m\u001b]8;;\u001b\\\u001b[2m:\u001b[0m\u001b]8;id=779155;file:///home/lisadl/Documents/GitHub/task-vectors-playground/src/tvp/utils/io_utils.py#15\u001b\\\u001b[2m15\u001b[0m\u001b]8;;\u001b\\\n",
       "\u001b[2;36m                    \u001b[0m         gladia/task-vectors-playground/ViT-B-16_CIFAR100_8:latest        \u001b[2m                     \u001b[0m\n"
      ]
     },
     "metadata": {},
     "output_type": "display_data"
    },
    {
     "name": "stderr",
     "output_type": "stream",
     "text": [
      "\u001b[34m\u001b[1mwandb\u001b[0m: Downloading large artifact ViT-B-16_CIFAR100_8:latest, 426.51MB. 1 files... \n",
      "\u001b[34m\u001b[1mwandb\u001b[0m:   1 of 1 files downloaded.  \n",
      "Done. 0:0:55.7\n"
     ]
    },
    {
     "name": "stdout",
     "output_type": "stream",
     "text": [
      "Loading ViT-B-16 pre-trained weights.\n"
     ]
    },
    {
     "data": {
      "text/html": [
       "<pre style=\"white-space:pre;overflow-x:auto;line-height:normal;font-family:Menlo,'DejaVu Sans Mono',consolas,'Courier New',monospace\"><span style=\"color: #7fbfbf; text-decoration-color: #7fbfbf\">2024-04-22 19:01:56 </span><span style=\"color: #000080; text-decoration-color: #000080\">INFO    </span> Loading pretrained ViT-B-<span style=\"color: #008080; text-decoration-color: #008080; font-weight: bold\">16</span> from OpenAI.                                       <a href=\"file:///home/lisadl/micromamba/envs/tvp/lib/python3.11/site-packages/open_clip/factory.py\" target=\"_blank\"><span style=\"color: #7f7f7f; text-decoration-color: #7f7f7f\">root</span></a><span style=\"color: #7f7f7f; text-decoration-color: #7f7f7f\">:</span><a href=\"file:///home/lisadl/micromamba/envs/tvp/lib/python3.11/site-packages/open_clip/factory.py#82\" target=\"_blank\"><span style=\"color: #7f7f7f; text-decoration-color: #7f7f7f\">82</span></a>\n",
       "</pre>\n"
      ],
      "text/plain": [
       "\u001b[2;36m2024-04-22 19:01:56\u001b[0m\u001b[2;36m \u001b[0m\u001b[34mINFO    \u001b[0m Loading pretrained ViT-B-\u001b[1;36m16\u001b[0m from OpenAI.                                       \u001b]8;id=193218;file:///home/lisadl/micromamba/envs/tvp/lib/python3.11/site-packages/open_clip/factory.py\u001b\\\u001b[2mroot\u001b[0m\u001b]8;;\u001b\\\u001b[2m:\u001b[0m\u001b]8;id=717590;file:///home/lisadl/micromamba/envs/tvp/lib/python3.11/site-packages/open_clip/factory.py#82\u001b\\\u001b[2m82\u001b[0m\u001b]8;;\u001b\\\n"
      ]
     },
     "metadata": {},
     "output_type": "display_data"
    },
    {
     "data": {
      "text/html": [
       "<pre style=\"white-space:pre;overflow-x:auto;line-height:normal;font-family:Menlo,'DejaVu Sans Mono',consolas,'Courier New',monospace\"><span style=\"color: #7fbfbf; text-decoration-color: #7fbfbf\">2024-04-22 19:01:57 </span><span style=\"color: #000080; text-decoration-color: #000080\">INFO    </span> Loading model from artifact                                      <a href=\"file:///home/lisadl/Documents/GitHub/task-vectors-playground/src/tvp/utils/io_utils.py\" target=\"_blank\"><span style=\"color: #7f7f7f; text-decoration-color: #7f7f7f\">tvp.utils.io_utils</span></a><span style=\"color: #7f7f7f; text-decoration-color: #7f7f7f\">:</span><a href=\"file:///home/lisadl/Documents/GitHub/task-vectors-playground/src/tvp/utils/io_utils.py#15\" target=\"_blank\"><span style=\"color: #7f7f7f; text-decoration-color: #7f7f7f\">15</span></a>\n",
       "<span style=\"color: #7fbfbf; text-decoration-color: #7fbfbf\">                    </span>         gladia/task-vectors-playground/ViT-B-16_CIFAR100_9:latest        <span style=\"color: #7f7f7f; text-decoration-color: #7f7f7f\">                     </span>\n",
       "</pre>\n"
      ],
      "text/plain": [
       "\u001b[2;36m2024-04-22 19:01:57\u001b[0m\u001b[2;36m \u001b[0m\u001b[34mINFO    \u001b[0m Loading model from artifact                                      \u001b]8;id=147524;file:///home/lisadl/Documents/GitHub/task-vectors-playground/src/tvp/utils/io_utils.py\u001b\\\u001b[2mtvp.utils.io_utils\u001b[0m\u001b]8;;\u001b\\\u001b[2m:\u001b[0m\u001b]8;id=389800;file:///home/lisadl/Documents/GitHub/task-vectors-playground/src/tvp/utils/io_utils.py#15\u001b\\\u001b[2m15\u001b[0m\u001b]8;;\u001b\\\n",
       "\u001b[2;36m                    \u001b[0m         gladia/task-vectors-playground/ViT-B-16_CIFAR100_9:latest        \u001b[2m                     \u001b[0m\n"
      ]
     },
     "metadata": {},
     "output_type": "display_data"
    },
    {
     "name": "stderr",
     "output_type": "stream",
     "text": [
      "\u001b[34m\u001b[1mwandb\u001b[0m: Downloading large artifact ViT-B-16_CIFAR100_9:latest, 426.51MB. 1 files... \n",
      "\u001b[34m\u001b[1mwandb\u001b[0m:   1 of 1 files downloaded.  \n",
      "Done. 0:0:55.5\n"
     ]
    },
    {
     "name": "stdout",
     "output_type": "stream",
     "text": [
      "Loading ViT-B-16 pre-trained weights.\n"
     ]
    },
    {
     "data": {
      "text/html": [
       "<pre style=\"white-space:pre;overflow-x:auto;line-height:normal;font-family:Menlo,'DejaVu Sans Mono',consolas,'Courier New',monospace\"><span style=\"color: #7fbfbf; text-decoration-color: #7fbfbf\">2024-04-22 19:02:55 </span><span style=\"color: #000080; text-decoration-color: #000080\">INFO    </span> Loading pretrained ViT-B-<span style=\"color: #008080; text-decoration-color: #008080; font-weight: bold\">16</span> from OpenAI.                                       <a href=\"file:///home/lisadl/micromamba/envs/tvp/lib/python3.11/site-packages/open_clip/factory.py\" target=\"_blank\"><span style=\"color: #7f7f7f; text-decoration-color: #7f7f7f\">root</span></a><span style=\"color: #7f7f7f; text-decoration-color: #7f7f7f\">:</span><a href=\"file:///home/lisadl/micromamba/envs/tvp/lib/python3.11/site-packages/open_clip/factory.py#82\" target=\"_blank\"><span style=\"color: #7f7f7f; text-decoration-color: #7f7f7f\">82</span></a>\n",
       "</pre>\n"
      ],
      "text/plain": [
       "\u001b[2;36m2024-04-22 19:02:55\u001b[0m\u001b[2;36m \u001b[0m\u001b[34mINFO    \u001b[0m Loading pretrained ViT-B-\u001b[1;36m16\u001b[0m from OpenAI.                                       \u001b]8;id=826441;file:///home/lisadl/micromamba/envs/tvp/lib/python3.11/site-packages/open_clip/factory.py\u001b\\\u001b[2mroot\u001b[0m\u001b]8;;\u001b\\\u001b[2m:\u001b[0m\u001b]8;id=821816;file:///home/lisadl/micromamba/envs/tvp/lib/python3.11/site-packages/open_clip/factory.py#82\u001b\\\u001b[2m82\u001b[0m\u001b]8;;\u001b\\\n"
      ]
     },
     "metadata": {},
     "output_type": "display_data"
    }
   ],
   "source": [
    "from tvp.task_vectors.task_vectors import TaskVector\n",
    "from tvp.utils.io_utils import load_model_from_artifact\n",
    "\n",
    "import torch\n",
    "from sklearn.decomposition import PCA\n",
    "\n",
    "RUN = None\n",
    "SEED_INDEX = 0\n",
    "MODEL_NAME = \"gladia/task-vectors-playground/ViT-B-16\"\n",
    "zeroshot_identifier = f\"gladia/task-vectors-playground/ViT-B-16_pt\"\n",
    "DATASET = \"CIFAR100\"\n",
    "SEEDS = list(range(10))\n",
    "\n",
    "import wandb\n",
    "\n",
    "run = wandb.init()\n",
    "\n",
    "zeroshot_model = load_model_from_artifact(artifact_path=f\"{zeroshot_identifier}:latest\", run=run)\n",
    "\n",
    "finetuned_id_fn = lambda seed: f\"{MODEL_NAME}_{DATASET}_{seed}:latest\"\n",
    "\n",
    "finetuned_models = {\n",
    "    seed: load_model_from_artifact(artifact_path=finetuned_id_fn(seed), run=run)\n",
    "    for seed in SEEDS\n",
    "}\n",
    "\n",
    "task_vectors = [TaskVector(zeroshot_model, finetuned_models[seed]) for seed in SEEDS]"
   ]
  },
  {
   "cell_type": "markdown",
   "metadata": {},
   "source": [
    "## Example"
   ]
  },
  {
   "cell_type": "code",
   "execution_count": 2,
   "metadata": {},
   "outputs": [],
   "source": [
    "LAYER = \"model.visual.conv1.weight\"\n",
    "\n",
    "#print(\"TV keys:\", task_vectors[0].vector.keys())\n",
    "\n",
    "weights = torch.stack([tv.vector[LAYER] for tv in task_vectors])"
   ]
  },
  {
   "cell_type": "code",
   "execution_count": 3,
   "metadata": {},
   "outputs": [
    {
     "data": {
      "text/plain": [
       "torch.Size([10, 589824])"
      ]
     },
     "execution_count": 3,
     "metadata": {},
     "output_type": "execute_result"
    }
   ],
   "source": [
    "weights = weights.reshape(len(task_vectors), -1)\n",
    "weights.shape"
   ]
  },
  {
   "cell_type": "code",
   "execution_count": 4,
   "metadata": {},
   "outputs": [
    {
     "data": {
      "text/html": [
       "<style>#sk-container-id-1 {color: black;}#sk-container-id-1 pre{padding: 0;}#sk-container-id-1 div.sk-toggleable {background-color: white;}#sk-container-id-1 label.sk-toggleable__label {cursor: pointer;display: block;width: 100%;margin-bottom: 0;padding: 0.3em;box-sizing: border-box;text-align: center;}#sk-container-id-1 label.sk-toggleable__label-arrow:before {content: \"▸\";float: left;margin-right: 0.25em;color: #696969;}#sk-container-id-1 label.sk-toggleable__label-arrow:hover:before {color: black;}#sk-container-id-1 div.sk-estimator:hover label.sk-toggleable__label-arrow:before {color: black;}#sk-container-id-1 div.sk-toggleable__content {max-height: 0;max-width: 0;overflow: hidden;text-align: left;background-color: #f0f8ff;}#sk-container-id-1 div.sk-toggleable__content pre {margin: 0.2em;color: black;border-radius: 0.25em;background-color: #f0f8ff;}#sk-container-id-1 input.sk-toggleable__control:checked~div.sk-toggleable__content {max-height: 200px;max-width: 100%;overflow: auto;}#sk-container-id-1 input.sk-toggleable__control:checked~label.sk-toggleable__label-arrow:before {content: \"▾\";}#sk-container-id-1 div.sk-estimator input.sk-toggleable__control:checked~label.sk-toggleable__label {background-color: #d4ebff;}#sk-container-id-1 div.sk-label input.sk-toggleable__control:checked~label.sk-toggleable__label {background-color: #d4ebff;}#sk-container-id-1 input.sk-hidden--visually {border: 0;clip: rect(1px 1px 1px 1px);clip: rect(1px, 1px, 1px, 1px);height: 1px;margin: -1px;overflow: hidden;padding: 0;position: absolute;width: 1px;}#sk-container-id-1 div.sk-estimator {font-family: monospace;background-color: #f0f8ff;border: 1px dotted black;border-radius: 0.25em;box-sizing: border-box;margin-bottom: 0.5em;}#sk-container-id-1 div.sk-estimator:hover {background-color: #d4ebff;}#sk-container-id-1 div.sk-parallel-item::after {content: \"\";width: 100%;border-bottom: 1px solid gray;flex-grow: 1;}#sk-container-id-1 div.sk-label:hover label.sk-toggleable__label {background-color: #d4ebff;}#sk-container-id-1 div.sk-serial::before {content: \"\";position: absolute;border-left: 1px solid gray;box-sizing: border-box;top: 0;bottom: 0;left: 50%;z-index: 0;}#sk-container-id-1 div.sk-serial {display: flex;flex-direction: column;align-items: center;background-color: white;padding-right: 0.2em;padding-left: 0.2em;position: relative;}#sk-container-id-1 div.sk-item {position: relative;z-index: 1;}#sk-container-id-1 div.sk-parallel {display: flex;align-items: stretch;justify-content: center;background-color: white;position: relative;}#sk-container-id-1 div.sk-item::before, #sk-container-id-1 div.sk-parallel-item::before {content: \"\";position: absolute;border-left: 1px solid gray;box-sizing: border-box;top: 0;bottom: 0;left: 50%;z-index: -1;}#sk-container-id-1 div.sk-parallel-item {display: flex;flex-direction: column;z-index: 1;position: relative;background-color: white;}#sk-container-id-1 div.sk-parallel-item:first-child::after {align-self: flex-end;width: 50%;}#sk-container-id-1 div.sk-parallel-item:last-child::after {align-self: flex-start;width: 50%;}#sk-container-id-1 div.sk-parallel-item:only-child::after {width: 0;}#sk-container-id-1 div.sk-dashed-wrapped {border: 1px dashed gray;margin: 0 0.4em 0.5em 0.4em;box-sizing: border-box;padding-bottom: 0.4em;background-color: white;}#sk-container-id-1 div.sk-label label {font-family: monospace;font-weight: bold;display: inline-block;line-height: 1.2em;}#sk-container-id-1 div.sk-label-container {text-align: center;}#sk-container-id-1 div.sk-container {/* jupyter's `normalize.less` sets `[hidden] { display: none; }` but bootstrap.min.css set `[hidden] { display: none !important; }` so we also need the `!important` here to be able to override the default hidden behavior on the sphinx rendered scikit-learn.org. See: https://github.com/scikit-learn/scikit-learn/issues/21755 */display: inline-block !important;position: relative;}#sk-container-id-1 div.sk-text-repr-fallback {display: none;}</style><div id=\"sk-container-id-1\" class=\"sk-top-container\"><div class=\"sk-text-repr-fallback\"><pre>PCA(n_components=10)</pre><b>In a Jupyter environment, please rerun this cell to show the HTML representation or trust the notebook. <br />On GitHub, the HTML representation is unable to render, please try loading this page with nbviewer.org.</b></div><div class=\"sk-container\" hidden><div class=\"sk-item\"><div class=\"sk-estimator sk-toggleable\"><input class=\"sk-toggleable__control sk-hidden--visually\" id=\"sk-estimator-id-1\" type=\"checkbox\" checked><label for=\"sk-estimator-id-1\" class=\"sk-toggleable__label sk-toggleable__label-arrow\">PCA</label><div class=\"sk-toggleable__content\"><pre>PCA(n_components=10)</pre></div></div></div></div></div>"
      ],
      "text/plain": [
       "PCA(n_components=10)"
      ]
     },
     "execution_count": 4,
     "metadata": {},
     "output_type": "execute_result"
    }
   ],
   "source": [
    "# use PCA to estimate the density of the weights\n",
    "pca = PCA(n_components=len(task_vectors))\n",
    "pca.fit(weights.cpu().numpy())"
   ]
  },
  {
   "cell_type": "markdown",
   "metadata": {},
   "source": [
    "## Explained variance"
   ]
  },
  {
   "cell_type": "code",
   "execution_count": 11,
   "metadata": {},
   "outputs": [
    {
     "name": "stderr",
     "output_type": "stream",
     "text": [
      "/home/lisadl/.local/lib/python3.11/site-packages/sklearn/decomposition/_pca.py:543: RuntimeWarning: invalid value encountered in divide\n",
      "  explained_variance_ratio_ = explained_variance_ / total_var\n",
      "/home/lisadl/.local/lib/python3.11/site-packages/sklearn/decomposition/_pca.py:543: RuntimeWarning: invalid value encountered in divide\n",
      "  explained_variance_ratio_ = explained_variance_ / total_var\n",
      "/home/lisadl/.local/lib/python3.11/site-packages/sklearn/decomposition/_pca.py:543: RuntimeWarning: invalid value encountered in divide\n",
      "  explained_variance_ratio_ = explained_variance_ / total_var\n",
      "/home/lisadl/.local/lib/python3.11/site-packages/sklearn/decomposition/_pca.py:543: RuntimeWarning: invalid value encountered in divide\n",
      "  explained_variance_ratio_ = explained_variance_ / total_var\n",
      "/home/lisadl/.local/lib/python3.11/site-packages/sklearn/decomposition/_pca.py:543: RuntimeWarning: invalid value encountered in divide\n",
      "  explained_variance_ratio_ = explained_variance_ / total_var\n",
      "/home/lisadl/.local/lib/python3.11/site-packages/sklearn/decomposition/_pca.py:543: RuntimeWarning: invalid value encountered in divide\n",
      "  explained_variance_ratio_ = explained_variance_ / total_var\n"
     ]
    },
    {
     "data": {
      "text/plain": [
       "{'model.positional_embedding': [0.0, 39424],\n",
       " 'model.text_projection': [0.0, 262144],\n",
       " 'model.logit_scale': [0.0, 1],\n",
       " 'model.visual.class_embedding': [1.6649434e-05, 768],\n",
       " 'model.visual.positional_embedding': [0.028091326, 151296],\n",
       " 'model.visual.proj': [0.015204906, 393216],\n",
       " 'model.visual.conv1.weight': [0.0126811145, 589824],\n",
       " 'model.visual.ln_pre.weight': [5.897691e-05, 768],\n",
       " 'model.visual.ln_pre.bias': [1.3800074e-05, 768],\n",
       " 'model.visual.transformer.resblocks.0.ln_1.weight': [0.00026777905, 768],\n",
       " 'model.visual.transformer.resblocks.0.ln_1.bias': [0.00024356975, 768],\n",
       " 'model.visual.transformer.resblocks.0.attn.in_proj_weight': [0.24871704,\n",
       "  1769472],\n",
       " 'model.visual.transformer.resblocks.0.attn.in_proj_bias': [6.90188e-05, 2304],\n",
       " 'model.visual.transformer.resblocks.0.attn.out_proj.weight': [0.07606186,\n",
       "  589824],\n",
       " 'model.visual.transformer.resblocks.0.attn.out_proj.bias': [1.3387755e-05,\n",
       "  768],\n",
       " 'model.visual.transformer.resblocks.0.ln_2.weight': [6.020749e-05, 768],\n",
       " 'model.visual.transformer.resblocks.0.ln_2.bias': [1.9701216e-05, 768],\n",
       " 'model.visual.transformer.resblocks.0.mlp.c_fc.weight': [0.27846813, 2359296],\n",
       " 'model.visual.transformer.resblocks.0.mlp.c_fc.bias': [0.0001414101, 3072],\n",
       " 'model.visual.transformer.resblocks.0.mlp.c_proj.weight': [0.15669538,\n",
       "  2359296],\n",
       " 'model.visual.transformer.resblocks.0.mlp.c_proj.bias': [3.4704499e-06, 768],\n",
       " 'model.visual.transformer.resblocks.1.ln_1.weight': [6.878512e-05, 768],\n",
       " 'model.visual.transformer.resblocks.1.ln_1.bias': [9.61471e-06, 768],\n",
       " 'model.visual.transformer.resblocks.1.attn.in_proj_weight': [0.21890539,\n",
       "  1769472],\n",
       " 'model.visual.transformer.resblocks.1.attn.in_proj_bias': [4.479858e-05,\n",
       "  2304],\n",
       " 'model.visual.transformer.resblocks.1.attn.out_proj.weight': [0.06389009,\n",
       "  589824],\n",
       " 'model.visual.transformer.resblocks.1.attn.out_proj.bias': [7.8937865e-06,\n",
       "  768],\n",
       " 'model.visual.transformer.resblocks.1.ln_2.weight': [6.954725e-05, 768],\n",
       " 'model.visual.transformer.resblocks.1.ln_2.bias': [8.688445e-06, 768],\n",
       " 'model.visual.transformer.resblocks.1.mlp.c_fc.weight': [0.2570914, 2359296],\n",
       " 'model.visual.transformer.resblocks.1.mlp.c_fc.bias': [9.4314375e-05, 3072],\n",
       " 'model.visual.transformer.resblocks.1.mlp.c_proj.weight': [0.11161303,\n",
       "  2359296],\n",
       " 'model.visual.transformer.resblocks.1.mlp.c_proj.bias': [1.9949853e-06, 768],\n",
       " 'model.visual.transformer.resblocks.2.ln_1.weight': [5.3954944e-05, 768],\n",
       " 'model.visual.transformer.resblocks.2.ln_1.bias': [4.5729976e-06, 768],\n",
       " 'model.visual.transformer.resblocks.2.attn.in_proj_weight': [0.19902109,\n",
       "  1769472],\n",
       " 'model.visual.transformer.resblocks.2.attn.in_proj_bias': [4.13624e-05, 2304],\n",
       " 'model.visual.transformer.resblocks.2.attn.out_proj.weight': [0.04703579,\n",
       "  589824],\n",
       " 'model.visual.transformer.resblocks.2.attn.out_proj.bias': [3.8875746e-06,\n",
       "  768],\n",
       " 'model.visual.transformer.resblocks.2.ln_2.weight': [6.0522365e-05, 768],\n",
       " 'model.visual.transformer.resblocks.2.ln_2.bias': [5.6094664e-06, 768],\n",
       " 'model.visual.transformer.resblocks.2.mlp.c_fc.weight': [0.235016, 2359296],\n",
       " 'model.visual.transformer.resblocks.2.mlp.c_fc.bias': [7.8026984e-05, 3072],\n",
       " 'model.visual.transformer.resblocks.2.mlp.c_proj.weight': [0.10705964,\n",
       "  2359296],\n",
       " 'model.visual.transformer.resblocks.2.mlp.c_proj.bias': [1.878067e-06, 768],\n",
       " 'model.visual.transformer.resblocks.3.ln_1.weight': [5.6874993e-05, 768],\n",
       " 'model.visual.transformer.resblocks.3.ln_1.bias': [5.20499e-06, 768],\n",
       " 'model.visual.transformer.resblocks.3.attn.in_proj_weight': [0.19452208,\n",
       "  1769472],\n",
       " 'model.visual.transformer.resblocks.3.attn.in_proj_bias': [4.242802e-05,\n",
       "  2304],\n",
       " 'model.visual.transformer.resblocks.3.attn.out_proj.weight': [0.04692269,\n",
       "  589824],\n",
       " 'model.visual.transformer.resblocks.3.attn.out_proj.bias': [3.9898837e-06,\n",
       "  768],\n",
       " 'model.visual.transformer.resblocks.3.ln_2.weight': [6.122237e-05, 768],\n",
       " 'model.visual.transformer.resblocks.3.ln_2.bias': [4.676382e-06, 768],\n",
       " 'model.visual.transformer.resblocks.3.mlp.c_fc.weight': [0.23866555, 2359296],\n",
       " 'model.visual.transformer.resblocks.3.mlp.c_fc.bias': [6.276792e-05, 3072],\n",
       " 'model.visual.transformer.resblocks.3.mlp.c_proj.weight': [0.13912427,\n",
       "  2359296],\n",
       " 'model.visual.transformer.resblocks.3.mlp.c_proj.bias': [1.797452e-06, 768],\n",
       " 'model.visual.transformer.resblocks.4.ln_1.weight': [5.2909272e-05, 768],\n",
       " 'model.visual.transformer.resblocks.4.ln_1.bias': [3.5581297e-06, 768],\n",
       " 'model.visual.transformer.resblocks.4.attn.in_proj_weight': [0.19926311,\n",
       "  1769472],\n",
       " 'model.visual.transformer.resblocks.4.attn.in_proj_bias': [4.664588e-05,\n",
       "  2304],\n",
       " 'model.visual.transformer.resblocks.4.attn.out_proj.weight': [0.04547267,\n",
       "  589824],\n",
       " 'model.visual.transformer.resblocks.4.attn.out_proj.bias': [3.8807743e-06,\n",
       "  768],\n",
       " 'model.visual.transformer.resblocks.4.ln_2.weight': [6.496575e-05, 768],\n",
       " 'model.visual.transformer.resblocks.4.ln_2.bias': [5.9452877e-06, 768],\n",
       " 'model.visual.transformer.resblocks.4.mlp.c_fc.weight': [0.25234804, 2359296],\n",
       " 'model.visual.transformer.resblocks.4.mlp.c_fc.bias': [7.950322e-05, 3072],\n",
       " 'model.visual.transformer.resblocks.4.mlp.c_proj.weight': [0.13087396,\n",
       "  2359296],\n",
       " 'model.visual.transformer.resblocks.4.mlp.c_proj.bias': [2.0874133e-06, 768],\n",
       " 'model.visual.transformer.resblocks.5.ln_1.weight': [5.985837e-05, 768],\n",
       " 'model.visual.transformer.resblocks.5.ln_1.bias': [4.680657e-06, 768],\n",
       " 'model.visual.transformer.resblocks.5.attn.in_proj_weight': [0.21120322,\n",
       "  1769472],\n",
       " 'model.visual.transformer.resblocks.5.attn.in_proj_bias': [5.337567e-05,\n",
       "  2304],\n",
       " 'model.visual.transformer.resblocks.5.attn.out_proj.weight': [0.049426727,\n",
       "  589824],\n",
       " 'model.visual.transformer.resblocks.5.attn.out_proj.bias': [4.578072e-06,\n",
       "  768],\n",
       " 'model.visual.transformer.resblocks.5.ln_2.weight': [6.7666115e-05, 768],\n",
       " 'model.visual.transformer.resblocks.5.ln_2.bias': [6.6351777e-06, 768],\n",
       " 'model.visual.transformer.resblocks.5.mlp.c_fc.weight': [0.25727326, 2359296],\n",
       " 'model.visual.transformer.resblocks.5.mlp.c_fc.bias': [8.245498e-05, 3072],\n",
       " 'model.visual.transformer.resblocks.5.mlp.c_proj.weight': [0.12471058,\n",
       "  2359296],\n",
       " 'model.visual.transformer.resblocks.5.mlp.c_proj.bias': [2.0789273e-06, 768],\n",
       " 'model.visual.transformer.resblocks.6.ln_1.weight': [5.6083736e-05, 768],\n",
       " 'model.visual.transformer.resblocks.6.ln_1.bias': [4.066646e-06, 768],\n",
       " 'model.visual.transformer.resblocks.6.attn.in_proj_weight': [0.20738448,\n",
       "  1769472],\n",
       " 'model.visual.transformer.resblocks.6.attn.in_proj_bias': [5.1217834e-05,\n",
       "  2304],\n",
       " 'model.visual.transformer.resblocks.6.attn.out_proj.weight': [0.04810478,\n",
       "  589824],\n",
       " 'model.visual.transformer.resblocks.6.attn.out_proj.bias': [4.727728e-06,\n",
       "  768],\n",
       " 'model.visual.transformer.resblocks.6.ln_2.weight': [7.323163e-05, 768],\n",
       " 'model.visual.transformer.resblocks.6.ln_2.bias': [9.810151e-06, 768],\n",
       " 'model.visual.transformer.resblocks.6.mlp.c_fc.weight': [0.26712814, 2359296],\n",
       " 'model.visual.transformer.resblocks.6.mlp.c_fc.bias': [0.00010309825, 3072],\n",
       " 'model.visual.transformer.resblocks.6.mlp.c_proj.weight': [0.124139935,\n",
       "  2359296],\n",
       " 'model.visual.transformer.resblocks.6.mlp.c_proj.bias': [2.8425484e-06, 768],\n",
       " 'model.visual.transformer.resblocks.7.ln_1.weight': [6.0755352e-05, 768],\n",
       " 'model.visual.transformer.resblocks.7.ln_1.bias': [5.162038e-06, 768],\n",
       " 'model.visual.transformer.resblocks.7.attn.in_proj_weight': [0.19951762,\n",
       "  1769472],\n",
       " 'model.visual.transformer.resblocks.7.attn.in_proj_bias': [4.7539066e-05,\n",
       "  2304],\n",
       " 'model.visual.transformer.resblocks.7.attn.out_proj.weight': [0.04545494,\n",
       "  589824],\n",
       " 'model.visual.transformer.resblocks.7.attn.out_proj.bias': [5.24278e-06, 768],\n",
       " 'model.visual.transformer.resblocks.7.ln_2.weight': [7.2517156e-05, 768],\n",
       " 'model.visual.transformer.resblocks.7.ln_2.bias': [1.1935126e-05, 768],\n",
       " 'model.visual.transformer.resblocks.7.mlp.c_fc.weight': [0.2659223, 2359296],\n",
       " 'model.visual.transformer.resblocks.7.mlp.c_fc.bias': [0.0001173463, 3072],\n",
       " 'model.visual.transformer.resblocks.7.mlp.c_proj.weight': [0.12455787,\n",
       "  2359296],\n",
       " 'model.visual.transformer.resblocks.7.mlp.c_proj.bias': [3.54534e-06, 768],\n",
       " 'model.visual.transformer.resblocks.8.ln_1.weight': [5.962873e-05, 768],\n",
       " 'model.visual.transformer.resblocks.8.ln_1.bias': [5.8632577e-06, 768],\n",
       " 'model.visual.transformer.resblocks.8.attn.in_proj_weight': [0.19566074,\n",
       "  1769472],\n",
       " 'model.visual.transformer.resblocks.8.attn.in_proj_bias': [4.8601574e-05,\n",
       "  2304],\n",
       " 'model.visual.transformer.resblocks.8.attn.out_proj.weight': [0.045470346,\n",
       "  589824],\n",
       " 'model.visual.transformer.resblocks.8.attn.out_proj.bias': [5.8698924e-06,\n",
       "  768],\n",
       " 'model.visual.transformer.resblocks.8.ln_2.weight': [6.6336295e-05, 768],\n",
       " 'model.visual.transformer.resblocks.8.ln_2.bias': [1.251621e-05, 768],\n",
       " 'model.visual.transformer.resblocks.8.mlp.c_fc.weight': [0.28784382, 2359296],\n",
       " 'model.visual.transformer.resblocks.8.mlp.c_fc.bias': [0.00016663891, 3072],\n",
       " 'model.visual.transformer.resblocks.8.mlp.c_proj.weight': [0.16393393,\n",
       "  2359296],\n",
       " 'model.visual.transformer.resblocks.8.mlp.c_proj.bias': [5.5503497e-06, 768],\n",
       " 'model.visual.transformer.resblocks.9.ln_1.weight': [5.6412166e-05, 768],\n",
       " 'model.visual.transformer.resblocks.9.ln_1.bias': [7.073296e-06, 768],\n",
       " 'model.visual.transformer.resblocks.9.attn.in_proj_weight': [0.18528472,\n",
       "  1769472],\n",
       " 'model.visual.transformer.resblocks.9.attn.in_proj_bias': [5.0520557e-05,\n",
       "  2304],\n",
       " 'model.visual.transformer.resblocks.9.attn.out_proj.weight': [0.04228904,\n",
       "  589824],\n",
       " 'model.visual.transformer.resblocks.9.attn.out_proj.bias': [7.608758e-06,\n",
       "  768],\n",
       " 'model.visual.transformer.resblocks.9.ln_2.weight': [5.660156e-05, 768],\n",
       " 'model.visual.transformer.resblocks.9.ln_2.bias': [1.1777049e-05, 768],\n",
       " 'model.visual.transformer.resblocks.9.mlp.c_fc.weight': [0.32982472, 2359296],\n",
       " 'model.visual.transformer.resblocks.9.mlp.c_fc.bias': [0.00021293957, 3072],\n",
       " 'model.visual.transformer.resblocks.9.mlp.c_proj.weight': [0.23646653,\n",
       "  2359296],\n",
       " 'model.visual.transformer.resblocks.9.mlp.c_proj.bias': [9.584653e-06, 768],\n",
       " 'model.visual.transformer.resblocks.10.ln_1.weight': [5.9326878e-05, 768],\n",
       " 'model.visual.transformer.resblocks.10.ln_1.bias': [9.763836e-06, 768],\n",
       " 'model.visual.transformer.resblocks.10.attn.in_proj_weight': [0.17048617,\n",
       "  1769472],\n",
       " 'model.visual.transformer.resblocks.10.attn.in_proj_bias': [5.1891686e-05,\n",
       "  2304],\n",
       " 'model.visual.transformer.resblocks.10.attn.out_proj.weight': [0.04329763,\n",
       "  589824],\n",
       " 'model.visual.transformer.resblocks.10.attn.out_proj.bias': [8.724293e-06,\n",
       "  768],\n",
       " 'model.visual.transformer.resblocks.10.ln_2.weight': [5.7945865e-05, 768],\n",
       " 'model.visual.transformer.resblocks.10.ln_2.bias': [1.6262129e-05, 768],\n",
       " 'model.visual.transformer.resblocks.10.mlp.c_fc.weight': [0.3128708, 2359296],\n",
       " 'model.visual.transformer.resblocks.10.mlp.c_fc.bias': [0.00019791217, 3072],\n",
       " 'model.visual.transformer.resblocks.10.mlp.c_proj.weight': [0.20064399,\n",
       "  2359296],\n",
       " 'model.visual.transformer.resblocks.10.mlp.c_proj.bias': [4.8911593e-06, 768],\n",
       " 'model.visual.transformer.resblocks.11.ln_1.weight': [3.848228e-05, 768],\n",
       " 'model.visual.transformer.resblocks.11.ln_1.bias': [2.6958594e-06, 768],\n",
       " 'model.visual.transformer.resblocks.11.attn.in_proj_weight': [0.18308458,\n",
       "  1769472],\n",
       " 'model.visual.transformer.resblocks.11.attn.in_proj_bias': [3.9003797e-05,\n",
       "  2304],\n",
       " 'model.visual.transformer.resblocks.11.attn.out_proj.weight': [0.03138891,\n",
       "  589824],\n",
       " 'model.visual.transformer.resblocks.11.attn.out_proj.bias': [2.9905962e-06,\n",
       "  768],\n",
       " 'model.visual.transformer.resblocks.11.ln_2.weight': [5.331815e-05, 768],\n",
       " 'model.visual.transformer.resblocks.11.ln_2.bias': [1.7430684e-05, 768],\n",
       " 'model.visual.transformer.resblocks.11.mlp.c_fc.weight': [0.20066014,\n",
       "  2359296],\n",
       " 'model.visual.transformer.resblocks.11.mlp.c_fc.bias': [0.00011959487, 3072],\n",
       " 'model.visual.transformer.resblocks.11.mlp.c_proj.weight': [0.05568878,\n",
       "  2359296],\n",
       " 'model.visual.transformer.resblocks.11.mlp.c_proj.bias': [1.5896663e-06, 768],\n",
       " 'model.visual.ln_post.weight': [2.8301763e-05, 768],\n",
       " 'model.visual.ln_post.bias': [1.5494762e-06, 768],\n",
       " 'model.token_embedding.weight': [0.0, 25296896],\n",
       " 'model.ln_final.weight': [0.0, 512],\n",
       " 'model.ln_final.bias': [0.0, 512]}"
      ]
     },
     "execution_count": 11,
     "metadata": {},
     "output_type": "execute_result"
    }
   ],
   "source": [
    "# for each layer in tv.vector, compute the PCA of the weights and store the explained variance\n",
    "explained_variance = {}\n",
    "for layer in task_vectors[0].vector.keys():\n",
    "    weights = torch.stack([tv.vector[layer] for tv in task_vectors])\n",
    "    weights = weights.reshape(len(task_vectors), -1)\n",
    "    pca = PCA(n_components=min(len(task_vectors), weights.shape[1]))\n",
    "    pca.fit(weights.cpu().numpy())\n",
    "    explained_variance[layer] = [pca.explained_variance_.sum(), weights.shape[1]]\n",
    "\n",
    "explained_variance"
   ]
  },
  {
   "cell_type": "markdown",
   "metadata": {},
   "source": [
    "## Weights Sampling"
   ]
  },
  {
   "cell_type": "code",
   "execution_count": 6,
   "metadata": {},
   "outputs": [],
   "source": [
    "pca.explained_variance_.cumsum()\n",
    "\n",
    "# generate weights using the principal components\n",
    "from numpy.random import randn\n",
    "\n",
    "n_samples = 1\n",
    "n_components = 10\n",
    "\n",
    "samples = pca.inverse_transform(randn(n_samples, n_components))"
   ]
  },
  {
   "cell_type": "code",
   "execution_count": 7,
   "metadata": {},
   "outputs": [
    {
     "data": {
      "text/plain": [
       "(1, 589824)"
      ]
     },
     "execution_count": 7,
     "metadata": {},
     "output_type": "execute_result"
    }
   ],
   "source": [
    "samples.shape"
   ]
  }
 ],
 "metadata": {
  "kernelspec": {
   "display_name": "Python 3",
   "language": "python",
   "name": "python3"
  },
  "language_info": {
   "codemirror_mode": {
    "name": "ipython",
    "version": 3
   },
   "file_extension": ".py",
   "mimetype": "text/x-python",
   "name": "python",
   "nbconvert_exporter": "python",
   "pygments_lexer": "ipython3",
   "version": "3.11.8"
  }
 },
 "nbformat": 4,
 "nbformat_minor": 2
}
